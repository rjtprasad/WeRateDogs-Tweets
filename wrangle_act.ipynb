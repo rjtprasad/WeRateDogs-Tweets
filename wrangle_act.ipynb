{
 "cells": [
  {
   "cell_type": "markdown",
   "metadata": {},
   "source": [
    "# WeRateDogs Tweets"
   ]
  },
  {
   "cell_type": "markdown",
   "metadata": {},
   "source": [
    "The goal of this project is to wrangle tweets from **WeRateDogs** Twitter's account and create interesting and trustworthy analysis & visualizations by using Python and document whole process."
   ]
  },
  {
   "cell_type": "markdown",
   "metadata": {},
   "source": [
    "## Table of Contents\n",
    "- [Data Gathering](#gather)\n",
    "- [Assessing Data](#asses)\n",
    "- [Data Cleaning](#clean)\n",
    "- [Storing Data](#store)\n",
    "- [Analyzing and Visualizing Data](#analyze)"
   ]
  },
  {
   "cell_type": "code",
   "execution_count": 1,
   "metadata": {},
   "outputs": [],
   "source": [
    "# importing libraries\n",
    "import numpy as np\n",
    "import pandas as pd\n",
    "import matplotlib.pyplot as plt\n",
    "import seaborn as sns\n",
    "import requests\n",
    "import tweepy\n",
    "import json\n",
    "import re\n",
    "from bs4 import BeautifulSoup\n",
    "import missingno as msno\n",
    "\n",
    "%matplotlib inline"
   ]
  },
  {
   "cell_type": "markdown",
   "metadata": {},
   "source": [
    "<a id='gather'></a>\n",
    "## Data Gathering\n",
    "Data Gathering is the first step in data wrangling process. For this project I gather data from three different sources.\n",
    "1. First dataset is about tweets of the WeRateDogs twitter account from 2015 to 2017 available on kaggle.\n",
    "2. Second dataset is about the result of the machine learning algorithm performed on the images from the WeRateDogs account available on kaggle.\n",
    "3. Third dataset contains retweet and favorite count which I web scrapped off Twitter using its Tweepy API. "
   ]
  },
  {
   "cell_type": "markdown",
   "metadata": {},
   "source": [
    "**Gathering WeRateDogs Twitter Archive**"
   ]
  },
  {
   "cell_type": "code",
   "execution_count": 2,
   "metadata": {},
   "outputs": [],
   "source": [
    "# reading 'twitter-archive-enhanced' dataset\n",
    "twitter_archived = pd.read_csv('twitter-archive-enhanced.csv')"
   ]
  },
  {
   "cell_type": "markdown",
   "metadata": {},
   "source": [
    "**Gathering Tweet Image Predictions**"
   ]
  },
  {
   "cell_type": "code",
   "execution_count": 3,
   "metadata": {},
   "outputs": [],
   "source": [
    "# url for tweet image prediction file\n",
    "url = \"https://d17h27t6h515a5.cloudfront.net/topher/2017/August/599fd2ad_image-predictions/image-predictions.tsv\"\n",
    "\n",
    "# name of file\n",
    "filename = 'image-predictions.tsv'\n",
    "\n",
    "response = requests.get(url)\n",
    "\n",
    "# writing response content to file\n",
    "with open(filename, mode='wb') as file:\n",
    "    file.write(response.content)"
   ]
  },
  {
   "cell_type": "code",
   "execution_count": 4,
   "metadata": {},
   "outputs": [],
   "source": [
    "# reading 'image-predictions.tsv' dataset\n",
    "img_prediction = pd.read_csv('image-predictions.tsv', sep='\\t')"
   ]
  },
  {
   "cell_type": "markdown",
   "metadata": {},
   "source": [
    "**Gathering Data From Twitter API**"
   ]
  },
  {
   "cell_type": "code",
   "execution_count": 5,
   "metadata": {},
   "outputs": [],
   "source": [
    "# importing tweepy library\n",
    "import tweepy\n",
    "\n",
    "# secret and public keys\n",
    "consumer_key = '###################'\n",
    "consumer_secret = '###################'\n",
    "access_token = '###################'\n",
    "access_secret = '###################'\n",
    "\n",
    "\n",
    "try:\n",
    "    auth = tweepy.OAuthHandler(consumer_key, consumer_secret)\n",
    "    auth.set_access_token(access_token, access_secret)\n",
    "\n",
    "except tweepy.TweepError as e:\n",
    "    print(e.message)\n",
    "    \n",
    "\n",
    "api = tweepy.API(auth,\n",
    "                 parser=tweepy.parsers.JSONParser(),\n",
    "                 wait_on_rate_limit=True,\n",
    "                 wait_on_rate_limit_notify=True)"
   ]
  },
  {
   "cell_type": "code",
   "execution_count": 6,
   "metadata": {},
   "outputs": [
    {
     "name": "stdout",
     "output_type": "stream",
     "text": [
      "888202515573088257 : [{'code': 144, 'message': 'No status found with that ID.'}]\n",
      "873697596434513921 : [{'code': 144, 'message': 'No status found with that ID.'}]\n",
      "872668790621863937 : [{'code': 144, 'message': 'No status found with that ID.'}]\n",
      "872261713294495745 : [{'code': 144, 'message': 'No status found with that ID.'}]\n",
      "869988702071779329 : [{'code': 144, 'message': 'No status found with that ID.'}]\n",
      "866816280283807744 : [{'code': 144, 'message': 'No status found with that ID.'}]\n",
      "861769973181624320 : [{'code': 144, 'message': 'No status found with that ID.'}]\n",
      "856602993587888130 : [{'code': 144, 'message': 'No status found with that ID.'}]\n",
      "851953902622658560 : [{'code': 144, 'message': 'No status found with that ID.'}]\n",
      "845459076796616705 : [{'code': 144, 'message': 'No status found with that ID.'}]\n",
      "844704788403113984 : [{'code': 144, 'message': 'No status found with that ID.'}]\n",
      "842892208864923648 : [{'code': 144, 'message': 'No status found with that ID.'}]\n",
      "837366284874571778 : [{'code': 144, 'message': 'No status found with that ID.'}]\n",
      "837012587749474308 : [{'code': 144, 'message': 'No status found with that ID.'}]\n",
      "829374341691346946 : [{'code': 144, 'message': 'No status found with that ID.'}]\n",
      "827228250799742977 : [{'code': 144, 'message': 'No status found with that ID.'}]\n",
      "812747805718642688 : [{'code': 144, 'message': 'No status found with that ID.'}]\n",
      "802247111496568832 : [{'code': 144, 'message': 'No status found with that ID.'}]\n",
      "779123168116150273 : [{'code': 144, 'message': 'No status found with that ID.'}]\n",
      "775096608509886464 : [{'code': 144, 'message': 'No status found with that ID.'}]\n",
      "771004394259247104 : [{'code': 179, 'message': 'Sorry, you are not authorized to see this status.'}]\n",
      "770743923962707968 : [{'code': 144, 'message': 'No status found with that ID.'}]\n",
      "759566828574212096 : [{'code': 144, 'message': 'No status found with that ID.'}]\n"
     ]
    },
    {
     "name": "stderr",
     "output_type": "stream",
     "text": [
      "Rate limit reached. Sleeping for: 13\n"
     ]
    },
    {
     "name": "stdout",
     "output_type": "stream",
     "text": [
      "754011816964026368 : [{'code': 144, 'message': 'No status found with that ID.'}]\n",
      "680055455951884288 : [{'code': 144, 'message': 'No status found with that ID.'}]\n"
     ]
    },
    {
     "name": "stderr",
     "output_type": "stream",
     "text": [
      "Rate limit reached. Sleeping for: 96\n"
     ]
    },
    {
     "name": "stdout",
     "output_type": "stream",
     "text": [
      "Number of tweet ids whose data collected correctly:2331\n",
      "Number of error:25\n"
     ]
    }
   ],
   "source": [
    "tweets = twitter_archived['tweet_id']\n",
    "\n",
    "tweets_data = []\n",
    "tweets_error = []\n",
    "\n",
    "for id in tweets:\n",
    "    try:\n",
    "        page = api.get_status(id, tweet_mode='extended')\n",
    "        \n",
    "        tweets_data.append({'tweet_id':page['id'],\n",
    "                            'created_at':page['created_at'],\n",
    "                            'favorite_count':page['favorite_count'],\n",
    "                            'retweet_count':page['retweet_count']})\n",
    "    \n",
    "    except tweepy.TweepError as e:\n",
    "        print('{} : {}'.format(id, e)) \n",
    "        tweets_error.append(id)\n",
    "            \n",
    "print('Number of tweet ids whose data collected correctly:{}'.format(len(tweets_data)))\n",
    "print('Number of error:{}'.format(len(tweets_error)))"
   ]
  },
  {
   "cell_type": "code",
   "execution_count": 110,
   "metadata": {},
   "outputs": [
    {
     "name": "stdout",
     "output_type": "stream",
     "text": [
      "Done!!!\n"
     ]
    }
   ],
   "source": [
    "# writing tweets data to json file\n",
    "json.dump(tweets_data,open('tweet_json.txt', 'w', encoding=\"utf8\"), ensure_ascii=False, indent=4)\n",
    "\n",
    "print('Done!!!')"
   ]
  },
  {
   "cell_type": "code",
   "execution_count": 111,
   "metadata": {},
   "outputs": [],
   "source": [
    "# reading json file into pandas dataframe\n",
    "with open('tweet_json.txt','r') as file:\n",
    "    data = json.load(file)\n",
    "\n",
    "tweet_df = pd.DataFrame(data)"
   ]
  },
  {
   "cell_type": "markdown",
   "metadata": {},
   "source": [
    "<a id='asses'></a>\n",
    "## Assessing Data\n",
    "\n",
    "Assessing data is the second step in the data wrangling process. In this step I assess the data quality and tidiness issues by visually and programmatically. "
   ]
  },
  {
   "cell_type": "markdown",
   "metadata": {},
   "source": [
    "**Assessing twitter_archived dataset**"
   ]
  },
  {
   "cell_type": "code",
   "execution_count": 9,
   "metadata": {},
   "outputs": [
    {
     "data": {
      "text/html": [
       "<div>\n",
       "<style scoped>\n",
       "    .dataframe tbody tr th:only-of-type {\n",
       "        vertical-align: middle;\n",
       "    }\n",
       "\n",
       "    .dataframe tbody tr th {\n",
       "        vertical-align: top;\n",
       "    }\n",
       "\n",
       "    .dataframe thead th {\n",
       "        text-align: right;\n",
       "    }\n",
       "</style>\n",
       "<table border=\"1\" class=\"dataframe\">\n",
       "  <thead>\n",
       "    <tr style=\"text-align: right;\">\n",
       "      <th></th>\n",
       "      <th>tweet_id</th>\n",
       "      <th>in_reply_to_status_id</th>\n",
       "      <th>in_reply_to_user_id</th>\n",
       "      <th>timestamp</th>\n",
       "      <th>source</th>\n",
       "      <th>text</th>\n",
       "      <th>retweeted_status_id</th>\n",
       "      <th>retweeted_status_user_id</th>\n",
       "      <th>retweeted_status_timestamp</th>\n",
       "      <th>expanded_urls</th>\n",
       "      <th>rating_numerator</th>\n",
       "      <th>rating_denominator</th>\n",
       "      <th>name</th>\n",
       "      <th>doggo</th>\n",
       "      <th>floofer</th>\n",
       "      <th>pupper</th>\n",
       "      <th>puppo</th>\n",
       "    </tr>\n",
       "  </thead>\n",
       "  <tbody>\n",
       "    <tr>\n",
       "      <th>0</th>\n",
       "      <td>892420643555336193</td>\n",
       "      <td>NaN</td>\n",
       "      <td>NaN</td>\n",
       "      <td>2017-08-01 16:23:56 +0000</td>\n",
       "      <td>&lt;a href=\"http://twitter.com/download/iphone\" r...</td>\n",
       "      <td>This is Phineas. He's a mystical boy. Only eve...</td>\n",
       "      <td>NaN</td>\n",
       "      <td>NaN</td>\n",
       "      <td>NaN</td>\n",
       "      <td>https://twitter.com/dog_rates/status/892420643...</td>\n",
       "      <td>13</td>\n",
       "      <td>10</td>\n",
       "      <td>Phineas</td>\n",
       "      <td>None</td>\n",
       "      <td>None</td>\n",
       "      <td>None</td>\n",
       "      <td>None</td>\n",
       "    </tr>\n",
       "    <tr>\n",
       "      <th>1</th>\n",
       "      <td>892177421306343426</td>\n",
       "      <td>NaN</td>\n",
       "      <td>NaN</td>\n",
       "      <td>2017-08-01 00:17:27 +0000</td>\n",
       "      <td>&lt;a href=\"http://twitter.com/download/iphone\" r...</td>\n",
       "      <td>This is Tilly. She's just checking pup on you....</td>\n",
       "      <td>NaN</td>\n",
       "      <td>NaN</td>\n",
       "      <td>NaN</td>\n",
       "      <td>https://twitter.com/dog_rates/status/892177421...</td>\n",
       "      <td>13</td>\n",
       "      <td>10</td>\n",
       "      <td>Tilly</td>\n",
       "      <td>None</td>\n",
       "      <td>None</td>\n",
       "      <td>None</td>\n",
       "      <td>None</td>\n",
       "    </tr>\n",
       "    <tr>\n",
       "      <th>2</th>\n",
       "      <td>891815181378084864</td>\n",
       "      <td>NaN</td>\n",
       "      <td>NaN</td>\n",
       "      <td>2017-07-31 00:18:03 +0000</td>\n",
       "      <td>&lt;a href=\"http://twitter.com/download/iphone\" r...</td>\n",
       "      <td>This is Archie. He is a rare Norwegian Pouncin...</td>\n",
       "      <td>NaN</td>\n",
       "      <td>NaN</td>\n",
       "      <td>NaN</td>\n",
       "      <td>https://twitter.com/dog_rates/status/891815181...</td>\n",
       "      <td>12</td>\n",
       "      <td>10</td>\n",
       "      <td>Archie</td>\n",
       "      <td>None</td>\n",
       "      <td>None</td>\n",
       "      <td>None</td>\n",
       "      <td>None</td>\n",
       "    </tr>\n",
       "    <tr>\n",
       "      <th>3</th>\n",
       "      <td>891689557279858688</td>\n",
       "      <td>NaN</td>\n",
       "      <td>NaN</td>\n",
       "      <td>2017-07-30 15:58:51 +0000</td>\n",
       "      <td>&lt;a href=\"http://twitter.com/download/iphone\" r...</td>\n",
       "      <td>This is Darla. She commenced a snooze mid meal...</td>\n",
       "      <td>NaN</td>\n",
       "      <td>NaN</td>\n",
       "      <td>NaN</td>\n",
       "      <td>https://twitter.com/dog_rates/status/891689557...</td>\n",
       "      <td>13</td>\n",
       "      <td>10</td>\n",
       "      <td>Darla</td>\n",
       "      <td>None</td>\n",
       "      <td>None</td>\n",
       "      <td>None</td>\n",
       "      <td>None</td>\n",
       "    </tr>\n",
       "    <tr>\n",
       "      <th>4</th>\n",
       "      <td>891327558926688256</td>\n",
       "      <td>NaN</td>\n",
       "      <td>NaN</td>\n",
       "      <td>2017-07-29 16:00:24 +0000</td>\n",
       "      <td>&lt;a href=\"http://twitter.com/download/iphone\" r...</td>\n",
       "      <td>This is Franklin. He would like you to stop ca...</td>\n",
       "      <td>NaN</td>\n",
       "      <td>NaN</td>\n",
       "      <td>NaN</td>\n",
       "      <td>https://twitter.com/dog_rates/status/891327558...</td>\n",
       "      <td>12</td>\n",
       "      <td>10</td>\n",
       "      <td>Franklin</td>\n",
       "      <td>None</td>\n",
       "      <td>None</td>\n",
       "      <td>None</td>\n",
       "      <td>None</td>\n",
       "    </tr>\n",
       "  </tbody>\n",
       "</table>\n",
       "</div>"
      ],
      "text/plain": [
       "             tweet_id  in_reply_to_status_id  in_reply_to_user_id  \\\n",
       "0  892420643555336193                    NaN                  NaN   \n",
       "1  892177421306343426                    NaN                  NaN   \n",
       "2  891815181378084864                    NaN                  NaN   \n",
       "3  891689557279858688                    NaN                  NaN   \n",
       "4  891327558926688256                    NaN                  NaN   \n",
       "\n",
       "                   timestamp  \\\n",
       "0  2017-08-01 16:23:56 +0000   \n",
       "1  2017-08-01 00:17:27 +0000   \n",
       "2  2017-07-31 00:18:03 +0000   \n",
       "3  2017-07-30 15:58:51 +0000   \n",
       "4  2017-07-29 16:00:24 +0000   \n",
       "\n",
       "                                              source  \\\n",
       "0  <a href=\"http://twitter.com/download/iphone\" r...   \n",
       "1  <a href=\"http://twitter.com/download/iphone\" r...   \n",
       "2  <a href=\"http://twitter.com/download/iphone\" r...   \n",
       "3  <a href=\"http://twitter.com/download/iphone\" r...   \n",
       "4  <a href=\"http://twitter.com/download/iphone\" r...   \n",
       "\n",
       "                                                text  retweeted_status_id  \\\n",
       "0  This is Phineas. He's a mystical boy. Only eve...                  NaN   \n",
       "1  This is Tilly. She's just checking pup on you....                  NaN   \n",
       "2  This is Archie. He is a rare Norwegian Pouncin...                  NaN   \n",
       "3  This is Darla. She commenced a snooze mid meal...                  NaN   \n",
       "4  This is Franklin. He would like you to stop ca...                  NaN   \n",
       "\n",
       "   retweeted_status_user_id retweeted_status_timestamp  \\\n",
       "0                       NaN                        NaN   \n",
       "1                       NaN                        NaN   \n",
       "2                       NaN                        NaN   \n",
       "3                       NaN                        NaN   \n",
       "4                       NaN                        NaN   \n",
       "\n",
       "                                       expanded_urls  rating_numerator  \\\n",
       "0  https://twitter.com/dog_rates/status/892420643...                13   \n",
       "1  https://twitter.com/dog_rates/status/892177421...                13   \n",
       "2  https://twitter.com/dog_rates/status/891815181...                12   \n",
       "3  https://twitter.com/dog_rates/status/891689557...                13   \n",
       "4  https://twitter.com/dog_rates/status/891327558...                12   \n",
       "\n",
       "   rating_denominator      name doggo floofer pupper puppo  \n",
       "0                  10   Phineas  None    None   None  None  \n",
       "1                  10     Tilly  None    None   None  None  \n",
       "2                  10    Archie  None    None   None  None  \n",
       "3                  10     Darla  None    None   None  None  \n",
       "4                  10  Franklin  None    None   None  None  "
      ]
     },
     "execution_count": 9,
     "metadata": {},
     "output_type": "execute_result"
    }
   ],
   "source": [
    "# looking twitter_archived table\n",
    "twitter_archived.head()"
   ]
  },
  {
   "cell_type": "markdown",
   "metadata": {},
   "source": [
    "|Column Names|Description|\n",
    "|:---|:---|\n",
    "|tweet_id|Unique identifier for Tweets.|\n",
    "|in_reply_to_status_id|Representes Tweet is a replied. Contains the string representation of the original Tweet’s ID.|\n",
    "|in_reply_to_user_id|Representes Tweet is a replied. Contains the integer representation of the original Tweet’s author ID.|\n",
    "|timestamp|Date and time when the tweet get created.|\n",
    "|source|Utility used to post the Tweets.|\n",
    "|text|Shows status update.|\n",
    "|retweeted_status_id|Unique id assigned for the retweeted messages.|\n",
    "|retweeted_status_user_id|Id of the user who retweeted the message.|\n",
    "|retweeted_status_timestamp|Time when the original tweet was retweeted.|\n",
    "|expanded_urls|Links to the media display page.|\n",
    "|rating_numerator|Numerator part of rating.|\n",
    "|rating_denominator|Denominator part of rating.|\n",
    "|name|The name of the user. Not necessarily a person’s name.|\n",
    "|doggo|Dog Stage|\n",
    "|floofer|Dog Stage|\n",
    "|pupper|Dog Stage|\n",
    "|puppo|Dog Stage|\n"
   ]
  },
  {
   "cell_type": "code",
   "execution_count": 10,
   "metadata": {},
   "outputs": [
    {
     "data": {
      "image/png": "[encoded data removed]",
      "text/plain": [
       "<Figure size 1800x720 with 2 Axes>"
      ]
     },
     "metadata": {
      "needs_background": "light"
     },
     "output_type": "display_data"
    }
   ],
   "source": [
    "msno.matrix(twitter_archived);"
   ]
  },
  {
   "cell_type": "code",
   "execution_count": 11,
   "metadata": {},
   "outputs": [
    {
     "name": "stdout",
     "output_type": "stream",
     "text": [
      "<class 'pandas.core.frame.DataFrame'>\n",
      "RangeIndex: 2356 entries, 0 to 2355\n",
      "Data columns (total 17 columns):\n",
      "tweet_id                      2356 non-null int64\n",
      "in_reply_to_status_id         78 non-null float64\n",
      "in_reply_to_user_id           78 non-null float64\n",
      "timestamp                     2356 non-null object\n",
      "source                        2356 non-null object\n",
      "text                          2356 non-null object\n",
      "retweeted_status_id           181 non-null float64\n",
      "retweeted_status_user_id      181 non-null float64\n",
      "retweeted_status_timestamp    181 non-null object\n",
      "expanded_urls                 2297 non-null object\n",
      "rating_numerator              2356 non-null int64\n",
      "rating_denominator            2356 non-null int64\n",
      "name                          2356 non-null object\n",
      "doggo                         2356 non-null object\n",
      "floofer                       2356 non-null object\n",
      "pupper                        2356 non-null object\n",
      "puppo                         2356 non-null object\n",
      "dtypes: float64(4), int64(3), object(10)\n",
      "memory usage: 313.0+ KB\n"
     ]
    }
   ],
   "source": [
    "# viewing concise information about twitter_archived table\n",
    "twitter_archived.info()"
   ]
  },
  {
   "cell_type": "code",
   "execution_count": 12,
   "metadata": {},
   "outputs": [
    {
     "data": {
      "text/plain": [
       "tweet_id                         0\n",
       "in_reply_to_status_id         2278\n",
       "in_reply_to_user_id           2278\n",
       "timestamp                        0\n",
       "source                           0\n",
       "text                             0\n",
       "retweeted_status_id           2175\n",
       "retweeted_status_user_id      2175\n",
       "retweeted_status_timestamp    2175\n",
       "expanded_urls                   59\n",
       "rating_numerator                 0\n",
       "rating_denominator               0\n",
       "name                             0\n",
       "doggo                            0\n",
       "floofer                          0\n",
       "pupper                           0\n",
       "puppo                            0\n",
       "dtype: int64"
      ]
     },
     "execution_count": 12,
     "metadata": {},
     "output_type": "execute_result"
    }
   ],
   "source": [
    "twitter_archived.isnull().sum()"
   ]
  },
  {
   "cell_type": "code",
   "execution_count": 13,
   "metadata": {
    "scrolled": true
   },
   "outputs": [
    {
     "data": {
      "text/plain": [
       "137"
      ]
     },
     "execution_count": 13,
     "metadata": {},
     "output_type": "execute_result"
    }
   ],
   "source": [
    "twitter_archived['expanded_urls'].duplicated().sum()"
   ]
  },
  {
   "cell_type": "code",
   "execution_count": 14,
   "metadata": {},
   "outputs": [
    {
     "data": {
      "text/plain": [
       "count    2356.000000\n",
       "mean       13.126486\n",
       "std        45.876648\n",
       "min         0.000000\n",
       "25%        10.000000\n",
       "50%        11.000000\n",
       "75%        12.000000\n",
       "max      1776.000000\n",
       "Name: rating_numerator, dtype: float64"
      ]
     },
     "execution_count": 14,
     "metadata": {},
     "output_type": "execute_result"
    }
   ],
   "source": [
    "twitter_archived['rating_numerator'].describe()"
   ]
  },
  {
   "cell_type": "code",
   "execution_count": 15,
   "metadata": {},
   "outputs": [
    {
     "data": {
      "text/plain": [
       "12      558\n",
       "11      464\n",
       "10      461\n",
       "13      351\n",
       "9       158\n",
       "8       102\n",
       "7        55\n",
       "14       54\n",
       "5        37\n",
       "6        32\n",
       "3        19\n",
       "4        17\n",
       "1         9\n",
       "2         9\n",
       "420       2\n",
       "0         2\n",
       "15        2\n",
       "75        2\n",
       "80        1\n",
       "20        1\n",
       "24        1\n",
       "26        1\n",
       "44        1\n",
       "50        1\n",
       "60        1\n",
       "165       1\n",
       "84        1\n",
       "88        1\n",
       "144       1\n",
       "182       1\n",
       "143       1\n",
       "666       1\n",
       "960       1\n",
       "1776      1\n",
       "17        1\n",
       "27        1\n",
       "45        1\n",
       "99        1\n",
       "121       1\n",
       "204       1\n",
       "Name: rating_numerator, dtype: int64"
      ]
     },
     "execution_count": 15,
     "metadata": {},
     "output_type": "execute_result"
    }
   ],
   "source": [
    "twitter_archived['rating_numerator'].value_counts()"
   ]
  },
  {
   "cell_type": "code",
   "execution_count": 16,
   "metadata": {},
   "outputs": [
    {
     "data": {
      "text/plain": [
       "count    2356.000000\n",
       "mean       10.455433\n",
       "std         6.745237\n",
       "min         0.000000\n",
       "25%        10.000000\n",
       "50%        10.000000\n",
       "75%        10.000000\n",
       "max       170.000000\n",
       "Name: rating_denominator, dtype: float64"
      ]
     },
     "execution_count": 16,
     "metadata": {},
     "output_type": "execute_result"
    }
   ],
   "source": [
    "twitter_archived['rating_denominator'].describe()"
   ]
  },
  {
   "cell_type": "code",
   "execution_count": 17,
   "metadata": {},
   "outputs": [
    {
     "data": {
      "text/plain": [
       "10     2333\n",
       "11        3\n",
       "50        3\n",
       "80        2\n",
       "20        2\n",
       "2         1\n",
       "16        1\n",
       "40        1\n",
       "70        1\n",
       "15        1\n",
       "90        1\n",
       "110       1\n",
       "120       1\n",
       "130       1\n",
       "150       1\n",
       "170       1\n",
       "7         1\n",
       "0         1\n",
       "Name: rating_denominator, dtype: int64"
      ]
     },
     "execution_count": 17,
     "metadata": {},
     "output_type": "execute_result"
    }
   ],
   "source": [
    "twitter_archived['rating_denominator'].value_counts()"
   ]
  },
  {
   "cell_type": "code",
   "execution_count": 18,
   "metadata": {},
   "outputs": [
    {
     "data": {
      "text/plain": [
       "None            745\n",
       "a                55\n",
       "Charlie          12\n",
       "Oliver           11\n",
       "Cooper           11\n",
       "Lucy             11\n",
       "Lola             10\n",
       "Penny            10\n",
       "Tucker           10\n",
       "Bo                9\n",
       "Winston           9\n",
       "the               8\n",
       "Sadie             8\n",
       "Toby              7\n",
       "an                7\n",
       "Daisy             7\n",
       "Bailey            7\n",
       "Buddy             7\n",
       "Koda              6\n",
       "Jack              6\n",
       "Oscar             6\n",
       "Bella             6\n",
       "Milo              6\n",
       "Stanley           6\n",
       "Dave              6\n",
       "Jax               6\n",
       "Scout             6\n",
       "Rusty             6\n",
       "Leo               6\n",
       "Sunny             5\n",
       "               ... \n",
       "Remus             1\n",
       "Ziva              1\n",
       "Angel             1\n",
       "Goose             1\n",
       "Chase             1\n",
       "Dewey             1\n",
       "old               1\n",
       "Bobble            1\n",
       "Stu               1\n",
       "William           1\n",
       "Jiminus           1\n",
       "Siba              1\n",
       "Bloo              1\n",
       "Napolean          1\n",
       "Milky             1\n",
       "unacceptable      1\n",
       "Mairi             1\n",
       "Cannon            1\n",
       "Mark              1\n",
       "Stormy            1\n",
       "Timmy             1\n",
       "Reptar            1\n",
       "Ferg              1\n",
       "Kobe              1\n",
       "Grizzwald         1\n",
       "Reagan            1\n",
       "Moofasa           1\n",
       "Yoda              1\n",
       "Sonny             1\n",
       "Tuck              1\n",
       "Name: name, Length: 957, dtype: int64"
      ]
     },
     "execution_count": 18,
     "metadata": {},
     "output_type": "execute_result"
    }
   ],
   "source": [
    "twitter_archived['name'].value_counts()"
   ]
  },
  {
   "cell_type": "markdown",
   "metadata": {},
   "source": [
    "**Assessing img_prediction dataset**"
   ]
  },
  {
   "cell_type": "code",
   "execution_count": 19,
   "metadata": {},
   "outputs": [
    {
     "data": {
      "text/html": [
       "<div>\n",
       "<style scoped>\n",
       "    .dataframe tbody tr th:only-of-type {\n",
       "        vertical-align: middle;\n",
       "    }\n",
       "\n",
       "    .dataframe tbody tr th {\n",
       "        vertical-align: top;\n",
       "    }\n",
       "\n",
       "    .dataframe thead th {\n",
       "        text-align: right;\n",
       "    }\n",
       "</style>\n",
       "<table border=\"1\" class=\"dataframe\">\n",
       "  <thead>\n",
       "    <tr style=\"text-align: right;\">\n",
       "      <th></th>\n",
       "      <th>tweet_id</th>\n",
       "      <th>jpg_url</th>\n",
       "      <th>img_num</th>\n",
       "      <th>p1</th>\n",
       "      <th>p1_conf</th>\n",
       "      <th>p1_dog</th>\n",
       "      <th>p2</th>\n",
       "      <th>p2_conf</th>\n",
       "      <th>p2_dog</th>\n",
       "      <th>p3</th>\n",
       "      <th>p3_conf</th>\n",
       "      <th>p3_dog</th>\n",
       "    </tr>\n",
       "  </thead>\n",
       "  <tbody>\n",
       "    <tr>\n",
       "      <th>0</th>\n",
       "      <td>666020888022790149</td>\n",
       "      <td>https://pbs.twimg.com/media/CT4udn0WwAA0aMy.jpg</td>\n",
       "      <td>1</td>\n",
       "      <td>Welsh_springer_spaniel</td>\n",
       "      <td>0.465074</td>\n",
       "      <td>True</td>\n",
       "      <td>collie</td>\n",
       "      <td>0.156665</td>\n",
       "      <td>True</td>\n",
       "      <td>Shetland_sheepdog</td>\n",
       "      <td>0.061428</td>\n",
       "      <td>True</td>\n",
       "    </tr>\n",
       "    <tr>\n",
       "      <th>1</th>\n",
       "      <td>666029285002620928</td>\n",
       "      <td>https://pbs.twimg.com/media/CT42GRgUYAA5iDo.jpg</td>\n",
       "      <td>1</td>\n",
       "      <td>redbone</td>\n",
       "      <td>0.506826</td>\n",
       "      <td>True</td>\n",
       "      <td>miniature_pinscher</td>\n",
       "      <td>0.074192</td>\n",
       "      <td>True</td>\n",
       "      <td>Rhodesian_ridgeback</td>\n",
       "      <td>0.072010</td>\n",
       "      <td>True</td>\n",
       "    </tr>\n",
       "    <tr>\n",
       "      <th>2</th>\n",
       "      <td>666033412701032449</td>\n",
       "      <td>https://pbs.twimg.com/media/CT4521TWwAEvMyu.jpg</td>\n",
       "      <td>1</td>\n",
       "      <td>German_shepherd</td>\n",
       "      <td>0.596461</td>\n",
       "      <td>True</td>\n",
       "      <td>malinois</td>\n",
       "      <td>0.138584</td>\n",
       "      <td>True</td>\n",
       "      <td>bloodhound</td>\n",
       "      <td>0.116197</td>\n",
       "      <td>True</td>\n",
       "    </tr>\n",
       "    <tr>\n",
       "      <th>3</th>\n",
       "      <td>666044226329800704</td>\n",
       "      <td>https://pbs.twimg.com/media/CT5Dr8HUEAA-lEu.jpg</td>\n",
       "      <td>1</td>\n",
       "      <td>Rhodesian_ridgeback</td>\n",
       "      <td>0.408143</td>\n",
       "      <td>True</td>\n",
       "      <td>redbone</td>\n",
       "      <td>0.360687</td>\n",
       "      <td>True</td>\n",
       "      <td>miniature_pinscher</td>\n",
       "      <td>0.222752</td>\n",
       "      <td>True</td>\n",
       "    </tr>\n",
       "    <tr>\n",
       "      <th>4</th>\n",
       "      <td>666049248165822465</td>\n",
       "      <td>https://pbs.twimg.com/media/CT5IQmsXIAAKY4A.jpg</td>\n",
       "      <td>1</td>\n",
       "      <td>miniature_pinscher</td>\n",
       "      <td>0.560311</td>\n",
       "      <td>True</td>\n",
       "      <td>Rottweiler</td>\n",
       "      <td>0.243682</td>\n",
       "      <td>True</td>\n",
       "      <td>Doberman</td>\n",
       "      <td>0.154629</td>\n",
       "      <td>True</td>\n",
       "    </tr>\n",
       "  </tbody>\n",
       "</table>\n",
       "</div>"
      ],
      "text/plain": [
       "             tweet_id                                          jpg_url  \\\n",
       "0  666020888022790149  https://pbs.twimg.com/media/CT4udn0WwAA0aMy.jpg   \n",
       "1  666029285002620928  https://pbs.twimg.com/media/CT42GRgUYAA5iDo.jpg   \n",
       "2  666033412701032449  https://pbs.twimg.com/media/CT4521TWwAEvMyu.jpg   \n",
       "3  666044226329800704  https://pbs.twimg.com/media/CT5Dr8HUEAA-lEu.jpg   \n",
       "4  666049248165822465  https://pbs.twimg.com/media/CT5IQmsXIAAKY4A.jpg   \n",
       "\n",
       "   img_num                      p1   p1_conf  p1_dog                  p2  \\\n",
       "0        1  Welsh_springer_spaniel  0.465074    True              collie   \n",
       "1        1                 redbone  0.506826    True  miniature_pinscher   \n",
       "2        1         German_shepherd  0.596461    True            malinois   \n",
       "3        1     Rhodesian_ridgeback  0.408143    True             redbone   \n",
       "4        1      miniature_pinscher  0.560311    True          Rottweiler   \n",
       "\n",
       "    p2_conf  p2_dog                   p3   p3_conf  p3_dog  \n",
       "0  0.156665    True    Shetland_sheepdog  0.061428    True  \n",
       "1  0.074192    True  Rhodesian_ridgeback  0.072010    True  \n",
       "2  0.138584    True           bloodhound  0.116197    True  \n",
       "3  0.360687    True   miniature_pinscher  0.222752    True  \n",
       "4  0.243682    True             Doberman  0.154629    True  "
      ]
     },
     "execution_count": 19,
     "metadata": {},
     "output_type": "execute_result"
    }
   ],
   "source": [
    "img_prediction.head()"
   ]
  },
  {
   "cell_type": "markdown",
   "metadata": {},
   "source": [
    "|**Column Names**|**Description**|\n",
    "|:---|:---|\n",
    "|tweet_id|Unique identifier for Tweets.|\n",
    "|jpg_url|Url of picture.|\n",
    "|img_num|Number of images.|\n",
    "|p1|p1 is the algorithm's prediction for the image in the tweet.|\n",
    "|p1_conf|How confident the algorithm is in its p1 prediction.|\n",
    "|p1_dog|Whether or not the p1 prediction is a breed of dog. Contains boolean value.|\n",
    "|p2|p2 is the algorithm's second most likely prediction.|\n",
    "|p2_conf|How confident the algorithm is in its p2 prediction.|\n",
    "|p2_dog|Whether or not the p2 prediction is a breed of dog.|\n",
    "|p3|p3 is the algorithm's second most likely prediction.|\n",
    "|p3_conf|How confident the algorithm is in its p3 prediction.|\n",
    "|p3_dog|Whether or not the p3 prediction is a breed of dog.|"
   ]
  },
  {
   "cell_type": "code",
   "execution_count": 20,
   "metadata": {},
   "outputs": [
    {
     "data": {
      "text/plain": [
       "(2075, 12)"
      ]
     },
     "execution_count": 20,
     "metadata": {},
     "output_type": "execute_result"
    }
   ],
   "source": [
    "img_prediction.shape"
   ]
  },
  {
   "cell_type": "code",
   "execution_count": 21,
   "metadata": {},
   "outputs": [
    {
     "name": "stdout",
     "output_type": "stream",
     "text": [
      "<class 'pandas.core.frame.DataFrame'>\n",
      "RangeIndex: 2075 entries, 0 to 2074\n",
      "Data columns (total 12 columns):\n",
      "tweet_id    2075 non-null int64\n",
      "jpg_url     2075 non-null object\n",
      "img_num     2075 non-null int64\n",
      "p1          2075 non-null object\n",
      "p1_conf     2075 non-null float64\n",
      "p1_dog      2075 non-null bool\n",
      "p2          2075 non-null object\n",
      "p2_conf     2075 non-null float64\n",
      "p2_dog      2075 non-null bool\n",
      "p3          2075 non-null object\n",
      "p3_conf     2075 non-null float64\n",
      "p3_dog      2075 non-null bool\n",
      "dtypes: bool(3), float64(3), int64(2), object(4)\n",
      "memory usage: 152.1+ KB\n"
     ]
    }
   ],
   "source": [
    "img_prediction.info()"
   ]
  },
  {
   "cell_type": "code",
   "execution_count": 22,
   "metadata": {},
   "outputs": [
    {
     "data": {
      "text/html": [
       "<div>\n",
       "<style scoped>\n",
       "    .dataframe tbody tr th:only-of-type {\n",
       "        vertical-align: middle;\n",
       "    }\n",
       "\n",
       "    .dataframe tbody tr th {\n",
       "        vertical-align: top;\n",
       "    }\n",
       "\n",
       "    .dataframe thead th {\n",
       "        text-align: right;\n",
       "    }\n",
       "</style>\n",
       "<table border=\"1\" class=\"dataframe\">\n",
       "  <thead>\n",
       "    <tr style=\"text-align: right;\">\n",
       "      <th></th>\n",
       "      <th>tweet_id</th>\n",
       "      <th>img_num</th>\n",
       "      <th>p1_conf</th>\n",
       "      <th>p2_conf</th>\n",
       "      <th>p3_conf</th>\n",
       "    </tr>\n",
       "  </thead>\n",
       "  <tbody>\n",
       "    <tr>\n",
       "      <th>count</th>\n",
       "      <td>2.075000e+03</td>\n",
       "      <td>2075.000000</td>\n",
       "      <td>2075.000000</td>\n",
       "      <td>2.075000e+03</td>\n",
       "      <td>2.075000e+03</td>\n",
       "    </tr>\n",
       "    <tr>\n",
       "      <th>mean</th>\n",
       "      <td>7.384514e+17</td>\n",
       "      <td>1.203855</td>\n",
       "      <td>0.594548</td>\n",
       "      <td>1.345886e-01</td>\n",
       "      <td>6.032417e-02</td>\n",
       "    </tr>\n",
       "    <tr>\n",
       "      <th>std</th>\n",
       "      <td>6.785203e+16</td>\n",
       "      <td>0.561875</td>\n",
       "      <td>0.271174</td>\n",
       "      <td>1.006657e-01</td>\n",
       "      <td>5.090593e-02</td>\n",
       "    </tr>\n",
       "    <tr>\n",
       "      <th>min</th>\n",
       "      <td>6.660209e+17</td>\n",
       "      <td>1.000000</td>\n",
       "      <td>0.044333</td>\n",
       "      <td>1.011300e-08</td>\n",
       "      <td>1.740170e-10</td>\n",
       "    </tr>\n",
       "    <tr>\n",
       "      <th>25%</th>\n",
       "      <td>6.764835e+17</td>\n",
       "      <td>1.000000</td>\n",
       "      <td>0.364412</td>\n",
       "      <td>5.388625e-02</td>\n",
       "      <td>1.622240e-02</td>\n",
       "    </tr>\n",
       "    <tr>\n",
       "      <th>50%</th>\n",
       "      <td>7.119988e+17</td>\n",
       "      <td>1.000000</td>\n",
       "      <td>0.588230</td>\n",
       "      <td>1.181810e-01</td>\n",
       "      <td>4.944380e-02</td>\n",
       "    </tr>\n",
       "    <tr>\n",
       "      <th>75%</th>\n",
       "      <td>7.932034e+17</td>\n",
       "      <td>1.000000</td>\n",
       "      <td>0.843855</td>\n",
       "      <td>1.955655e-01</td>\n",
       "      <td>9.180755e-02</td>\n",
       "    </tr>\n",
       "    <tr>\n",
       "      <th>max</th>\n",
       "      <td>8.924206e+17</td>\n",
       "      <td>4.000000</td>\n",
       "      <td>1.000000</td>\n",
       "      <td>4.880140e-01</td>\n",
       "      <td>2.734190e-01</td>\n",
       "    </tr>\n",
       "  </tbody>\n",
       "</table>\n",
       "</div>"
      ],
      "text/plain": [
       "           tweet_id      img_num      p1_conf       p2_conf       p3_conf\n",
       "count  2.075000e+03  2075.000000  2075.000000  2.075000e+03  2.075000e+03\n",
       "mean   7.384514e+17     1.203855     0.594548  1.345886e-01  6.032417e-02\n",
       "std    6.785203e+16     0.561875     0.271174  1.006657e-01  5.090593e-02\n",
       "min    6.660209e+17     1.000000     0.044333  1.011300e-08  1.740170e-10\n",
       "25%    6.764835e+17     1.000000     0.364412  5.388625e-02  1.622240e-02\n",
       "50%    7.119988e+17     1.000000     0.588230  1.181810e-01  4.944380e-02\n",
       "75%    7.932034e+17     1.000000     0.843855  1.955655e-01  9.180755e-02\n",
       "max    8.924206e+17     4.000000     1.000000  4.880140e-01  2.734190e-01"
      ]
     },
     "execution_count": 22,
     "metadata": {},
     "output_type": "execute_result"
    }
   ],
   "source": [
    "img_prediction.describe()"
   ]
  },
  {
   "cell_type": "code",
   "execution_count": 23,
   "metadata": {},
   "outputs": [
    {
     "data": {
      "text/plain": [
       "66"
      ]
     },
     "execution_count": 23,
     "metadata": {},
     "output_type": "execute_result"
    }
   ],
   "source": [
    "img_prediction['jpg_url'].duplicated().sum()"
   ]
  },
  {
   "cell_type": "code",
   "execution_count": 24,
   "metadata": {},
   "outputs": [
    {
     "data": {
      "text/plain": [
       "golden_retriever             150\n",
       "Labrador_retriever           100\n",
       "Pembroke                      89\n",
       "Chihuahua                     83\n",
       "pug                           57\n",
       "chow                          44\n",
       "Samoyed                       43\n",
       "toy_poodle                    39\n",
       "Pomeranian                    38\n",
       "cocker_spaniel                30\n",
       "malamute                      30\n",
       "French_bulldog                26\n",
       "Chesapeake_Bay_retriever      23\n",
       "miniature_pinscher            23\n",
       "seat_belt                     22\n",
       "Siberian_husky                20\n",
       "Staffordshire_bullterrier     20\n",
       "German_shepherd               20\n",
       "Cardigan                      19\n",
       "web_site                      19\n",
       "Shetland_sheepdog             18\n",
       "Maltese_dog                   18\n",
       "teddy                         18\n",
       "Eskimo_dog                    18\n",
       "beagle                        18\n",
       "Shih-Tzu                      17\n",
       "Rottweiler                    17\n",
       "Lakeland_terrier              17\n",
       "Italian_greyhound             16\n",
       "kuvasz                        16\n",
       "                            ... \n",
       "crane                          1\n",
       "handkerchief                   1\n",
       "leopard                        1\n",
       "sunglasses                     1\n",
       "rain_barrel                    1\n",
       "pedestal                       1\n",
       "dining_table                   1\n",
       "sulphur-crested_cockatoo       1\n",
       "African_grey                   1\n",
       "groenendael                    1\n",
       "pot                            1\n",
       "fiddler_crab                   1\n",
       "hummingbird                    1\n",
       "flamingo                       1\n",
       "soccer_ball                    1\n",
       "carton                         1\n",
       "harp                           1\n",
       "coil                           1\n",
       "school_bus                     1\n",
       "Egyptian_cat                   1\n",
       "sea_urchin                     1\n",
       "park_bench                     1\n",
       "Japanese_spaniel               1\n",
       "alp                            1\n",
       "rapeseed                       1\n",
       "grille                         1\n",
       "orange                         1\n",
       "skunk                          1\n",
       "maillot                        1\n",
       "hay                            1\n",
       "Name: p1, Length: 378, dtype: int64"
      ]
     },
     "execution_count": 24,
     "metadata": {},
     "output_type": "execute_result"
    }
   ],
   "source": [
    "img_prediction['p1'].value_counts()"
   ]
  },
  {
   "cell_type": "code",
   "execution_count": 25,
   "metadata": {},
   "outputs": [
    {
     "data": {
      "text/plain": [
       "324"
      ]
     },
     "execution_count": 25,
     "metadata": {},
     "output_type": "execute_result"
    }
   ],
   "source": [
    "len(img_prediction[(img_prediction['p1_dog'] == False) & (img_prediction['p2_dog'] == False) & (img_prediction['p3_dog'] == False)])"
   ]
  },
  {
   "cell_type": "markdown",
   "metadata": {},
   "source": [
    "**Assessing tweet_df dataset**"
   ]
  },
  {
   "cell_type": "code",
   "execution_count": 26,
   "metadata": {},
   "outputs": [
    {
     "data": {
      "text/html": [
       "<div>\n",
       "<style scoped>\n",
       "    .dataframe tbody tr th:only-of-type {\n",
       "        vertical-align: middle;\n",
       "    }\n",
       "\n",
       "    .dataframe tbody tr th {\n",
       "        vertical-align: top;\n",
       "    }\n",
       "\n",
       "    .dataframe thead th {\n",
       "        text-align: right;\n",
       "    }\n",
       "</style>\n",
       "<table border=\"1\" class=\"dataframe\">\n",
       "  <thead>\n",
       "    <tr style=\"text-align: right;\">\n",
       "      <th></th>\n",
       "      <th>created_at</th>\n",
       "      <th>favorite_count</th>\n",
       "      <th>retweet_count</th>\n",
       "      <th>tweet_id</th>\n",
       "    </tr>\n",
       "  </thead>\n",
       "  <tbody>\n",
       "    <tr>\n",
       "      <th>0</th>\n",
       "      <td>Tue Aug 01 16:23:56 +0000 2017</td>\n",
       "      <td>36134</td>\n",
       "      <td>7695</td>\n",
       "      <td>892420643555336193</td>\n",
       "    </tr>\n",
       "    <tr>\n",
       "      <th>1</th>\n",
       "      <td>Tue Aug 01 00:17:27 +0000 2017</td>\n",
       "      <td>31153</td>\n",
       "      <td>5690</td>\n",
       "      <td>892177421306343426</td>\n",
       "    </tr>\n",
       "    <tr>\n",
       "      <th>2</th>\n",
       "      <td>Mon Jul 31 00:18:03 +0000 2017</td>\n",
       "      <td>23471</td>\n",
       "      <td>3774</td>\n",
       "      <td>891815181378084864</td>\n",
       "    </tr>\n",
       "    <tr>\n",
       "      <th>3</th>\n",
       "      <td>Sun Jul 30 15:58:51 +0000 2017</td>\n",
       "      <td>39399</td>\n",
       "      <td>7851</td>\n",
       "      <td>891689557279858688</td>\n",
       "    </tr>\n",
       "    <tr>\n",
       "      <th>4</th>\n",
       "      <td>Sat Jul 29 16:00:24 +0000 2017</td>\n",
       "      <td>37619</td>\n",
       "      <td>8466</td>\n",
       "      <td>891327558926688256</td>\n",
       "    </tr>\n",
       "  </tbody>\n",
       "</table>\n",
       "</div>"
      ],
      "text/plain": [
       "                       created_at  favorite_count  retweet_count  \\\n",
       "0  Tue Aug 01 16:23:56 +0000 2017           36134           7695   \n",
       "1  Tue Aug 01 00:17:27 +0000 2017           31153           5690   \n",
       "2  Mon Jul 31 00:18:03 +0000 2017           23471           3774   \n",
       "3  Sun Jul 30 15:58:51 +0000 2017           39399           7851   \n",
       "4  Sat Jul 29 16:00:24 +0000 2017           37619           8466   \n",
       "\n",
       "             tweet_id  \n",
       "0  892420643555336193  \n",
       "1  892177421306343426  \n",
       "2  891815181378084864  \n",
       "3  891689557279858688  \n",
       "4  891327558926688256  "
      ]
     },
     "execution_count": 26,
     "metadata": {},
     "output_type": "execute_result"
    }
   ],
   "source": [
    "tweet_df.head()"
   ]
  },
  {
   "cell_type": "markdown",
   "metadata": {},
   "source": [
    "|**Columns Name**|**Description**|\n",
    "|:---|:---|\n",
    "|created_at|Date and time of tweet.|\n",
    "|favourite_count|No of times is favourite.|\n",
    "|retweet_count|No of times tweet is retweet|\n",
    "|tweet_id|Unique identifier for Tweets.|"
   ]
  },
  {
   "cell_type": "code",
   "execution_count": 27,
   "metadata": {},
   "outputs": [
    {
     "name": "stdout",
     "output_type": "stream",
     "text": [
      "<class 'pandas.core.frame.DataFrame'>\n",
      "RangeIndex: 2331 entries, 0 to 2330\n",
      "Data columns (total 4 columns):\n",
      "created_at        2331 non-null object\n",
      "favorite_count    2331 non-null int64\n",
      "retweet_count     2331 non-null int64\n",
      "tweet_id          2331 non-null int64\n",
      "dtypes: int64(3), object(1)\n",
      "memory usage: 72.9+ KB\n"
     ]
    }
   ],
   "source": [
    "tweet_df.info()"
   ]
  },
  {
   "cell_type": "code",
   "execution_count": 28,
   "metadata": {},
   "outputs": [
    {
     "data": {
      "text/plain": [
       "count      2331.000000\n",
       "mean       7542.213642\n",
       "std       11704.594812\n",
       "min           0.000000\n",
       "25%        1315.500000\n",
       "50%        3281.000000\n",
       "75%        9235.000000\n",
       "max      155750.000000\n",
       "Name: favorite_count, dtype: float64"
      ]
     },
     "execution_count": 28,
     "metadata": {},
     "output_type": "execute_result"
    }
   ],
   "source": [
    "tweet_df['favorite_count'].describe()"
   ]
  },
  {
   "cell_type": "code",
   "execution_count": 29,
   "metadata": {},
   "outputs": [
    {
     "data": {
      "text/plain": [
       "0"
      ]
     },
     "execution_count": 29,
     "metadata": {},
     "output_type": "execute_result"
    }
   ],
   "source": [
    "tweet_df.duplicated().sum()"
   ]
  },
  {
   "cell_type": "markdown",
   "metadata": {},
   "source": [
    "### Documenting Issues\n",
    "\n",
    "### Quality Issues\n",
    "\n",
    "1. Remove all the tweets that have retweets.\n",
    "2. Remove all the tweets that have reply.\n",
    "3. Remove duplicates.\n",
    "4. Datatype of tweet_id is int64 not str.\n",
    "5. Datatype of timestamp and created_at is object not datetime.\n",
    "6. Removing tweets that does not have images.\n",
    "7. Correcting invlid dog names.\n",
    "8. Extracting tweet source from source column.\n",
    "9. Fixing rating denominator.\n",
    "10. Making all rows equal.\n",
    "\n",
    "\n",
    "### Tidiness Issues\n",
    "\n",
    "1. Dog stages have values as columns, instead of one column with their values.\n",
    "2. Prediction algorithm coulumns should melted into one column.\n",
    "2. All three datasets should connected to one dataset."
   ]
  },
  {
   "cell_type": "markdown",
   "metadata": {},
   "source": [
    "<a id='clean'></a>\n",
    "## Data Cleaning\n",
    "Data cleaning is the final step of data wrangling process."
   ]
  },
  {
   "cell_type": "code",
   "execution_count": 30,
   "metadata": {},
   "outputs": [],
   "source": [
    "# making copying of all dataset\n",
    "twitter_archived_clean = twitter_archived.copy()\n",
    "img_prediction_clean = img_prediction.copy()\n",
    "tweet_df_clean = tweet_df.copy()"
   ]
  },
  {
   "cell_type": "markdown",
   "metadata": {},
   "source": [
    "### Cleaning For Tidiness"
   ]
  },
  {
   "cell_type": "markdown",
   "metadata": {},
   "source": [
    "**1. Dog stages have values as columns, instead of one column with their values.**\n",
    "\n",
    "**Define**\n",
    "* Create new column and assign dog_stage.\n",
    "* Drop doggo, floofer, pupper, puppo columns.\n",
    "\n",
    "**Code**"
   ]
  },
  {
   "cell_type": "code",
   "execution_count": 31,
   "metadata": {},
   "outputs": [],
   "source": [
    "# dog stages to iterate\n",
    "stage_cols = ['doggo', 'floofer', 'pupper', 'puppo']\n",
    "\n",
    "# make new column with all none value\n",
    "twitter_archived_clean['dog_stage'] = 'None'\n",
    "\n",
    "# loop through each columns, if all are none then move on,\n",
    "# if not set column name as stage for dog_stage\n",
    "for i in twitter_archived_clean.index:\n",
    "    for column in stage_cols:\n",
    "        if twitter_archived_clean.at[i, column] == 'None':\n",
    "            continue\n",
    "        else:\n",
    "            twitter_archived_clean.at[i, 'dog_stage'] = column"
   ]
  },
  {
   "cell_type": "code",
   "execution_count": 32,
   "metadata": {},
   "outputs": [],
   "source": [
    "# dropping columns\n",
    "twitter_archived_clean = twitter_archived_clean.drop(['doggo', 'floofer', 'pupper', 'puppo'], axis = 1)"
   ]
  },
  {
   "cell_type": "markdown",
   "metadata": {},
   "source": [
    "**Test**"
   ]
  },
  {
   "cell_type": "code",
   "execution_count": 33,
   "metadata": {},
   "outputs": [
    {
     "name": "stdout",
     "output_type": "stream",
     "text": [
      "<class 'pandas.core.frame.DataFrame'>\n",
      "RangeIndex: 2356 entries, 0 to 2355\n",
      "Data columns (total 14 columns):\n",
      "tweet_id                      2356 non-null int64\n",
      "in_reply_to_status_id         78 non-null float64\n",
      "in_reply_to_user_id           78 non-null float64\n",
      "timestamp                     2356 non-null object\n",
      "source                        2356 non-null object\n",
      "text                          2356 non-null object\n",
      "retweeted_status_id           181 non-null float64\n",
      "retweeted_status_user_id      181 non-null float64\n",
      "retweeted_status_timestamp    181 non-null object\n",
      "expanded_urls                 2297 non-null object\n",
      "rating_numerator              2356 non-null int64\n",
      "rating_denominator            2356 non-null int64\n",
      "name                          2356 non-null object\n",
      "dog_stage                     2356 non-null object\n",
      "dtypes: float64(4), int64(3), object(7)\n",
      "memory usage: 257.8+ KB\n"
     ]
    }
   ],
   "source": [
    "twitter_archived_clean.info()"
   ]
  },
  {
   "cell_type": "markdown",
   "metadata": {},
   "source": [
    "**2. Combining prediction columns.**\n",
    "\n",
    "**Define**\n",
    "* Write a function that melt all prediction algorithm columns to on column with confidence column.\n",
    "* Apply that function.\n",
    "* Drop columns.\n",
    "\n",
    "**Code**"
   ]
  },
  {
   "cell_type": "code",
   "execution_count": 34,
   "metadata": {},
   "outputs": [],
   "source": [
    "breed_prediction = []\n",
    "breed_confidence = []\n",
    "\n",
    "# prediction function:\n",
    "# search the first true algorithm and append it to breed_prediction list with its level of breed_confidence\n",
    "# if flase prediction_algorthm will have a value of NaN\n",
    "def prediction(df):\n",
    "    if df['p1_dog'] == True:\n",
    "        breed_prediction.append(df['p1'])\n",
    "        breed_confidence.append(df['p1_conf'])\n",
    "    elif df['p2_dog'] == True:\n",
    "        breed_prediction.append(df['p2'])\n",
    "        breed_confidence.append(df['p2_conf'])\n",
    "    elif df['p3_dog'] == True:\n",
    "        breed_prediction.append(df['p3'])\n",
    "        breed_confidence.append(df['p3_conf'])\n",
    "    else:\n",
    "        breed_prediction.append('NaN')\n",
    "        breed_confidence.append(0)\n",
    "\n",
    "img_prediction_clean.apply(prediction, axis=1)\n",
    "\n",
    "img_prediction_clean['breed_prediction'] = breed_prediction\n",
    "img_prediction_clean['breed_confidence'] = breed_confidence"
   ]
  },
  {
   "cell_type": "code",
   "execution_count": 35,
   "metadata": {},
   "outputs": [],
   "source": [
    "img_prediction_clean = img_prediction_clean.drop(['img_num', 'p1', 'p1_conf', 'p1_dog', 'p2', 'p2_conf', 'p2_dog', 'p3', 'p3_conf', 'p3_dog'], 1)"
   ]
  },
  {
   "cell_type": "markdown",
   "metadata": {},
   "source": [
    "**Test**"
   ]
  },
  {
   "cell_type": "code",
   "execution_count": 36,
   "metadata": {},
   "outputs": [
    {
     "data": {
      "text/plain": [
       "['tweet_id', 'jpg_url', 'breed_prediction', 'breed_confidence']"
      ]
     },
     "execution_count": 36,
     "metadata": {},
     "output_type": "execute_result"
    }
   ],
   "source": [
    "img_prediction_clean.columns.tolist()"
   ]
  },
  {
   "cell_type": "code",
   "execution_count": 37,
   "metadata": {},
   "outputs": [
    {
     "data": {
      "text/html": [
       "<div>\n",
       "<style scoped>\n",
       "    .dataframe tbody tr th:only-of-type {\n",
       "        vertical-align: middle;\n",
       "    }\n",
       "\n",
       "    .dataframe tbody tr th {\n",
       "        vertical-align: top;\n",
       "    }\n",
       "\n",
       "    .dataframe thead th {\n",
       "        text-align: right;\n",
       "    }\n",
       "</style>\n",
       "<table border=\"1\" class=\"dataframe\">\n",
       "  <thead>\n",
       "    <tr style=\"text-align: right;\">\n",
       "      <th></th>\n",
       "      <th>tweet_id</th>\n",
       "      <th>jpg_url</th>\n",
       "      <th>breed_prediction</th>\n",
       "      <th>breed_confidence</th>\n",
       "    </tr>\n",
       "  </thead>\n",
       "  <tbody>\n",
       "    <tr>\n",
       "      <th>0</th>\n",
       "      <td>666020888022790149</td>\n",
       "      <td>https://pbs.twimg.com/media/CT4udn0WwAA0aMy.jpg</td>\n",
       "      <td>Welsh_springer_spaniel</td>\n",
       "      <td>0.465074</td>\n",
       "    </tr>\n",
       "    <tr>\n",
       "      <th>1</th>\n",
       "      <td>666029285002620928</td>\n",
       "      <td>https://pbs.twimg.com/media/CT42GRgUYAA5iDo.jpg</td>\n",
       "      <td>redbone</td>\n",
       "      <td>0.506826</td>\n",
       "    </tr>\n",
       "    <tr>\n",
       "      <th>2</th>\n",
       "      <td>666033412701032449</td>\n",
       "      <td>https://pbs.twimg.com/media/CT4521TWwAEvMyu.jpg</td>\n",
       "      <td>German_shepherd</td>\n",
       "      <td>0.596461</td>\n",
       "    </tr>\n",
       "    <tr>\n",
       "      <th>3</th>\n",
       "      <td>666044226329800704</td>\n",
       "      <td>https://pbs.twimg.com/media/CT5Dr8HUEAA-lEu.jpg</td>\n",
       "      <td>Rhodesian_ridgeback</td>\n",
       "      <td>0.408143</td>\n",
       "    </tr>\n",
       "    <tr>\n",
       "      <th>4</th>\n",
       "      <td>666049248165822465</td>\n",
       "      <td>https://pbs.twimg.com/media/CT5IQmsXIAAKY4A.jpg</td>\n",
       "      <td>miniature_pinscher</td>\n",
       "      <td>0.560311</td>\n",
       "    </tr>\n",
       "  </tbody>\n",
       "</table>\n",
       "</div>"
      ],
      "text/plain": [
       "             tweet_id                                          jpg_url  \\\n",
       "0  666020888022790149  https://pbs.twimg.com/media/CT4udn0WwAA0aMy.jpg   \n",
       "1  666029285002620928  https://pbs.twimg.com/media/CT42GRgUYAA5iDo.jpg   \n",
       "2  666033412701032449  https://pbs.twimg.com/media/CT4521TWwAEvMyu.jpg   \n",
       "3  666044226329800704  https://pbs.twimg.com/media/CT5Dr8HUEAA-lEu.jpg   \n",
       "4  666049248165822465  https://pbs.twimg.com/media/CT5IQmsXIAAKY4A.jpg   \n",
       "\n",
       "         breed_prediction  breed_confidence  \n",
       "0  Welsh_springer_spaniel          0.465074  \n",
       "1                 redbone          0.506826  \n",
       "2         German_shepherd          0.596461  \n",
       "3     Rhodesian_ridgeback          0.408143  \n",
       "4      miniature_pinscher          0.560311  "
      ]
     },
     "execution_count": 37,
     "metadata": {},
     "output_type": "execute_result"
    }
   ],
   "source": [
    "img_prediction_clean.head()"
   ]
  },
  {
   "cell_type": "markdown",
   "metadata": {},
   "source": [
    "**3. Merging three datasets into one dataset.**\n",
    "\n",
    "**Define**\n",
    "* Merge `twitter_archived_clean` and `img_prediction_clean` to one dataset called `twitter_master`\n",
    "* Merge `twitter_master` and `tweet_df_clean`.\n",
    "\n",
    "**Code**"
   ]
  },
  {
   "cell_type": "code",
   "execution_count": 38,
   "metadata": {},
   "outputs": [],
   "source": [
    "# merging 'twitter_archived_clean' and 'img_prediction'\n",
    "twitter_master = pd.merge(twitter_archived_clean, img_prediction_clean, how = 'left', on = ['tweet_id'] )"
   ]
  },
  {
   "cell_type": "code",
   "execution_count": 39,
   "metadata": {},
   "outputs": [],
   "source": [
    "# merging 'twitter_master' and 'tweet_df_clean'\n",
    "twitter_master = pd.merge(twitter_master, tweet_df_clean, how = 'left', on = ['tweet_id'])"
   ]
  },
  {
   "cell_type": "markdown",
   "metadata": {},
   "source": [
    "**Test**"
   ]
  },
  {
   "cell_type": "code",
   "execution_count": 40,
   "metadata": {},
   "outputs": [
    {
     "name": "stdout",
     "output_type": "stream",
     "text": [
      "<class 'pandas.core.frame.DataFrame'>\n",
      "Int64Index: 2356 entries, 0 to 2355\n",
      "Data columns (total 20 columns):\n",
      "tweet_id                      2356 non-null int64\n",
      "in_reply_to_status_id         78 non-null float64\n",
      "in_reply_to_user_id           78 non-null float64\n",
      "timestamp                     2356 non-null object\n",
      "source                        2356 non-null object\n",
      "text                          2356 non-null object\n",
      "retweeted_status_id           181 non-null float64\n",
      "retweeted_status_user_id      181 non-null float64\n",
      "retweeted_status_timestamp    181 non-null object\n",
      "expanded_urls                 2297 non-null object\n",
      "rating_numerator              2356 non-null int64\n",
      "rating_denominator            2356 non-null int64\n",
      "name                          2356 non-null object\n",
      "dog_stage                     2356 non-null object\n",
      "jpg_url                       2075 non-null object\n",
      "breed_prediction              2075 non-null object\n",
      "breed_confidence              2075 non-null float64\n",
      "created_at                    2331 non-null object\n",
      "favorite_count                2331 non-null float64\n",
      "retweet_count                 2331 non-null float64\n",
      "dtypes: float64(7), int64(3), object(10)\n",
      "memory usage: 386.5+ KB\n"
     ]
    }
   ],
   "source": [
    "twitter_master.info()"
   ]
  },
  {
   "cell_type": "code",
   "execution_count": 41,
   "metadata": {},
   "outputs": [
    {
     "data": {
      "text/html": [
       "<div>\n",
       "<style scoped>\n",
       "    .dataframe tbody tr th:only-of-type {\n",
       "        vertical-align: middle;\n",
       "    }\n",
       "\n",
       "    .dataframe tbody tr th {\n",
       "        vertical-align: top;\n",
       "    }\n",
       "\n",
       "    .dataframe thead th {\n",
       "        text-align: right;\n",
       "    }\n",
       "</style>\n",
       "<table border=\"1\" class=\"dataframe\">\n",
       "  <thead>\n",
       "    <tr style=\"text-align: right;\">\n",
       "      <th></th>\n",
       "      <th>tweet_id</th>\n",
       "      <th>in_reply_to_status_id</th>\n",
       "      <th>in_reply_to_user_id</th>\n",
       "      <th>timestamp</th>\n",
       "      <th>source</th>\n",
       "      <th>text</th>\n",
       "      <th>retweeted_status_id</th>\n",
       "      <th>retweeted_status_user_id</th>\n",
       "      <th>retweeted_status_timestamp</th>\n",
       "      <th>expanded_urls</th>\n",
       "      <th>rating_numerator</th>\n",
       "      <th>rating_denominator</th>\n",
       "      <th>name</th>\n",
       "      <th>dog_stage</th>\n",
       "      <th>jpg_url</th>\n",
       "      <th>breed_prediction</th>\n",
       "      <th>breed_confidence</th>\n",
       "      <th>created_at</th>\n",
       "      <th>favorite_count</th>\n",
       "      <th>retweet_count</th>\n",
       "    </tr>\n",
       "  </thead>\n",
       "  <tbody>\n",
       "    <tr>\n",
       "      <th>1335</th>\n",
       "      <td>705239209544720384</td>\n",
       "      <td>NaN</td>\n",
       "      <td>NaN</td>\n",
       "      <td>2016-03-03 03:51:44 +0000</td>\n",
       "      <td>&lt;a href=\"http://twitter.com/download/iphone\" r...</td>\n",
       "      <td>This is Jimothy. He lost his body during the t...</td>\n",
       "      <td>NaN</td>\n",
       "      <td>NaN</td>\n",
       "      <td>NaN</td>\n",
       "      <td>https://twitter.com/dog_rates/status/705239209...</td>\n",
       "      <td>11</td>\n",
       "      <td>10</td>\n",
       "      <td>Jimothy</td>\n",
       "      <td>None</td>\n",
       "      <td>https://pbs.twimg.com/media/CcmDUjFW8AAqAjc.jpg</td>\n",
       "      <td>Chihuahua</td>\n",
       "      <td>0.157950</td>\n",
       "      <td>Thu Mar 03 03:51:44 +0000 2016</td>\n",
       "      <td>2986.0</td>\n",
       "      <td>745.0</td>\n",
       "    </tr>\n",
       "    <tr>\n",
       "      <th>1604</th>\n",
       "      <td>685906723014619143</td>\n",
       "      <td>NaN</td>\n",
       "      <td>NaN</td>\n",
       "      <td>2016-01-09 19:31:20 +0000</td>\n",
       "      <td>&lt;a href=\"http://twitter.com/download/iphone\" r...</td>\n",
       "      <td>This is Olive. He's stuck in a sleeve. 9/10 da...</td>\n",
       "      <td>NaN</td>\n",
       "      <td>NaN</td>\n",
       "      <td>NaN</td>\n",
       "      <td>https://twitter.com/dog_rates/status/685906723...</td>\n",
       "      <td>9</td>\n",
       "      <td>10</td>\n",
       "      <td>Olive</td>\n",
       "      <td>None</td>\n",
       "      <td>https://pbs.twimg.com/media/CYTUhn7WkAEXocW.jpg</td>\n",
       "      <td>Yorkshire_terrier</td>\n",
       "      <td>0.414963</td>\n",
       "      <td>Sat Jan 09 19:31:20 +0000 2016</td>\n",
       "      <td>7458.0</td>\n",
       "      <td>2867.0</td>\n",
       "    </tr>\n",
       "    <tr>\n",
       "      <th>2338</th>\n",
       "      <td>666104133288665088</td>\n",
       "      <td>NaN</td>\n",
       "      <td>NaN</td>\n",
       "      <td>2015-11-16 04:02:55 +0000</td>\n",
       "      <td>&lt;a href=\"http://twitter.com/download/iphone\" r...</td>\n",
       "      <td>Not familiar with this breed. No tail (weird)....</td>\n",
       "      <td>NaN</td>\n",
       "      <td>NaN</td>\n",
       "      <td>NaN</td>\n",
       "      <td>https://twitter.com/dog_rates/status/666104133...</td>\n",
       "      <td>1</td>\n",
       "      <td>10</td>\n",
       "      <td>None</td>\n",
       "      <td>None</td>\n",
       "      <td>https://pbs.twimg.com/media/CT56LSZWoAAlJj2.jpg</td>\n",
       "      <td>NaN</td>\n",
       "      <td>0.000000</td>\n",
       "      <td>Mon Nov 16 04:02:55 +0000 2015</td>\n",
       "      <td>13613.0</td>\n",
       "      <td>5977.0</td>\n",
       "    </tr>\n",
       "    <tr>\n",
       "      <th>1228</th>\n",
       "      <td>713900603437621249</td>\n",
       "      <td>NaN</td>\n",
       "      <td>NaN</td>\n",
       "      <td>2016-03-27 01:29:02 +0000</td>\n",
       "      <td>&lt;a href=\"http://twitter.com/download/iphone\" r...</td>\n",
       "      <td>Happy Saturday here's 9 puppers on a bench. 99...</td>\n",
       "      <td>NaN</td>\n",
       "      <td>NaN</td>\n",
       "      <td>NaN</td>\n",
       "      <td>https://twitter.com/dog_rates/status/713900603...</td>\n",
       "      <td>99</td>\n",
       "      <td>90</td>\n",
       "      <td>None</td>\n",
       "      <td>None</td>\n",
       "      <td>https://pbs.twimg.com/media/CehIzzZWQAEyHH5.jpg</td>\n",
       "      <td>golden_retriever</td>\n",
       "      <td>0.371816</td>\n",
       "      <td>Sun Mar 27 01:29:02 +0000 2016</td>\n",
       "      <td>2804.0</td>\n",
       "      <td>737.0</td>\n",
       "    </tr>\n",
       "    <tr>\n",
       "      <th>1768</th>\n",
       "      <td>678389028614488064</td>\n",
       "      <td>NaN</td>\n",
       "      <td>NaN</td>\n",
       "      <td>2015-12-20 01:38:42 +0000</td>\n",
       "      <td>&lt;a href=\"http://twitter.com/download/iphone\" r...</td>\n",
       "      <td>This is Bella. She just learned that her final...</td>\n",
       "      <td>NaN</td>\n",
       "      <td>NaN</td>\n",
       "      <td>NaN</td>\n",
       "      <td>https://twitter.com/dog_rates/status/678389028...</td>\n",
       "      <td>11</td>\n",
       "      <td>10</td>\n",
       "      <td>Bella</td>\n",
       "      <td>pupper</td>\n",
       "      <td>https://pbs.twimg.com/media/CWofOHUWUAACGVa.jpg</td>\n",
       "      <td>miniature_pinscher</td>\n",
       "      <td>0.516284</td>\n",
       "      <td>Sun Dec 20 01:38:42 +0000 2015</td>\n",
       "      <td>1850.0</td>\n",
       "      <td>418.0</td>\n",
       "    </tr>\n",
       "  </tbody>\n",
       "</table>\n",
       "</div>"
      ],
      "text/plain": [
       "                tweet_id  in_reply_to_status_id  in_reply_to_user_id  \\\n",
       "1335  705239209544720384                    NaN                  NaN   \n",
       "1604  685906723014619143                    NaN                  NaN   \n",
       "2338  666104133288665088                    NaN                  NaN   \n",
       "1228  713900603437621249                    NaN                  NaN   \n",
       "1768  678389028614488064                    NaN                  NaN   \n",
       "\n",
       "                      timestamp  \\\n",
       "1335  2016-03-03 03:51:44 +0000   \n",
       "1604  2016-01-09 19:31:20 +0000   \n",
       "2338  2015-11-16 04:02:55 +0000   \n",
       "1228  2016-03-27 01:29:02 +0000   \n",
       "1768  2015-12-20 01:38:42 +0000   \n",
       "\n",
       "                                                 source  \\\n",
       "1335  <a href=\"http://twitter.com/download/iphone\" r...   \n",
       "1604  <a href=\"http://twitter.com/download/iphone\" r...   \n",
       "2338  <a href=\"http://twitter.com/download/iphone\" r...   \n",
       "1228  <a href=\"http://twitter.com/download/iphone\" r...   \n",
       "1768  <a href=\"http://twitter.com/download/iphone\" r...   \n",
       "\n",
       "                                                   text  retweeted_status_id  \\\n",
       "1335  This is Jimothy. He lost his body during the t...                  NaN   \n",
       "1604  This is Olive. He's stuck in a sleeve. 9/10 da...                  NaN   \n",
       "2338  Not familiar with this breed. No tail (weird)....                  NaN   \n",
       "1228  Happy Saturday here's 9 puppers on a bench. 99...                  NaN   \n",
       "1768  This is Bella. She just learned that her final...                  NaN   \n",
       "\n",
       "      retweeted_status_user_id retweeted_status_timestamp  \\\n",
       "1335                       NaN                        NaN   \n",
       "1604                       NaN                        NaN   \n",
       "2338                       NaN                        NaN   \n",
       "1228                       NaN                        NaN   \n",
       "1768                       NaN                        NaN   \n",
       "\n",
       "                                          expanded_urls  rating_numerator  \\\n",
       "1335  https://twitter.com/dog_rates/status/705239209...                11   \n",
       "1604  https://twitter.com/dog_rates/status/685906723...                 9   \n",
       "2338  https://twitter.com/dog_rates/status/666104133...                 1   \n",
       "1228  https://twitter.com/dog_rates/status/713900603...                99   \n",
       "1768  https://twitter.com/dog_rates/status/678389028...                11   \n",
       "\n",
       "      rating_denominator     name dog_stage  \\\n",
       "1335                  10  Jimothy      None   \n",
       "1604                  10    Olive      None   \n",
       "2338                  10     None      None   \n",
       "1228                  90     None      None   \n",
       "1768                  10    Bella    pupper   \n",
       "\n",
       "                                              jpg_url    breed_prediction  \\\n",
       "1335  https://pbs.twimg.com/media/CcmDUjFW8AAqAjc.jpg           Chihuahua   \n",
       "1604  https://pbs.twimg.com/media/CYTUhn7WkAEXocW.jpg   Yorkshire_terrier   \n",
       "2338  https://pbs.twimg.com/media/CT56LSZWoAAlJj2.jpg                 NaN   \n",
       "1228  https://pbs.twimg.com/media/CehIzzZWQAEyHH5.jpg    golden_retriever   \n",
       "1768  https://pbs.twimg.com/media/CWofOHUWUAACGVa.jpg  miniature_pinscher   \n",
       "\n",
       "      breed_confidence                      created_at  favorite_count  \\\n",
       "1335          0.157950  Thu Mar 03 03:51:44 +0000 2016          2986.0   \n",
       "1604          0.414963  Sat Jan 09 19:31:20 +0000 2016          7458.0   \n",
       "2338          0.000000  Mon Nov 16 04:02:55 +0000 2015         13613.0   \n",
       "1228          0.371816  Sun Mar 27 01:29:02 +0000 2016          2804.0   \n",
       "1768          0.516284  Sun Dec 20 01:38:42 +0000 2015          1850.0   \n",
       "\n",
       "      retweet_count  \n",
       "1335          745.0  \n",
       "1604         2867.0  \n",
       "2338         5977.0  \n",
       "1228          737.0  \n",
       "1768          418.0  "
      ]
     },
     "execution_count": 41,
     "metadata": {},
     "output_type": "execute_result"
    }
   ],
   "source": [
    "twitter_master.sample(5)"
   ]
  },
  {
   "cell_type": "markdown",
   "metadata": {},
   "source": [
    "### Cleaning For Quality"
   ]
  },
  {
   "cell_type": "markdown",
   "metadata": {},
   "source": [
    "**1. Removing all the tweets that are retweeted.**\n",
    "\n",
    "**Define** <br>\n",
    "* Filter all the rows that does not contain retweets.\n",
    "* Drop `retweeted_status_id`, `retweeted_status_user_id`, `retweeted_status_timestamp` columns.\n",
    "\n",
    "**Code**"
   ]
  },
  {
   "cell_type": "code",
   "execution_count": 42,
   "metadata": {},
   "outputs": [],
   "source": [
    "# filtering rows that does not have values in retweeted_status_id column\n",
    "twitter_master = twitter_master[twitter_master['retweeted_status_id'].isnull()]"
   ]
  },
  {
   "cell_type": "code",
   "execution_count": 43,
   "metadata": {},
   "outputs": [],
   "source": [
    "# dropping columns that contains retweet values\n",
    "twitter_master = twitter_master.drop(['retweeted_status_id', 'retweeted_status_user_id', 'retweeted_status_timestamp'], axis = 1)"
   ]
  },
  {
   "cell_type": "markdown",
   "metadata": {},
   "source": [
    "**Test**"
   ]
  },
  {
   "cell_type": "code",
   "execution_count": 44,
   "metadata": {},
   "outputs": [
    {
     "data": {
      "text/plain": [
       "['tweet_id',\n",
       " 'in_reply_to_status_id',\n",
       " 'in_reply_to_user_id',\n",
       " 'timestamp',\n",
       " 'source',\n",
       " 'text',\n",
       " 'expanded_urls',\n",
       " 'rating_numerator',\n",
       " 'rating_denominator',\n",
       " 'name',\n",
       " 'dog_stage',\n",
       " 'jpg_url',\n",
       " 'breed_prediction',\n",
       " 'breed_confidence',\n",
       " 'created_at',\n",
       " 'favorite_count',\n",
       " 'retweet_count']"
      ]
     },
     "execution_count": 44,
     "metadata": {},
     "output_type": "execute_result"
    }
   ],
   "source": [
    "# testing 'retweeted_status_id', 'retweeted_status_user_id', 'retweeted_status_timestamp' are dropped\n",
    "twitter_master.columns.tolist()"
   ]
  },
  {
   "cell_type": "markdown",
   "metadata": {},
   "source": [
    "**2. Removing all the rows that have reply.**\n",
    "\n",
    "**Define** <br>\n",
    "* Filter all rows that does not have value in `in_reply_to_status_id` column.\n",
    "* Drop `in_reply_to_status_id` and `in_reply_to_user_id` columns as they are not right tweets with image ratings.\n",
    "\n",
    "**Code**"
   ]
  },
  {
   "cell_type": "code",
   "execution_count": 45,
   "metadata": {},
   "outputs": [],
   "source": [
    "# filtering all rows that don't have values in in_reply_to_status_id column\n",
    "twitter_master = twitter_master[twitter_master['in_reply_to_status_id'].isnull()]"
   ]
  },
  {
   "cell_type": "code",
   "execution_count": 46,
   "metadata": {},
   "outputs": [],
   "source": [
    "# dropping reply columns\n",
    "twitter_master = twitter_master.drop(['in_reply_to_status_id', 'in_reply_to_user_id'], axis = 1)"
   ]
  },
  {
   "cell_type": "markdown",
   "metadata": {},
   "source": [
    "**Test**"
   ]
  },
  {
   "cell_type": "code",
   "execution_count": 47,
   "metadata": {},
   "outputs": [
    {
     "data": {
      "text/plain": [
       "['tweet_id',\n",
       " 'timestamp',\n",
       " 'source',\n",
       " 'text',\n",
       " 'expanded_urls',\n",
       " 'rating_numerator',\n",
       " 'rating_denominator',\n",
       " 'name',\n",
       " 'dog_stage',\n",
       " 'jpg_url',\n",
       " 'breed_prediction',\n",
       " 'breed_confidence',\n",
       " 'created_at',\n",
       " 'favorite_count',\n",
       " 'retweet_count']"
      ]
     },
     "execution_count": 47,
     "metadata": {},
     "output_type": "execute_result"
    }
   ],
   "source": [
    "twitter_master.columns.tolist()"
   ]
  },
  {
   "cell_type": "markdown",
   "metadata": {},
   "source": [
    "**3. Remove all the rows where expanded_url are duplicated.**\n",
    "\n",
    "**Define**\n",
    "* drop duplicate expanded_url.\n",
    "\n",
    "**Code**"
   ]
  },
  {
   "cell_type": "code",
   "execution_count": 48,
   "metadata": {},
   "outputs": [],
   "source": [
    "twitter_master = twitter_master.drop_duplicates(subset = 'expanded_urls', keep='first')"
   ]
  },
  {
   "cell_type": "markdown",
   "metadata": {},
   "source": [
    "**Test**"
   ]
  },
  {
   "cell_type": "code",
   "execution_count": 49,
   "metadata": {},
   "outputs": [
    {
     "data": {
      "text/plain": [
       "0"
      ]
     },
     "execution_count": 49,
     "metadata": {},
     "output_type": "execute_result"
    }
   ],
   "source": [
    "twitter_master['expanded_urls'].duplicated().sum()"
   ]
  },
  {
   "cell_type": "code",
   "execution_count": 50,
   "metadata": {},
   "outputs": [
    {
     "name": "stdout",
     "output_type": "stream",
     "text": [
      "<class 'pandas.core.frame.DataFrame'>\n",
      "Int64Index: 2094 entries, 0 to 2355\n",
      "Data columns (total 15 columns):\n",
      "tweet_id              2094 non-null int64\n",
      "timestamp             2094 non-null object\n",
      "source                2094 non-null object\n",
      "text                  2094 non-null object\n",
      "expanded_urls         2093 non-null object\n",
      "rating_numerator      2094 non-null int64\n",
      "rating_denominator    2094 non-null int64\n",
      "name                  2094 non-null object\n",
      "dog_stage             2094 non-null object\n",
      "jpg_url               1971 non-null object\n",
      "breed_prediction      1971 non-null object\n",
      "breed_confidence      1971 non-null float64\n",
      "created_at            2087 non-null object\n",
      "favorite_count        2087 non-null float64\n",
      "retweet_count         2087 non-null float64\n",
      "dtypes: float64(3), int64(3), object(9)\n",
      "memory usage: 261.8+ KB\n"
     ]
    }
   ],
   "source": [
    "twitter_master.info()"
   ]
  },
  {
   "cell_type": "markdown",
   "metadata": {},
   "source": [
    "**4. Datatype of tweet_id is int64 not str.**<br>\n",
    "\n",
    "**Define**\n",
    "* Convert datatype of `tweet_id` column from int64 to string by using astype().\n",
    "\n",
    "**Code**"
   ]
  },
  {
   "cell_type": "code",
   "execution_count": 51,
   "metadata": {},
   "outputs": [],
   "source": [
    "# converting tweet_id into string type\n",
    "twitter_master['tweet_id'] = twitter_master['tweet_id'].astype('str')"
   ]
  },
  {
   "cell_type": "markdown",
   "metadata": {},
   "source": [
    "**Test**"
   ]
  },
  {
   "cell_type": "code",
   "execution_count": 52,
   "metadata": {},
   "outputs": [
    {
     "data": {
      "text/plain": [
       "tweet_id               object\n",
       "timestamp              object\n",
       "source                 object\n",
       "text                   object\n",
       "expanded_urls          object\n",
       "rating_numerator        int64\n",
       "rating_denominator      int64\n",
       "name                   object\n",
       "dog_stage              object\n",
       "jpg_url                object\n",
       "breed_prediction       object\n",
       "breed_confidence      float64\n",
       "created_at             object\n",
       "favorite_count        float64\n",
       "retweet_count         float64\n",
       "dtype: object"
      ]
     },
     "execution_count": 52,
     "metadata": {},
     "output_type": "execute_result"
    }
   ],
   "source": [
    "twitter_master.dtypes"
   ]
  },
  {
   "cell_type": "markdown",
   "metadata": {},
   "source": [
    "**5. Datatype of timestamp and created_at is object not datetime.**\n",
    "\n",
    "**Define**\n",
    "\n",
    "* Convert datatype of `timestamp` column from object to datatime.\n",
    "* Convert datatype of `created_at` column from object to datatime."
   ]
  },
  {
   "cell_type": "code",
   "execution_count": 53,
   "metadata": {},
   "outputs": [],
   "source": [
    "# converting timestamp into DateTime\n",
    "twitter_master['timestamp'] = pd.to_datetime(twitter_master['timestamp'])"
   ]
  },
  {
   "cell_type": "code",
   "execution_count": 54,
   "metadata": {},
   "outputs": [],
   "source": [
    "# converting created_at into DateTime\n",
    "twitter_master['created_at'] = pd.to_datetime(twitter_master['created_at'])"
   ]
  },
  {
   "cell_type": "markdown",
   "metadata": {},
   "source": [
    "**Test**"
   ]
  },
  {
   "cell_type": "code",
   "execution_count": 55,
   "metadata": {},
   "outputs": [
    {
     "data": {
      "text/plain": [
       "tweet_id                           object\n",
       "timestamp             datetime64[ns, UTC]\n",
       "source                             object\n",
       "text                               object\n",
       "expanded_urls                      object\n",
       "rating_numerator                    int64\n",
       "rating_denominator                  int64\n",
       "name                               object\n",
       "dog_stage                          object\n",
       "jpg_url                            object\n",
       "breed_prediction                   object\n",
       "breed_confidence                  float64\n",
       "created_at            datetime64[ns, UTC]\n",
       "favorite_count                    float64\n",
       "retweet_count                     float64\n",
       "dtype: object"
      ]
     },
     "execution_count": 55,
     "metadata": {},
     "output_type": "execute_result"
    }
   ],
   "source": [
    "twitter_master.dtypes"
   ]
  },
  {
   "cell_type": "markdown",
   "metadata": {},
   "source": [
    "**5. Changing datatype of source and dog_stage column to category**\n",
    "\n",
    "**Define**\n",
    "* change datatype to category by using astype.\n",
    "\n",
    "**Code**"
   ]
  },
  {
   "cell_type": "code",
   "execution_count": 56,
   "metadata": {},
   "outputs": [],
   "source": [
    "twitter_master['source'] = twitter_master['source'].astype('category')\n",
    "twitter_master['dog_stage'] = twitter_master['dog_stage'].astype('category')"
   ]
  },
  {
   "cell_type": "markdown",
   "metadata": {},
   "source": [
    "**Test**"
   ]
  },
  {
   "cell_type": "code",
   "execution_count": 57,
   "metadata": {},
   "outputs": [
    {
     "name": "stdout",
     "output_type": "stream",
     "text": [
      "<class 'pandas.core.frame.DataFrame'>\n",
      "Int64Index: 2094 entries, 0 to 2355\n",
      "Data columns (total 15 columns):\n",
      "tweet_id              2094 non-null object\n",
      "timestamp             2094 non-null datetime64[ns, UTC]\n",
      "source                2094 non-null category\n",
      "text                  2094 non-null object\n",
      "expanded_urls         2093 non-null object\n",
      "rating_numerator      2094 non-null int64\n",
      "rating_denominator    2094 non-null int64\n",
      "name                  2094 non-null object\n",
      "dog_stage             2094 non-null category\n",
      "jpg_url               1971 non-null object\n",
      "breed_prediction      1971 non-null object\n",
      "breed_confidence      1971 non-null float64\n",
      "created_at            2087 non-null datetime64[ns, UTC]\n",
      "favorite_count        2087 non-null float64\n",
      "retweet_count         2087 non-null float64\n",
      "dtypes: category(2), datetime64[ns, UTC](2), float64(3), int64(2), object(6)\n",
      "memory usage: 233.5+ KB\n"
     ]
    }
   ],
   "source": [
    "twitter_master.info()"
   ]
  },
  {
   "cell_type": "markdown",
   "metadata": {},
   "source": [
    "**6. Removing tweets that does not have images.**\n",
    "\n",
    "**Define**\n",
    "* Filter all tweets that have images.\n",
    "\n",
    "**Code**"
   ]
  },
  {
   "cell_type": "code",
   "execution_count": 58,
   "metadata": {},
   "outputs": [],
   "source": [
    "# removing tweets without images\n",
    "twitter_master = twitter_master[pd.notnull(twitter_master['jpg_url'])]"
   ]
  },
  {
   "cell_type": "markdown",
   "metadata": {},
   "source": [
    "**Test**"
   ]
  },
  {
   "cell_type": "code",
   "execution_count": 59,
   "metadata": {},
   "outputs": [
    {
     "name": "stdout",
     "output_type": "stream",
     "text": [
      "<class 'pandas.core.frame.DataFrame'>\n",
      "Int64Index: 1971 entries, 0 to 2355\n",
      "Data columns (total 15 columns):\n",
      "tweet_id              1971 non-null object\n",
      "timestamp             1971 non-null datetime64[ns, UTC]\n",
      "source                1971 non-null category\n",
      "text                  1971 non-null object\n",
      "expanded_urls         1971 non-null object\n",
      "rating_numerator      1971 non-null int64\n",
      "rating_denominator    1971 non-null int64\n",
      "name                  1971 non-null object\n",
      "dog_stage             1971 non-null category\n",
      "jpg_url               1971 non-null object\n",
      "breed_prediction      1971 non-null object\n",
      "breed_confidence      1971 non-null float64\n",
      "created_at            1964 non-null datetime64[ns, UTC]\n",
      "favorite_count        1964 non-null float64\n",
      "retweet_count         1964 non-null float64\n",
      "dtypes: category(2), datetime64[ns, UTC](2), float64(3), int64(2), object(6)\n",
      "memory usage: 219.8+ KB\n"
     ]
    }
   ],
   "source": [
    "twitter_master.info()"
   ]
  },
  {
   "cell_type": "markdown",
   "metadata": {},
   "source": [
    "**7. Correcting dog names.**\n",
    "\n",
    "**Define**\n",
    "\n",
    "\n",
    "\n",
    "**Code**"
   ]
  },
  {
   "cell_type": "code",
   "execution_count": 60,
   "metadata": {},
   "outputs": [],
   "source": [
    "pd.set_option('display.max_colwidth', -1)\n",
    "\n",
    "vals = twitter_master[~twitter_master['name'].str[0].str.isupper()]['name'].value_counts()\n",
    "vals.keys()\n",
    "pd.reset_option('display.max_colwidth')"
   ]
  },
  {
   "cell_type": "code",
   "execution_count": 61,
   "metadata": {},
   "outputs": [],
   "source": [
    "for val in vals.keys():\n",
    "    twitter_master['name'] = twitter_master['name'].replace(val,'None')"
   ]
  },
  {
   "cell_type": "markdown",
   "metadata": {},
   "source": [
    "**Test**"
   ]
  },
  {
   "cell_type": "code",
   "execution_count": 62,
   "metadata": {},
   "outputs": [
    {
     "data": {
      "text/plain": [
       "None         622\n",
       "Charlie       11\n",
       "Oliver        10\n",
       "Lucy          10\n",
       "Cooper        10\n",
       "Penny          9\n",
       "Tucker         9\n",
       "Winston        8\n",
       "Sadie          8\n",
       "Toby           7\n",
       "Daisy          7\n",
       "Lola           7\n",
       "Bella          6\n",
       "Stanley        6\n",
       "Bo             6\n",
       "Koda           6\n",
       "Jax            6\n",
       "Buddy          5\n",
       "Rusty          5\n",
       "Chester        5\n",
       "Dave           5\n",
       "Oscar          5\n",
       "Bailey         5\n",
       "Scout          5\n",
       "Louis          5\n",
       "Milo           5\n",
       "Leo            5\n",
       "Dexter         4\n",
       "Finn           4\n",
       "Derek          4\n",
       "            ... \n",
       "Boots          1\n",
       "Tedrick        1\n",
       "Jareld         1\n",
       "Remus          1\n",
       "Ziva           1\n",
       "Yoda           1\n",
       "Reagan         1\n",
       "Blu            1\n",
       "Bloo           1\n",
       "Sierra         1\n",
       "Ricky          1\n",
       "Asher          1\n",
       "Opie           1\n",
       "Smiley         1\n",
       "Bobble         1\n",
       "William        1\n",
       "Jiminus        1\n",
       "Siba           1\n",
       "Napolean       1\n",
       "Grizzwald      1\n",
       "Milky          1\n",
       "Mairi          1\n",
       "Cannon         1\n",
       "Stu            1\n",
       "Mark           1\n",
       "Maddie         1\n",
       "Timmy          1\n",
       "Reptar         1\n",
       "Kobe           1\n",
       "Tuck           1\n",
       "Name: name, Length: 913, dtype: int64"
      ]
     },
     "execution_count": 62,
     "metadata": {},
     "output_type": "execute_result"
    }
   ],
   "source": [
    "twitter_master['name'].value_counts()"
   ]
  },
  {
   "cell_type": "markdown",
   "metadata": {},
   "source": [
    "**8. Extracting tweet source from source column.**\n",
    "\n",
    "**Define**\n",
    "* Use BeautifulSoup to extract source source.\n",
    "\n",
    "**Code**"
   ]
  },
  {
   "cell_type": "code",
   "execution_count": 63,
   "metadata": {},
   "outputs": [],
   "source": [
    "# function for extracting tag content\n",
    "def tweet_source(file):\n",
    "    soup = BeautifulSoup(file, 'lxml')\n",
    "    return soup.a.string"
   ]
  },
  {
   "cell_type": "code",
   "execution_count": 64,
   "metadata": {},
   "outputs": [],
   "source": [
    "# change each cell to tag content\n",
    "twitter_master['source'] = twitter_master.apply(lambda x: tweet_source(x['source']), axis = 1)"
   ]
  },
  {
   "cell_type": "code",
   "execution_count": 65,
   "metadata": {},
   "outputs": [],
   "source": [
    "# dictionary of source tag\n",
    "source_tag = {'Twitter for iPhone': 'iphone',\n",
    "              'Vine - Make a Scene': 'vine',\n",
    "              'Twitter Web Client': 'web',\n",
    "              'TweetDeck': 'tweetdeck'\n",
    "             }"
   ]
  },
  {
   "cell_type": "code",
   "execution_count": 66,
   "metadata": {},
   "outputs": [],
   "source": [
    "# apply function\n",
    "twitter_master['source'] = twitter_master['source'].replace(source_tag)"
   ]
  },
  {
   "cell_type": "markdown",
   "metadata": {},
   "source": [
    "**Test**"
   ]
  },
  {
   "cell_type": "code",
   "execution_count": 67,
   "metadata": {},
   "outputs": [
    {
     "data": {
      "text/html": [
       "<div>\n",
       "<style scoped>\n",
       "    .dataframe tbody tr th:only-of-type {\n",
       "        vertical-align: middle;\n",
       "    }\n",
       "\n",
       "    .dataframe tbody tr th {\n",
       "        vertical-align: top;\n",
       "    }\n",
       "\n",
       "    .dataframe thead th {\n",
       "        text-align: right;\n",
       "    }\n",
       "</style>\n",
       "<table border=\"1\" class=\"dataframe\">\n",
       "  <thead>\n",
       "    <tr style=\"text-align: right;\">\n",
       "      <th></th>\n",
       "      <th>tweet_id</th>\n",
       "      <th>timestamp</th>\n",
       "      <th>source</th>\n",
       "      <th>text</th>\n",
       "      <th>expanded_urls</th>\n",
       "      <th>rating_numerator</th>\n",
       "      <th>rating_denominator</th>\n",
       "      <th>name</th>\n",
       "      <th>dog_stage</th>\n",
       "      <th>jpg_url</th>\n",
       "      <th>breed_prediction</th>\n",
       "      <th>breed_confidence</th>\n",
       "      <th>created_at</th>\n",
       "      <th>favorite_count</th>\n",
       "      <th>retweet_count</th>\n",
       "    </tr>\n",
       "  </thead>\n",
       "  <tbody>\n",
       "    <tr>\n",
       "      <th>1389</th>\n",
       "      <td>700167517596164096</td>\n",
       "      <td>2016-02-18 03:58:39+00:00</td>\n",
       "      <td>iphone</td>\n",
       "      <td>This is Dotsy. She's stuck as hell. 10/10 http...</td>\n",
       "      <td>https://twitter.com/dog_rates/status/700167517...</td>\n",
       "      <td>10</td>\n",
       "      <td>10</td>\n",
       "      <td>Dotsy</td>\n",
       "      <td>None</td>\n",
       "      <td>https://pbs.twimg.com/media/Cbd-o8hWwAE4OFm.jpg</td>\n",
       "      <td>beagle</td>\n",
       "      <td>0.162585</td>\n",
       "      <td>2016-02-18 03:58:39+00:00</td>\n",
       "      <td>2616.0</td>\n",
       "      <td>730.0</td>\n",
       "    </tr>\n",
       "    <tr>\n",
       "      <th>1838</th>\n",
       "      <td>675898130735476737</td>\n",
       "      <td>2015-12-13 04:40:46+00:00</td>\n",
       "      <td>iphone</td>\n",
       "      <td>I'm sure you've all seen this pupper. Not prep...</td>\n",
       "      <td>https://twitter.com/dog_rates/status/675898130...</td>\n",
       "      <td>10</td>\n",
       "      <td>10</td>\n",
       "      <td>None</td>\n",
       "      <td>pupper</td>\n",
       "      <td>https://pbs.twimg.com/media/CWFFt3_XIAArIYK.jpg</td>\n",
       "      <td>Labrador_retriever</td>\n",
       "      <td>0.407430</td>\n",
       "      <td>2015-12-13 04:40:46+00:00</td>\n",
       "      <td>1576.0</td>\n",
       "      <td>558.0</td>\n",
       "    </tr>\n",
       "    <tr>\n",
       "      <th>330</th>\n",
       "      <td>833124694597443584</td>\n",
       "      <td>2017-02-19 01:23:00+00:00</td>\n",
       "      <td>iphone</td>\n",
       "      <td>This is Gidget. She's a spy pupper. Stealthy a...</td>\n",
       "      <td>https://twitter.com/dog_rates/status/833124694...</td>\n",
       "      <td>12</td>\n",
       "      <td>10</td>\n",
       "      <td>Gidget</td>\n",
       "      <td>pupper</td>\n",
       "      <td>https://pbs.twimg.com/media/C4_ad1IUoAEspsk.jpg</td>\n",
       "      <td>Cardigan</td>\n",
       "      <td>0.710523</td>\n",
       "      <td>2017-02-19 01:23:00+00:00</td>\n",
       "      <td>20243.0</td>\n",
       "      <td>4857.0</td>\n",
       "    </tr>\n",
       "    <tr>\n",
       "      <th>351</th>\n",
       "      <td>831322785565769729</td>\n",
       "      <td>2017-02-14 02:02:51+00:00</td>\n",
       "      <td>iphone</td>\n",
       "      <td>This is Pete. He has no eyes. Needs a guide do...</td>\n",
       "      <td>https://twitter.com/dog_rates/status/831322785...</td>\n",
       "      <td>12</td>\n",
       "      <td>10</td>\n",
       "      <td>Pete</td>\n",
       "      <td>doggo</td>\n",
       "      <td>https://pbs.twimg.com/media/C4lzqQ4UEAApzU0.jpg</td>\n",
       "      <td>Old_English_sheepdog</td>\n",
       "      <td>0.999715</td>\n",
       "      <td>2017-02-14 02:02:51+00:00</td>\n",
       "      <td>9312.0</td>\n",
       "      <td>1563.0</td>\n",
       "    </tr>\n",
       "    <tr>\n",
       "      <th>651</th>\n",
       "      <td>792773781206999040</td>\n",
       "      <td>2016-10-30 17:02:53+00:00</td>\n",
       "      <td>iphone</td>\n",
       "      <td>This is Monster. Not an actual monster tho. He...</td>\n",
       "      <td>https://twitter.com/dog_rates/status/792773781...</td>\n",
       "      <td>12</td>\n",
       "      <td>10</td>\n",
       "      <td>Monster</td>\n",
       "      <td>None</td>\n",
       "      <td>https://pbs.twimg.com/media/CwB_i-zXEAEiP29.jpg</td>\n",
       "      <td>Yorkshire_terrier</td>\n",
       "      <td>0.912804</td>\n",
       "      <td>2016-10-30 17:02:53+00:00</td>\n",
       "      <td>7482.0</td>\n",
       "      <td>1714.0</td>\n",
       "    </tr>\n",
       "    <tr>\n",
       "      <th>2246</th>\n",
       "      <td>667878741721415682</td>\n",
       "      <td>2015-11-21 01:34:35+00:00</td>\n",
       "      <td>iphone</td>\n",
       "      <td>This is Tedrick. He lives on the edge. Needs s...</td>\n",
       "      <td>https://twitter.com/dog_rates/status/667878741...</td>\n",
       "      <td>2</td>\n",
       "      <td>10</td>\n",
       "      <td>Tedrick</td>\n",
       "      <td>None</td>\n",
       "      <td>https://pbs.twimg.com/media/CUTILFiWcAE8Rle.jpg</td>\n",
       "      <td>miniature_pinscher</td>\n",
       "      <td>0.106003</td>\n",
       "      <td>2015-11-21 01:34:35+00:00</td>\n",
       "      <td>378.0</td>\n",
       "      <td>113.0</td>\n",
       "    </tr>\n",
       "    <tr>\n",
       "      <th>809</th>\n",
       "      <td>771500966810099713</td>\n",
       "      <td>2016-09-02 00:12:18+00:00</td>\n",
       "      <td>iphone</td>\n",
       "      <td>This is Dakota. He's just saying hi. That's al...</td>\n",
       "      <td>https://twitter.com/dog_rates/status/771500966...</td>\n",
       "      <td>12</td>\n",
       "      <td>10</td>\n",
       "      <td>Dakota</td>\n",
       "      <td>None</td>\n",
       "      <td>https://pbs.twimg.com/media/CrTsCPHWYAANdzC.jpg</td>\n",
       "      <td>Labrador_retriever</td>\n",
       "      <td>0.833952</td>\n",
       "      <td>2016-09-02 00:12:18+00:00</td>\n",
       "      <td>8333.0</td>\n",
       "      <td>2634.0</td>\n",
       "    </tr>\n",
       "    <tr>\n",
       "      <th>957</th>\n",
       "      <td>751538714308972544</td>\n",
       "      <td>2016-07-08 22:09:27+00:00</td>\n",
       "      <td>iphone</td>\n",
       "      <td>This is Max. She has one ear that's always sli...</td>\n",
       "      <td>https://twitter.com/dog_rates/status/751538714...</td>\n",
       "      <td>10</td>\n",
       "      <td>10</td>\n",
       "      <td>Max</td>\n",
       "      <td>None</td>\n",
       "      <td>https://pbs.twimg.com/media/Cm4AeG8XEAAulD2.jpg</td>\n",
       "      <td>Labrador_retriever</td>\n",
       "      <td>0.516257</td>\n",
       "      <td>2016-07-08 22:09:27+00:00</td>\n",
       "      <td>5040.0</td>\n",
       "      <td>1266.0</td>\n",
       "    </tr>\n",
       "    <tr>\n",
       "      <th>1197</th>\n",
       "      <td>717009362452090881</td>\n",
       "      <td>2016-04-04 15:22:08+00:00</td>\n",
       "      <td>iphone</td>\n",
       "      <td>This is Smokey. He's having some sort of exist...</td>\n",
       "      <td>https://twitter.com/dog_rates/status/717009362...</td>\n",
       "      <td>10</td>\n",
       "      <td>10</td>\n",
       "      <td>Smokey</td>\n",
       "      <td>pupper</td>\n",
       "      <td>https://pbs.twimg.com/media/CfNUNetW8AAekHx.jpg</td>\n",
       "      <td>Siberian_husky</td>\n",
       "      <td>0.506154</td>\n",
       "      <td>2016-04-04 15:22:08+00:00</td>\n",
       "      <td>3220.0</td>\n",
       "      <td>954.0</td>\n",
       "    </tr>\n",
       "    <tr>\n",
       "      <th>2092</th>\n",
       "      <td>670782429121134593</td>\n",
       "      <td>2015-11-29 01:52:48+00:00</td>\n",
       "      <td>iphone</td>\n",
       "      <td>This dude slaps your girl's ass what do you do...</td>\n",
       "      <td>https://twitter.com/dog_rates/status/670782429...</td>\n",
       "      <td>5</td>\n",
       "      <td>10</td>\n",
       "      <td>None</td>\n",
       "      <td>None</td>\n",
       "      <td>https://pbs.twimg.com/media/CU8ZDu9WwAADg3N.jpg</td>\n",
       "      <td>Chihuahua</td>\n",
       "      <td>0.952963</td>\n",
       "      <td>2015-11-29 01:52:48+00:00</td>\n",
       "      <td>1494.0</td>\n",
       "      <td>733.0</td>\n",
       "    </tr>\n",
       "  </tbody>\n",
       "</table>\n",
       "</div>"
      ],
      "text/plain": [
       "                tweet_id                 timestamp  source  \\\n",
       "1389  700167517596164096 2016-02-18 03:58:39+00:00  iphone   \n",
       "1838  675898130735476737 2015-12-13 04:40:46+00:00  iphone   \n",
       "330   833124694597443584 2017-02-19 01:23:00+00:00  iphone   \n",
       "351   831322785565769729 2017-02-14 02:02:51+00:00  iphone   \n",
       "651   792773781206999040 2016-10-30 17:02:53+00:00  iphone   \n",
       "2246  667878741721415682 2015-11-21 01:34:35+00:00  iphone   \n",
       "809   771500966810099713 2016-09-02 00:12:18+00:00  iphone   \n",
       "957   751538714308972544 2016-07-08 22:09:27+00:00  iphone   \n",
       "1197  717009362452090881 2016-04-04 15:22:08+00:00  iphone   \n",
       "2092  670782429121134593 2015-11-29 01:52:48+00:00  iphone   \n",
       "\n",
       "                                                   text  \\\n",
       "1389  This is Dotsy. She's stuck as hell. 10/10 http...   \n",
       "1838  I'm sure you've all seen this pupper. Not prep...   \n",
       "330   This is Gidget. She's a spy pupper. Stealthy a...   \n",
       "351   This is Pete. He has no eyes. Needs a guide do...   \n",
       "651   This is Monster. Not an actual monster tho. He...   \n",
       "2246  This is Tedrick. He lives on the edge. Needs s...   \n",
       "809   This is Dakota. He's just saying hi. That's al...   \n",
       "957   This is Max. She has one ear that's always sli...   \n",
       "1197  This is Smokey. He's having some sort of exist...   \n",
       "2092  This dude slaps your girl's ass what do you do...   \n",
       "\n",
       "                                          expanded_urls  rating_numerator  \\\n",
       "1389  https://twitter.com/dog_rates/status/700167517...                10   \n",
       "1838  https://twitter.com/dog_rates/status/675898130...                10   \n",
       "330   https://twitter.com/dog_rates/status/833124694...                12   \n",
       "351   https://twitter.com/dog_rates/status/831322785...                12   \n",
       "651   https://twitter.com/dog_rates/status/792773781...                12   \n",
       "2246  https://twitter.com/dog_rates/status/667878741...                 2   \n",
       "809   https://twitter.com/dog_rates/status/771500966...                12   \n",
       "957   https://twitter.com/dog_rates/status/751538714...                10   \n",
       "1197  https://twitter.com/dog_rates/status/717009362...                10   \n",
       "2092  https://twitter.com/dog_rates/status/670782429...                 5   \n",
       "\n",
       "      rating_denominator     name dog_stage  \\\n",
       "1389                  10    Dotsy      None   \n",
       "1838                  10     None    pupper   \n",
       "330                   10   Gidget    pupper   \n",
       "351                   10     Pete     doggo   \n",
       "651                   10  Monster      None   \n",
       "2246                  10  Tedrick      None   \n",
       "809                   10   Dakota      None   \n",
       "957                   10      Max      None   \n",
       "1197                  10   Smokey    pupper   \n",
       "2092                  10     None      None   \n",
       "\n",
       "                                              jpg_url      breed_prediction  \\\n",
       "1389  https://pbs.twimg.com/media/Cbd-o8hWwAE4OFm.jpg                beagle   \n",
       "1838  https://pbs.twimg.com/media/CWFFt3_XIAArIYK.jpg    Labrador_retriever   \n",
       "330   https://pbs.twimg.com/media/C4_ad1IUoAEspsk.jpg              Cardigan   \n",
       "351   https://pbs.twimg.com/media/C4lzqQ4UEAApzU0.jpg  Old_English_sheepdog   \n",
       "651   https://pbs.twimg.com/media/CwB_i-zXEAEiP29.jpg     Yorkshire_terrier   \n",
       "2246  https://pbs.twimg.com/media/CUTILFiWcAE8Rle.jpg    miniature_pinscher   \n",
       "809   https://pbs.twimg.com/media/CrTsCPHWYAANdzC.jpg    Labrador_retriever   \n",
       "957   https://pbs.twimg.com/media/Cm4AeG8XEAAulD2.jpg    Labrador_retriever   \n",
       "1197  https://pbs.twimg.com/media/CfNUNetW8AAekHx.jpg        Siberian_husky   \n",
       "2092  https://pbs.twimg.com/media/CU8ZDu9WwAADg3N.jpg             Chihuahua   \n",
       "\n",
       "      breed_confidence                created_at  favorite_count  \\\n",
       "1389          0.162585 2016-02-18 03:58:39+00:00          2616.0   \n",
       "1838          0.407430 2015-12-13 04:40:46+00:00          1576.0   \n",
       "330           0.710523 2017-02-19 01:23:00+00:00         20243.0   \n",
       "351           0.999715 2017-02-14 02:02:51+00:00          9312.0   \n",
       "651           0.912804 2016-10-30 17:02:53+00:00          7482.0   \n",
       "2246          0.106003 2015-11-21 01:34:35+00:00           378.0   \n",
       "809           0.833952 2016-09-02 00:12:18+00:00          8333.0   \n",
       "957           0.516257 2016-07-08 22:09:27+00:00          5040.0   \n",
       "1197          0.506154 2016-04-04 15:22:08+00:00          3220.0   \n",
       "2092          0.952963 2015-11-29 01:52:48+00:00          1494.0   \n",
       "\n",
       "      retweet_count  \n",
       "1389          730.0  \n",
       "1838          558.0  \n",
       "330          4857.0  \n",
       "351          1563.0  \n",
       "651          1714.0  \n",
       "2246          113.0  \n",
       "809          2634.0  \n",
       "957          1266.0  \n",
       "1197          954.0  \n",
       "2092          733.0  "
      ]
     },
     "execution_count": 67,
     "metadata": {},
     "output_type": "execute_result"
    }
   ],
   "source": [
    "twitter_master.sample(10)"
   ]
  },
  {
   "cell_type": "markdown",
   "metadata": {},
   "source": [
    "**9. Fixing rating denominator.**\n",
    "\n",
    "**Code**"
   ]
  },
  {
   "cell_type": "code",
   "execution_count": 68,
   "metadata": {},
   "outputs": [
    {
     "name": "stdout",
     "output_type": "stream",
     "text": [
      "Tweets contains '/10' in the text : 12\n",
      "Tweets not contains 10 in denominator : 17\n"
     ]
    }
   ],
   "source": [
    "# fixing rating denominator\n",
    "print(\"Tweets contains '/10' in the text : {}\".format(twitter_master[~twitter_master['text'].str.contains('/10')]['tweet_id'].count()))\n",
    "print(\"Tweets not contains 10 in denominator : {}\".format(twitter_master[twitter_master['rating_denominator'] != 10]['tweet_id'].count()))"
   ]
  },
  {
   "cell_type": "code",
   "execution_count": 69,
   "metadata": {},
   "outputs": [],
   "source": [
    "twitter_master = twitter_master[twitter_master['text'].str.contains('/10')]"
   ]
  },
  {
   "cell_type": "code",
   "execution_count": 70,
   "metadata": {},
   "outputs": [
    {
     "name": "stdout",
     "output_type": "stream",
     "text": [
      "Tweets not contain 10 in denominator : 5\n"
     ]
    }
   ],
   "source": [
    "print(\"Tweets not contain 10 in denominator : {}\".format(twitter_master[twitter_master['rating_denominator'] != 10]['tweet_id'].count()))"
   ]
  },
  {
   "cell_type": "code",
   "execution_count": 71,
   "metadata": {},
   "outputs": [
    {
     "data": {
      "text/plain": [
       "1068    After so many requests, this is Bretagne. She ...\n",
       "1165    Happy 4/20 from the squad! 13/10 for all https...\n",
       "1202    This is Bluebert. He just saw that both #Final...\n",
       "1662    This is Darrel. He just robbed a 7/11 and is i...\n",
       "2335    This is an Albanian 3 1/2 legged  Episcopalian...\n",
       "Name: text, dtype: object"
      ]
     },
     "execution_count": 71,
     "metadata": {},
     "output_type": "execute_result"
    }
   ],
   "source": [
    "twitter_master[twitter_master['rating_denominator'] != 10].text"
   ]
  },
  {
   "cell_type": "code",
   "execution_count": 72,
   "metadata": {},
   "outputs": [],
   "source": [
    "not_10 = twitter_master[twitter_master['rating_denominator'] != 10].index\n",
    "\n",
    "for i in not_10:\n",
    "    twitter_master.at[i, 'rating_denominator'] = 10"
   ]
  },
  {
   "cell_type": "code",
   "execution_count": 73,
   "metadata": {},
   "outputs": [
    {
     "data": {
      "text/plain": [
       "12      446\n",
       "10      417\n",
       "11      392\n",
       "13      253\n",
       "9       150\n",
       "8        95\n",
       "7        52\n",
       "14       33\n",
       "5        33\n",
       "6        32\n",
       "3        19\n",
       "4        16\n",
       "2         9\n",
       "1         5\n",
       "1776      1\n",
       "420       1\n",
       "26        1\n",
       "27        1\n",
       "50        1\n",
       "75        1\n",
       "0         1\n",
       "Name: rating_numerator, dtype: int64"
      ]
     },
     "execution_count": 73,
     "metadata": {},
     "output_type": "execute_result"
    }
   ],
   "source": [
    "# fixing rating numerator\n",
    "twitter_master['rating_numerator'].value_counts()"
   ]
  },
  {
   "cell_type": "code",
   "execution_count": 74,
   "metadata": {},
   "outputs": [
    {
     "name": "stdout",
     "output_type": "stream",
     "text": [
      "Ratings that fix by manually: 7\n",
      "Ratings that fix by code: 7\n"
     ]
    }
   ],
   "source": [
    "fix_manually = set()\n",
    "fix_by_code = set()\n",
    "\n",
    "for i in twitter_master.index:\n",
    "    idx = int(twitter_master.loc[i].text.find('/10'))\n",
    "    \n",
    "    try:\n",
    "        num = int(twitter_master.loc[i].text[idx-2:idx].strip())\n",
    "    \n",
    "    except:\n",
    "        fix_manually.add(i)\n",
    "        continue\n",
    "    \n",
    "    if num != twitter_master.loc[i].rating_numerator:\n",
    "        fix_by_code.add(i)\n",
    "\n",
    "print('Ratings that fix by manually: {}'.format(len(fix_manually)))\n",
    "print('Ratings that fix by code: {}'.format(len(fix_by_code)))"
   ]
  },
  {
   "cell_type": "code",
   "execution_count": 75,
   "metadata": {},
   "outputs": [
    {
     "name": "stdout",
     "output_type": "stream",
     "text": [
      "1068 - After so many requests, this is Bretagne. She was the last surviving 9/11 search dog, and our second ever 14/10. RIP https://t.co/XAVDNDaVgQ\n",
      "1165 - Happy 4/20 from the squad! 13/10 for all https://t.co/eV1diwds8a\n",
      "1202 - This is Bluebert. He just saw that both #FinalFur match ups are split 50/50. Amazed af. 11/10 https://t.co/Kky1DPG4iq\n",
      "979 - This is Atticus. He's quite simply America af. 1776/10 https://t.co/GRXwMxLBkh\n",
      "2074 - After so many requests... here you go.\n",
      "\n",
      "Good dogg. 420/10 https://t.co/yfAAo1gdeY\n",
      "1662 - This is Darrel. He just robbed a 7/11 and is in a high speed police chase. Was just spotted by the helicopter 10/10 https://t.co/7EsP8LmSp5\n",
      "2335 - This is an Albanian 3 1/2 legged  Episcopalian. Loves well-polished hardwood flooring. Penis on the collar. 9/10 https://t.co/d9NcXFKwLv\n"
     ]
    }
   ],
   "source": [
    "for i in fix_by_code:\n",
    "    print('{} - {}'.format(i, twitter_master.loc[i]['text']))"
   ]
  },
  {
   "cell_type": "code",
   "execution_count": 76,
   "metadata": {},
   "outputs": [],
   "source": [
    "for i in fix_by_code:\n",
    "    idx = int(twitter_master.loc[i].text.find('/10'))\n",
    "    num = int(twitter_master.loc[i].text[idx-2:idx].strip())\n",
    "    twitter_master.loc[i,'rating_numerator'] = num"
   ]
  },
  {
   "cell_type": "code",
   "execution_count": 77,
   "metadata": {},
   "outputs": [
    {
     "name": "stdout",
     "output_type": "stream",
     "text": [
      "1025 - This is an Iraqi Speed Kangaroo. It is not a dog. Please only send in dogs. I'm very angry with all of you ...9/10 https://t.co/5qpBTTpgUt\n",
      "2246 - This is Tedrick. He lives on the edge. Needs someone to hit the gas tho. Other than that he's a baller. 10&amp;2/10 https://t.co/LvP1TTYSCN\n",
      "1610 - For the last time, WE. DO. NOT. RATE. BULBASAUR. We only rate dogs. Please only send dogs. Thank you ...9/10 https://t.co/GboDG8WhJG\n",
      "45 - This is Bella. She hopes her smile made you smile. If not, she is also offering you her favorite monkey. 13.5/10 https://t.co/qjrljjt948\n",
      "1653 - \"Hello forest pupper I am house pupper welcome to my abode\" (8/10 for both) https://t.co/qFD8217fUT\n",
      "1435 - Please stop sending in saber-toothed tigers. This is getting ridiculous. We only rate dogs.\n",
      "...8/10 https://t.co/iAeQNueou8\n",
      "1372 - I know it's tempting, but please stop sending in pics of Donald Trump. Thank you ...9/10 https://t.co/y35Y1TJERY\n"
     ]
    }
   ],
   "source": [
    "for i in fix_manually:\n",
    "    print('{} - {}'.format(i, twitter_master.loc[i]['text']))"
   ]
  },
  {
   "cell_type": "code",
   "execution_count": 78,
   "metadata": {},
   "outputs": [],
   "source": [
    "twitter_master.loc[1025,'rating_numerator'] = 9\n",
    "twitter_master.loc[2246,'rating_numerator'] = 12\n",
    "twitter_master.loc[1610,'rating_numerator'] = 9\n",
    "twitter_master.loc[45,'rating_numerator'] = 13.5\n",
    "twitter_master.loc[1653,'rating_numerator'] = 8\n",
    "twitter_master.loc[1435,'rating_numerator'] = 8\n",
    "twitter_master.loc[1372,'rating_numerator'] = 9"
   ]
  },
  {
   "cell_type": "code",
   "execution_count": 79,
   "metadata": {},
   "outputs": [
    {
     "data": {
      "text/plain": [
       "12.0    447\n",
       "10.0    418\n",
       "11.0    393\n",
       "13.0    254\n",
       "9.0     150\n",
       "8.0      95\n",
       "7.0      51\n",
       "14.0     34\n",
       "5.0      32\n",
       "6.0      32\n",
       "3.0      19\n",
       "4.0      15\n",
       "2.0       8\n",
       "1.0       4\n",
       "27.0      1\n",
       "20.0      1\n",
       "0.0       1\n",
       "76.0      1\n",
       "26.0      1\n",
       "13.5      1\n",
       "75.0      1\n",
       "Name: rating_numerator, dtype: int64"
      ]
     },
     "execution_count": 79,
     "metadata": {},
     "output_type": "execute_result"
    }
   ],
   "source": [
    "twitter_master['rating_numerator'].value_counts()"
   ]
  },
  {
   "cell_type": "code",
   "execution_count": 80,
   "metadata": {},
   "outputs": [
    {
     "data": {
      "text/plain": [
       "10    1959\n",
       "Name: rating_denominator, dtype: int64"
      ]
     },
     "execution_count": 80,
     "metadata": {},
     "output_type": "execute_result"
    }
   ],
   "source": [
    "twitter_master['rating_denominator'].value_counts()"
   ]
  },
  {
   "cell_type": "code",
   "execution_count": 81,
   "metadata": {},
   "outputs": [
    {
     "name": "stdout",
     "output_type": "stream",
     "text": [
      "<class 'pandas.core.frame.DataFrame'>\n",
      "Int64Index: 1959 entries, 0 to 2355\n",
      "Data columns (total 15 columns):\n",
      "tweet_id              1959 non-null object\n",
      "timestamp             1959 non-null datetime64[ns, UTC]\n",
      "source                1959 non-null object\n",
      "text                  1959 non-null object\n",
      "expanded_urls         1959 non-null object\n",
      "rating_numerator      1959 non-null float64\n",
      "rating_denominator    1959 non-null int64\n",
      "name                  1959 non-null object\n",
      "dog_stage             1959 non-null category\n",
      "jpg_url               1959 non-null object\n",
      "breed_prediction      1959 non-null object\n",
      "breed_confidence      1959 non-null float64\n",
      "created_at            1952 non-null datetime64[ns, UTC]\n",
      "favorite_count        1952 non-null float64\n",
      "retweet_count         1952 non-null float64\n",
      "dtypes: category(1), datetime64[ns, UTC](2), float64(4), int64(1), object(7)\n",
      "memory usage: 311.7+ KB\n"
     ]
    }
   ],
   "source": [
    "twitter_master.info()"
   ]
  },
  {
   "cell_type": "markdown",
   "metadata": {},
   "source": [
    "**10. Making all rows equal.**\n",
    "\n",
    "**Define**\n",
    "* Filter all the rows that are not null.\n",
    "\n",
    "**Code**"
   ]
  },
  {
   "cell_type": "code",
   "execution_count": 82,
   "metadata": {},
   "outputs": [],
   "source": [
    "twitter_master = twitter_master[twitter_master['created_at'].notnull()]"
   ]
  },
  {
   "cell_type": "markdown",
   "metadata": {},
   "source": [
    "**Test**"
   ]
  },
  {
   "cell_type": "code",
   "execution_count": 83,
   "metadata": {},
   "outputs": [
    {
     "name": "stdout",
     "output_type": "stream",
     "text": [
      "<class 'pandas.core.frame.DataFrame'>\n",
      "Int64Index: 1952 entries, 0 to 2355\n",
      "Data columns (total 15 columns):\n",
      "tweet_id              1952 non-null object\n",
      "timestamp             1952 non-null datetime64[ns, UTC]\n",
      "source                1952 non-null object\n",
      "text                  1952 non-null object\n",
      "expanded_urls         1952 non-null object\n",
      "rating_numerator      1952 non-null float64\n",
      "rating_denominator    1952 non-null int64\n",
      "name                  1952 non-null object\n",
      "dog_stage             1952 non-null category\n",
      "jpg_url               1952 non-null object\n",
      "breed_prediction      1952 non-null object\n",
      "breed_confidence      1952 non-null float64\n",
      "created_at            1952 non-null datetime64[ns, UTC]\n",
      "favorite_count        1952 non-null float64\n",
      "retweet_count         1952 non-null float64\n",
      "dtypes: category(1), datetime64[ns, UTC](2), float64(4), int64(1), object(7)\n",
      "memory usage: 230.9+ KB\n"
     ]
    }
   ],
   "source": [
    "twitter_master.info()"
   ]
  },
  {
   "cell_type": "markdown",
   "metadata": {},
   "source": [
    "<a id='store'></a>\n",
    "## Storing Data"
   ]
  },
  {
   "cell_type": "code",
   "execution_count": 84,
   "metadata": {},
   "outputs": [],
   "source": [
    "twitter_master.to_csv('twitter_archive_master.csv', index_label=False, encoding = 'utf-8')"
   ]
  },
  {
   "cell_type": "code",
   "execution_count": 85,
   "metadata": {},
   "outputs": [
    {
     "data": {
      "text/html": [
       "<div>\n",
       "<style scoped>\n",
       "    .dataframe tbody tr th:only-of-type {\n",
       "        vertical-align: middle;\n",
       "    }\n",
       "\n",
       "    .dataframe tbody tr th {\n",
       "        vertical-align: top;\n",
       "    }\n",
       "\n",
       "    .dataframe thead th {\n",
       "        text-align: right;\n",
       "    }\n",
       "</style>\n",
       "<table border=\"1\" class=\"dataframe\">\n",
       "  <thead>\n",
       "    <tr style=\"text-align: right;\">\n",
       "      <th></th>\n",
       "      <th>tweet_id</th>\n",
       "      <th>timestamp</th>\n",
       "      <th>source</th>\n",
       "      <th>text</th>\n",
       "      <th>expanded_urls</th>\n",
       "      <th>rating_numerator</th>\n",
       "      <th>rating_denominator</th>\n",
       "      <th>name</th>\n",
       "      <th>dog_stage</th>\n",
       "      <th>jpg_url</th>\n",
       "      <th>breed_prediction</th>\n",
       "      <th>breed_confidence</th>\n",
       "      <th>created_at</th>\n",
       "      <th>favorite_count</th>\n",
       "      <th>retweet_count</th>\n",
       "    </tr>\n",
       "  </thead>\n",
       "  <tbody>\n",
       "    <tr>\n",
       "      <th>0</th>\n",
       "      <td>892420643555336193</td>\n",
       "      <td>2017-08-01 16:23:56+00:00</td>\n",
       "      <td>iphone</td>\n",
       "      <td>This is Phineas. He's a mystical boy. Only eve...</td>\n",
       "      <td>https://twitter.com/dog_rates/status/892420643...</td>\n",
       "      <td>13.0</td>\n",
       "      <td>10</td>\n",
       "      <td>Phineas</td>\n",
       "      <td>None</td>\n",
       "      <td>https://pbs.twimg.com/media/DGKD1-bXoAAIAUK.jpg</td>\n",
       "      <td>NaN</td>\n",
       "      <td>0.000000</td>\n",
       "      <td>2017-08-01 16:23:56+00:00</td>\n",
       "      <td>36134.0</td>\n",
       "      <td>7695.0</td>\n",
       "    </tr>\n",
       "    <tr>\n",
       "      <th>1</th>\n",
       "      <td>892177421306343426</td>\n",
       "      <td>2017-08-01 00:17:27+00:00</td>\n",
       "      <td>iphone</td>\n",
       "      <td>This is Tilly. She's just checking pup on you....</td>\n",
       "      <td>https://twitter.com/dog_rates/status/892177421...</td>\n",
       "      <td>13.0</td>\n",
       "      <td>10</td>\n",
       "      <td>Tilly</td>\n",
       "      <td>None</td>\n",
       "      <td>https://pbs.twimg.com/media/DGGmoV4XsAAUL6n.jpg</td>\n",
       "      <td>Chihuahua</td>\n",
       "      <td>0.323581</td>\n",
       "      <td>2017-08-01 00:17:27+00:00</td>\n",
       "      <td>31153.0</td>\n",
       "      <td>5690.0</td>\n",
       "    </tr>\n",
       "    <tr>\n",
       "      <th>2</th>\n",
       "      <td>891815181378084864</td>\n",
       "      <td>2017-07-31 00:18:03+00:00</td>\n",
       "      <td>iphone</td>\n",
       "      <td>This is Archie. He is a rare Norwegian Pouncin...</td>\n",
       "      <td>https://twitter.com/dog_rates/status/891815181...</td>\n",
       "      <td>12.0</td>\n",
       "      <td>10</td>\n",
       "      <td>Archie</td>\n",
       "      <td>None</td>\n",
       "      <td>https://pbs.twimg.com/media/DGBdLU1WsAANxJ9.jpg</td>\n",
       "      <td>Chihuahua</td>\n",
       "      <td>0.716012</td>\n",
       "      <td>2017-07-31 00:18:03+00:00</td>\n",
       "      <td>23471.0</td>\n",
       "      <td>3774.0</td>\n",
       "    </tr>\n",
       "    <tr>\n",
       "      <th>3</th>\n",
       "      <td>891689557279858688</td>\n",
       "      <td>2017-07-30 15:58:51+00:00</td>\n",
       "      <td>iphone</td>\n",
       "      <td>This is Darla. She commenced a snooze mid meal...</td>\n",
       "      <td>https://twitter.com/dog_rates/status/891689557...</td>\n",
       "      <td>13.0</td>\n",
       "      <td>10</td>\n",
       "      <td>Darla</td>\n",
       "      <td>None</td>\n",
       "      <td>https://pbs.twimg.com/media/DF_q7IAWsAEuuN8.jpg</td>\n",
       "      <td>Labrador_retriever</td>\n",
       "      <td>0.168086</td>\n",
       "      <td>2017-07-30 15:58:51+00:00</td>\n",
       "      <td>39399.0</td>\n",
       "      <td>7851.0</td>\n",
       "    </tr>\n",
       "    <tr>\n",
       "      <th>4</th>\n",
       "      <td>891327558926688256</td>\n",
       "      <td>2017-07-29 16:00:24+00:00</td>\n",
       "      <td>iphone</td>\n",
       "      <td>This is Franklin. He would like you to stop ca...</td>\n",
       "      <td>https://twitter.com/dog_rates/status/891327558...</td>\n",
       "      <td>12.0</td>\n",
       "      <td>10</td>\n",
       "      <td>Franklin</td>\n",
       "      <td>None</td>\n",
       "      <td>https://pbs.twimg.com/media/DF6hr6BUMAAzZgT.jpg</td>\n",
       "      <td>basset</td>\n",
       "      <td>0.555712</td>\n",
       "      <td>2017-07-29 16:00:24+00:00</td>\n",
       "      <td>37619.0</td>\n",
       "      <td>8466.0</td>\n",
       "    </tr>\n",
       "    <tr>\n",
       "      <th>5</th>\n",
       "      <td>891087950875897856</td>\n",
       "      <td>2017-07-29 00:08:17+00:00</td>\n",
       "      <td>iphone</td>\n",
       "      <td>Here we have a majestic great white breaching ...</td>\n",
       "      <td>https://twitter.com/dog_rates/status/891087950...</td>\n",
       "      <td>13.0</td>\n",
       "      <td>10</td>\n",
       "      <td>None</td>\n",
       "      <td>None</td>\n",
       "      <td>https://pbs.twimg.com/media/DF3HwyEWsAABqE6.jpg</td>\n",
       "      <td>Chesapeake_Bay_retriever</td>\n",
       "      <td>0.425595</td>\n",
       "      <td>2017-07-29 00:08:17+00:00</td>\n",
       "      <td>18958.0</td>\n",
       "      <td>2834.0</td>\n",
       "    </tr>\n",
       "    <tr>\n",
       "      <th>6</th>\n",
       "      <td>890971913173991426</td>\n",
       "      <td>2017-07-28 16:27:12+00:00</td>\n",
       "      <td>iphone</td>\n",
       "      <td>Meet Jax. He enjoys ice cream so much he gets ...</td>\n",
       "      <td>https://gofundme.com/ydvmve-surgery-for-jax,ht...</td>\n",
       "      <td>13.0</td>\n",
       "      <td>10</td>\n",
       "      <td>Jax</td>\n",
       "      <td>None</td>\n",
       "      <td>https://pbs.twimg.com/media/DF1eOmZXUAALUcq.jpg</td>\n",
       "      <td>Appenzeller</td>\n",
       "      <td>0.341703</td>\n",
       "      <td>2017-07-28 16:27:12+00:00</td>\n",
       "      <td>11033.0</td>\n",
       "      <td>1846.0</td>\n",
       "    </tr>\n",
       "    <tr>\n",
       "      <th>7</th>\n",
       "      <td>890729181411237888</td>\n",
       "      <td>2017-07-28 00:22:40+00:00</td>\n",
       "      <td>iphone</td>\n",
       "      <td>When you watch your owner call another dog a g...</td>\n",
       "      <td>https://twitter.com/dog_rates/status/890729181...</td>\n",
       "      <td>13.0</td>\n",
       "      <td>10</td>\n",
       "      <td>None</td>\n",
       "      <td>None</td>\n",
       "      <td>https://pbs.twimg.com/media/DFyBahAVwAAhUTd.jpg</td>\n",
       "      <td>Pomeranian</td>\n",
       "      <td>0.566142</td>\n",
       "      <td>2017-07-28 00:22:40+00:00</td>\n",
       "      <td>60832.0</td>\n",
       "      <td>17165.0</td>\n",
       "    </tr>\n",
       "    <tr>\n",
       "      <th>8</th>\n",
       "      <td>890609185150312448</td>\n",
       "      <td>2017-07-27 16:25:51+00:00</td>\n",
       "      <td>iphone</td>\n",
       "      <td>This is Zoey. She doesn't want to be one of th...</td>\n",
       "      <td>https://twitter.com/dog_rates/status/890609185...</td>\n",
       "      <td>13.0</td>\n",
       "      <td>10</td>\n",
       "      <td>Zoey</td>\n",
       "      <td>None</td>\n",
       "      <td>https://pbs.twimg.com/media/DFwUU__XcAEpyXI.jpg</td>\n",
       "      <td>Irish_terrier</td>\n",
       "      <td>0.487574</td>\n",
       "      <td>2017-07-27 16:25:51+00:00</td>\n",
       "      <td>26084.0</td>\n",
       "      <td>3907.0</td>\n",
       "    </tr>\n",
       "    <tr>\n",
       "      <th>9</th>\n",
       "      <td>890240255349198849</td>\n",
       "      <td>2017-07-26 15:59:51+00:00</td>\n",
       "      <td>iphone</td>\n",
       "      <td>This is Cassie. She is a college pup. Studying...</td>\n",
       "      <td>https://twitter.com/dog_rates/status/890240255...</td>\n",
       "      <td>14.0</td>\n",
       "      <td>10</td>\n",
       "      <td>Cassie</td>\n",
       "      <td>doggo</td>\n",
       "      <td>https://pbs.twimg.com/media/DFrEyVuW0AAO3t9.jpg</td>\n",
       "      <td>Pembroke</td>\n",
       "      <td>0.511319</td>\n",
       "      <td>2017-07-26 15:59:51+00:00</td>\n",
       "      <td>29824.0</td>\n",
       "      <td>6677.0</td>\n",
       "    </tr>\n",
       "    <tr>\n",
       "      <th>10</th>\n",
       "      <td>890006608113172480</td>\n",
       "      <td>2017-07-26 00:31:25+00:00</td>\n",
       "      <td>iphone</td>\n",
       "      <td>This is Koda. He is a South Australian decksha...</td>\n",
       "      <td>https://twitter.com/dog_rates/status/890006608...</td>\n",
       "      <td>13.0</td>\n",
       "      <td>10</td>\n",
       "      <td>Koda</td>\n",
       "      <td>None</td>\n",
       "      <td>https://pbs.twimg.com/media/DFnwSY4WAAAMliS.jpg</td>\n",
       "      <td>Samoyed</td>\n",
       "      <td>0.957979</td>\n",
       "      <td>2017-07-26 00:31:25+00:00</td>\n",
       "      <td>28708.0</td>\n",
       "      <td>6664.0</td>\n",
       "    </tr>\n",
       "    <tr>\n",
       "      <th>11</th>\n",
       "      <td>889880896479866881</td>\n",
       "      <td>2017-07-25 16:11:53+00:00</td>\n",
       "      <td>iphone</td>\n",
       "      <td>This is Bruno. He is a service shark. Only get...</td>\n",
       "      <td>https://twitter.com/dog_rates/status/889880896...</td>\n",
       "      <td>13.0</td>\n",
       "      <td>10</td>\n",
       "      <td>Bruno</td>\n",
       "      <td>None</td>\n",
       "      <td>https://pbs.twimg.com/media/DFl99B1WsAITKsg.jpg</td>\n",
       "      <td>French_bulldog</td>\n",
       "      <td>0.377417</td>\n",
       "      <td>2017-07-25 16:11:53+00:00</td>\n",
       "      <td>26116.0</td>\n",
       "      <td>4539.0</td>\n",
       "    </tr>\n",
       "    <tr>\n",
       "      <th>12</th>\n",
       "      <td>889665388333682689</td>\n",
       "      <td>2017-07-25 01:55:32+00:00</td>\n",
       "      <td>iphone</td>\n",
       "      <td>Here's a puppo that seems to be on the fence a...</td>\n",
       "      <td>https://twitter.com/dog_rates/status/889665388...</td>\n",
       "      <td>13.0</td>\n",
       "      <td>10</td>\n",
       "      <td>None</td>\n",
       "      <td>puppo</td>\n",
       "      <td>https://pbs.twimg.com/media/DFi579UWsAAatzw.jpg</td>\n",
       "      <td>Pembroke</td>\n",
       "      <td>0.966327</td>\n",
       "      <td>2017-07-25 01:55:32+00:00</td>\n",
       "      <td>44949.0</td>\n",
       "      <td>9102.0</td>\n",
       "    </tr>\n",
       "    <tr>\n",
       "      <th>13</th>\n",
       "      <td>889638837579907072</td>\n",
       "      <td>2017-07-25 00:10:02+00:00</td>\n",
       "      <td>iphone</td>\n",
       "      <td>This is Ted. He does his best. Sometimes that'...</td>\n",
       "      <td>https://twitter.com/dog_rates/status/889638837...</td>\n",
       "      <td>12.0</td>\n",
       "      <td>10</td>\n",
       "      <td>Ted</td>\n",
       "      <td>None</td>\n",
       "      <td>https://pbs.twimg.com/media/DFihzFfXsAYGDPR.jpg</td>\n",
       "      <td>French_bulldog</td>\n",
       "      <td>0.991650</td>\n",
       "      <td>2017-07-25 00:10:02+00:00</td>\n",
       "      <td>25300.0</td>\n",
       "      <td>4078.0</td>\n",
       "    </tr>\n",
       "    <tr>\n",
       "      <th>14</th>\n",
       "      <td>889531135344209921</td>\n",
       "      <td>2017-07-24 17:02:04+00:00</td>\n",
       "      <td>iphone</td>\n",
       "      <td>This is Stuart. He's sporting his favorite fan...</td>\n",
       "      <td>https://twitter.com/dog_rates/status/889531135...</td>\n",
       "      <td>13.0</td>\n",
       "      <td>10</td>\n",
       "      <td>Stuart</td>\n",
       "      <td>puppo</td>\n",
       "      <td>https://pbs.twimg.com/media/DFg_2PVW0AEHN3p.jpg</td>\n",
       "      <td>golden_retriever</td>\n",
       "      <td>0.953442</td>\n",
       "      <td>2017-07-24 17:02:04+00:00</td>\n",
       "      <td>14171.0</td>\n",
       "      <td>2052.0</td>\n",
       "    </tr>\n",
       "    <tr>\n",
       "      <th>15</th>\n",
       "      <td>889278841981685760</td>\n",
       "      <td>2017-07-24 00:19:32+00:00</td>\n",
       "      <td>iphone</td>\n",
       "      <td>This is Oliver. You're witnessing one of his m...</td>\n",
       "      <td>https://twitter.com/dog_rates/status/889278841...</td>\n",
       "      <td>13.0</td>\n",
       "      <td>10</td>\n",
       "      <td>Oliver</td>\n",
       "      <td>None</td>\n",
       "      <td>https://pbs.twimg.com/ext_tw_video_thumb/88927...</td>\n",
       "      <td>whippet</td>\n",
       "      <td>0.626152</td>\n",
       "      <td>2017-07-24 00:19:32+00:00</td>\n",
       "      <td>23579.0</td>\n",
       "      <td>4853.0</td>\n",
       "    </tr>\n",
       "    <tr>\n",
       "      <th>16</th>\n",
       "      <td>888917238123831296</td>\n",
       "      <td>2017-07-23 00:22:39+00:00</td>\n",
       "      <td>iphone</td>\n",
       "      <td>This is Jim. He found a fren. Taught him how t...</td>\n",
       "      <td>https://twitter.com/dog_rates/status/888917238...</td>\n",
       "      <td>12.0</td>\n",
       "      <td>10</td>\n",
       "      <td>Jim</td>\n",
       "      <td>None</td>\n",
       "      <td>https://pbs.twimg.com/media/DFYRgsOUQAARGhO.jpg</td>\n",
       "      <td>golden_retriever</td>\n",
       "      <td>0.714719</td>\n",
       "      <td>2017-07-23 00:22:39+00:00</td>\n",
       "      <td>27207.0</td>\n",
       "      <td>4093.0</td>\n",
       "    </tr>\n",
       "    <tr>\n",
       "      <th>17</th>\n",
       "      <td>888804989199671297</td>\n",
       "      <td>2017-07-22 16:56:37+00:00</td>\n",
       "      <td>iphone</td>\n",
       "      <td>This is Zeke. He has a new stick. Very proud o...</td>\n",
       "      <td>https://twitter.com/dog_rates/status/888804989...</td>\n",
       "      <td>13.0</td>\n",
       "      <td>10</td>\n",
       "      <td>Zeke</td>\n",
       "      <td>None</td>\n",
       "      <td>https://pbs.twimg.com/media/DFWra-3VYAA2piG.jpg</td>\n",
       "      <td>golden_retriever</td>\n",
       "      <td>0.469760</td>\n",
       "      <td>2017-07-22 16:56:37+00:00</td>\n",
       "      <td>23931.0</td>\n",
       "      <td>3860.0</td>\n",
       "    </tr>\n",
       "    <tr>\n",
       "      <th>18</th>\n",
       "      <td>888554962724278272</td>\n",
       "      <td>2017-07-22 00:23:06+00:00</td>\n",
       "      <td>iphone</td>\n",
       "      <td>This is Ralphus. He's powering up. Attempting ...</td>\n",
       "      <td>https://twitter.com/dog_rates/status/888554962...</td>\n",
       "      <td>13.0</td>\n",
       "      <td>10</td>\n",
       "      <td>Ralphus</td>\n",
       "      <td>None</td>\n",
       "      <td>https://pbs.twimg.com/media/DFTH_O-UQAACu20.jpg</td>\n",
       "      <td>Siberian_husky</td>\n",
       "      <td>0.700377</td>\n",
       "      <td>2017-07-22 00:23:06+00:00</td>\n",
       "      <td>18478.0</td>\n",
       "      <td>3169.0</td>\n",
       "    </tr>\n",
       "    <tr>\n",
       "      <th>20</th>\n",
       "      <td>888078434458587136</td>\n",
       "      <td>2017-07-20 16:49:33+00:00</td>\n",
       "      <td>iphone</td>\n",
       "      <td>This is Gerald. He was just told he didn't get...</td>\n",
       "      <td>https://twitter.com/dog_rates/status/888078434...</td>\n",
       "      <td>12.0</td>\n",
       "      <td>10</td>\n",
       "      <td>Gerald</td>\n",
       "      <td>None</td>\n",
       "      <td>https://pbs.twimg.com/media/DFMWn56WsAAkA7B.jpg</td>\n",
       "      <td>French_bulldog</td>\n",
       "      <td>0.995026</td>\n",
       "      <td>2017-07-20 16:49:33+00:00</td>\n",
       "      <td>20379.0</td>\n",
       "      <td>3158.0</td>\n",
       "    </tr>\n",
       "    <tr>\n",
       "      <th>21</th>\n",
       "      <td>887705289381826560</td>\n",
       "      <td>2017-07-19 16:06:48+00:00</td>\n",
       "      <td>iphone</td>\n",
       "      <td>This is Jeffrey. He has a monopoly on the pool...</td>\n",
       "      <td>https://twitter.com/dog_rates/status/887705289...</td>\n",
       "      <td>13.0</td>\n",
       "      <td>10</td>\n",
       "      <td>Jeffrey</td>\n",
       "      <td>None</td>\n",
       "      <td>https://pbs.twimg.com/media/DFHDQBbXgAEqY7t.jpg</td>\n",
       "      <td>basset</td>\n",
       "      <td>0.821664</td>\n",
       "      <td>2017-07-19 16:06:48+00:00</td>\n",
       "      <td>28291.0</td>\n",
       "      <td>4905.0</td>\n",
       "    </tr>\n",
       "    <tr>\n",
       "      <th>22</th>\n",
       "      <td>887517139158093824</td>\n",
       "      <td>2017-07-19 03:39:09+00:00</td>\n",
       "      <td>iphone</td>\n",
       "      <td>I've yet to rate a Venezuelan Hover Wiener. Th...</td>\n",
       "      <td>https://twitter.com/dog_rates/status/887517139...</td>\n",
       "      <td>14.0</td>\n",
       "      <td>10</td>\n",
       "      <td>None</td>\n",
       "      <td>None</td>\n",
       "      <td>https://pbs.twimg.com/ext_tw_video_thumb/88751...</td>\n",
       "      <td>NaN</td>\n",
       "      <td>0.000000</td>\n",
       "      <td>2017-07-19 03:39:09+00:00</td>\n",
       "      <td>43388.0</td>\n",
       "      <td>10722.0</td>\n",
       "    </tr>\n",
       "    <tr>\n",
       "      <th>23</th>\n",
       "      <td>887473957103951883</td>\n",
       "      <td>2017-07-19 00:47:34+00:00</td>\n",
       "      <td>iphone</td>\n",
       "      <td>This is Canela. She attempted some fancy porch...</td>\n",
       "      <td>https://twitter.com/dog_rates/status/887473957...</td>\n",
       "      <td>13.0</td>\n",
       "      <td>10</td>\n",
       "      <td>Canela</td>\n",
       "      <td>None</td>\n",
       "      <td>https://pbs.twimg.com/media/DFDw2tyUQAAAFke.jpg</td>\n",
       "      <td>Pembroke</td>\n",
       "      <td>0.809197</td>\n",
       "      <td>2017-07-19 00:47:34+00:00</td>\n",
       "      <td>64289.0</td>\n",
       "      <td>16370.0</td>\n",
       "    </tr>\n",
       "    <tr>\n",
       "      <th>24</th>\n",
       "      <td>887343217045368832</td>\n",
       "      <td>2017-07-18 16:08:03+00:00</td>\n",
       "      <td>iphone</td>\n",
       "      <td>You may not have known you needed to see this ...</td>\n",
       "      <td>https://twitter.com/dog_rates/status/887343217...</td>\n",
       "      <td>13.0</td>\n",
       "      <td>10</td>\n",
       "      <td>None</td>\n",
       "      <td>None</td>\n",
       "      <td>https://pbs.twimg.com/ext_tw_video_thumb/88734...</td>\n",
       "      <td>Mexican_hairless</td>\n",
       "      <td>0.330741</td>\n",
       "      <td>2017-07-18 16:08:03+00:00</td>\n",
       "      <td>31485.0</td>\n",
       "      <td>9534.0</td>\n",
       "    </tr>\n",
       "    <tr>\n",
       "      <th>25</th>\n",
       "      <td>887101392804085760</td>\n",
       "      <td>2017-07-18 00:07:08+00:00</td>\n",
       "      <td>iphone</td>\n",
       "      <td>This... is a Jubilant Antarctic House Bear. We...</td>\n",
       "      <td>https://twitter.com/dog_rates/status/887101392...</td>\n",
       "      <td>12.0</td>\n",
       "      <td>10</td>\n",
       "      <td>None</td>\n",
       "      <td>None</td>\n",
       "      <td>https://pbs.twimg.com/media/DE-eAq6UwAA-jaE.jpg</td>\n",
       "      <td>Samoyed</td>\n",
       "      <td>0.733942</td>\n",
       "      <td>2017-07-18 00:07:08+00:00</td>\n",
       "      <td>28641.0</td>\n",
       "      <td>5429.0</td>\n",
       "    </tr>\n",
       "    <tr>\n",
       "      <th>26</th>\n",
       "      <td>886983233522544640</td>\n",
       "      <td>2017-07-17 16:17:36+00:00</td>\n",
       "      <td>iphone</td>\n",
       "      <td>This is Maya. She's very shy. Rarely leaves he...</td>\n",
       "      <td>https://twitter.com/dog_rates/status/886983233...</td>\n",
       "      <td>13.0</td>\n",
       "      <td>10</td>\n",
       "      <td>Maya</td>\n",
       "      <td>None</td>\n",
       "      <td>https://pbs.twimg.com/media/DE8yicJW0AAAvBJ.jpg</td>\n",
       "      <td>Chihuahua</td>\n",
       "      <td>0.793469</td>\n",
       "      <td>2017-07-17 16:17:36+00:00</td>\n",
       "      <td>32660.0</td>\n",
       "      <td>6984.0</td>\n",
       "    </tr>\n",
       "    <tr>\n",
       "      <th>27</th>\n",
       "      <td>886736880519319552</td>\n",
       "      <td>2017-07-16 23:58:41+00:00</td>\n",
       "      <td>iphone</td>\n",
       "      <td>This is Mingus. He's a wonderful father to his...</td>\n",
       "      <td>https://www.gofundme.com/mingusneedsus,https:/...</td>\n",
       "      <td>13.0</td>\n",
       "      <td>10</td>\n",
       "      <td>Mingus</td>\n",
       "      <td>None</td>\n",
       "      <td>https://pbs.twimg.com/media/DE5Se8FXcAAJFx4.jpg</td>\n",
       "      <td>kuvasz</td>\n",
       "      <td>0.309706</td>\n",
       "      <td>2017-07-16 23:58:41+00:00</td>\n",
       "      <td>11217.0</td>\n",
       "      <td>2929.0</td>\n",
       "    </tr>\n",
       "    <tr>\n",
       "      <th>28</th>\n",
       "      <td>886680336477933568</td>\n",
       "      <td>2017-07-16 20:14:00+00:00</td>\n",
       "      <td>iphone</td>\n",
       "      <td>This is Derek. He's late for a dog meeting. 13...</td>\n",
       "      <td>https://twitter.com/dog_rates/status/886680336...</td>\n",
       "      <td>13.0</td>\n",
       "      <td>10</td>\n",
       "      <td>Derek</td>\n",
       "      <td>None</td>\n",
       "      <td>https://pbs.twimg.com/media/DE4fEDzWAAAyHMM.jpg</td>\n",
       "      <td>NaN</td>\n",
       "      <td>0.000000</td>\n",
       "      <td>2017-07-16 20:14:00+00:00</td>\n",
       "      <td>21025.0</td>\n",
       "      <td>4076.0</td>\n",
       "    </tr>\n",
       "    <tr>\n",
       "      <th>29</th>\n",
       "      <td>886366144734445568</td>\n",
       "      <td>2017-07-15 23:25:31+00:00</td>\n",
       "      <td>iphone</td>\n",
       "      <td>This is Roscoe. Another pupper fallen victim t...</td>\n",
       "      <td>https://twitter.com/dog_rates/status/886366144...</td>\n",
       "      <td>12.0</td>\n",
       "      <td>10</td>\n",
       "      <td>Roscoe</td>\n",
       "      <td>pupper</td>\n",
       "      <td>https://pbs.twimg.com/media/DE0BTnQUwAApKEH.jpg</td>\n",
       "      <td>French_bulldog</td>\n",
       "      <td>0.999201</td>\n",
       "      <td>2017-07-15 23:25:31+00:00</td>\n",
       "      <td>19778.0</td>\n",
       "      <td>2884.0</td>\n",
       "    </tr>\n",
       "    <tr>\n",
       "      <th>31</th>\n",
       "      <td>886258384151887873</td>\n",
       "      <td>2017-07-15 16:17:19+00:00</td>\n",
       "      <td>iphone</td>\n",
       "      <td>This is Waffles. His doggles are pupside down....</td>\n",
       "      <td>https://twitter.com/dog_rates/status/886258384...</td>\n",
       "      <td>13.0</td>\n",
       "      <td>10</td>\n",
       "      <td>Waffles</td>\n",
       "      <td>None</td>\n",
       "      <td>https://pbs.twimg.com/media/DEyfTG4UMAE4aE9.jpg</td>\n",
       "      <td>pug</td>\n",
       "      <td>0.943575</td>\n",
       "      <td>2017-07-15 16:17:19+00:00</td>\n",
       "      <td>26180.0</td>\n",
       "      <td>5752.0</td>\n",
       "    </tr>\n",
       "    <tr>\n",
       "      <th>...</th>\n",
       "      <td>...</td>\n",
       "      <td>...</td>\n",
       "      <td>...</td>\n",
       "      <td>...</td>\n",
       "      <td>...</td>\n",
       "      <td>...</td>\n",
       "      <td>...</td>\n",
       "      <td>...</td>\n",
       "      <td>...</td>\n",
       "      <td>...</td>\n",
       "      <td>...</td>\n",
       "      <td>...</td>\n",
       "      <td>...</td>\n",
       "      <td>...</td>\n",
       "      <td>...</td>\n",
       "    </tr>\n",
       "    <tr>\n",
       "      <th>2326</th>\n",
       "      <td>666411507551481857</td>\n",
       "      <td>2015-11-17 00:24:19+00:00</td>\n",
       "      <td>iphone</td>\n",
       "      <td>This is quite the dog. Gets really excited whe...</td>\n",
       "      <td>https://twitter.com/dog_rates/status/666411507...</td>\n",
       "      <td>2.0</td>\n",
       "      <td>10</td>\n",
       "      <td>None</td>\n",
       "      <td>None</td>\n",
       "      <td>https://pbs.twimg.com/media/CT-RugiWIAELEaq.jpg</td>\n",
       "      <td>NaN</td>\n",
       "      <td>0.000000</td>\n",
       "      <td>2015-11-17 00:24:19+00:00</td>\n",
       "      <td>412.0</td>\n",
       "      <td>298.0</td>\n",
       "    </tr>\n",
       "    <tr>\n",
       "      <th>2327</th>\n",
       "      <td>666407126856765440</td>\n",
       "      <td>2015-11-17 00:06:54+00:00</td>\n",
       "      <td>iphone</td>\n",
       "      <td>This is a southern Vesuvius bumblegruff. Can d...</td>\n",
       "      <td>https://twitter.com/dog_rates/status/666407126...</td>\n",
       "      <td>7.0</td>\n",
       "      <td>10</td>\n",
       "      <td>None</td>\n",
       "      <td>None</td>\n",
       "      <td>https://pbs.twimg.com/media/CT-NvwmW4AAugGZ.jpg</td>\n",
       "      <td>black-and-tan_coonhound</td>\n",
       "      <td>0.529139</td>\n",
       "      <td>2015-11-17 00:06:54+00:00</td>\n",
       "      <td>100.0</td>\n",
       "      <td>32.0</td>\n",
       "    </tr>\n",
       "    <tr>\n",
       "      <th>2328</th>\n",
       "      <td>666396247373291520</td>\n",
       "      <td>2015-11-16 23:23:41+00:00</td>\n",
       "      <td>iphone</td>\n",
       "      <td>Oh goodness. A super rare northeast Qdoba kang...</td>\n",
       "      <td>https://twitter.com/dog_rates/status/666396247...</td>\n",
       "      <td>9.0</td>\n",
       "      <td>10</td>\n",
       "      <td>None</td>\n",
       "      <td>None</td>\n",
       "      <td>https://pbs.twimg.com/media/CT-D2ZHWIAA3gK1.jpg</td>\n",
       "      <td>Chihuahua</td>\n",
       "      <td>0.978108</td>\n",
       "      <td>2015-11-16 23:23:41+00:00</td>\n",
       "      <td>158.0</td>\n",
       "      <td>75.0</td>\n",
       "    </tr>\n",
       "    <tr>\n",
       "      <th>2329</th>\n",
       "      <td>666373753744588802</td>\n",
       "      <td>2015-11-16 21:54:18+00:00</td>\n",
       "      <td>iphone</td>\n",
       "      <td>Those are sunglasses and a jean jacket. 11/10 ...</td>\n",
       "      <td>https://twitter.com/dog_rates/status/666373753...</td>\n",
       "      <td>11.0</td>\n",
       "      <td>10</td>\n",
       "      <td>None</td>\n",
       "      <td>None</td>\n",
       "      <td>https://pbs.twimg.com/media/CT9vZEYWUAAlZ05.jpg</td>\n",
       "      <td>soft-coated_wheaten_terrier</td>\n",
       "      <td>0.326467</td>\n",
       "      <td>2015-11-16 21:54:18+00:00</td>\n",
       "      <td>173.0</td>\n",
       "      <td>83.0</td>\n",
       "    </tr>\n",
       "    <tr>\n",
       "      <th>2330</th>\n",
       "      <td>666362758909284353</td>\n",
       "      <td>2015-11-16 21:10:36+00:00</td>\n",
       "      <td>iphone</td>\n",
       "      <td>Unique dog here. Very small. Lives in containe...</td>\n",
       "      <td>https://twitter.com/dog_rates/status/666362758...</td>\n",
       "      <td>6.0</td>\n",
       "      <td>10</td>\n",
       "      <td>None</td>\n",
       "      <td>None</td>\n",
       "      <td>https://pbs.twimg.com/media/CT9lXGsUcAAyUFt.jpg</td>\n",
       "      <td>NaN</td>\n",
       "      <td>0.000000</td>\n",
       "      <td>2015-11-16 21:10:36+00:00</td>\n",
       "      <td>725.0</td>\n",
       "      <td>518.0</td>\n",
       "    </tr>\n",
       "    <tr>\n",
       "      <th>2331</th>\n",
       "      <td>666353288456101888</td>\n",
       "      <td>2015-11-16 20:32:58+00:00</td>\n",
       "      <td>iphone</td>\n",
       "      <td>Here we have a mixed Asiago from the Galápagos...</td>\n",
       "      <td>https://twitter.com/dog_rates/status/666353288...</td>\n",
       "      <td>8.0</td>\n",
       "      <td>10</td>\n",
       "      <td>None</td>\n",
       "      <td>None</td>\n",
       "      <td>https://pbs.twimg.com/media/CT9cx0tUEAAhNN_.jpg</td>\n",
       "      <td>malamute</td>\n",
       "      <td>0.336874</td>\n",
       "      <td>2015-11-16 20:32:58+00:00</td>\n",
       "      <td>198.0</td>\n",
       "      <td>66.0</td>\n",
       "    </tr>\n",
       "    <tr>\n",
       "      <th>2332</th>\n",
       "      <td>666345417576210432</td>\n",
       "      <td>2015-11-16 20:01:42+00:00</td>\n",
       "      <td>iphone</td>\n",
       "      <td>Look at this jokester thinking seat belt laws ...</td>\n",
       "      <td>https://twitter.com/dog_rates/status/666345417...</td>\n",
       "      <td>10.0</td>\n",
       "      <td>10</td>\n",
       "      <td>None</td>\n",
       "      <td>None</td>\n",
       "      <td>https://pbs.twimg.com/media/CT9Vn7PWoAA_ZCM.jpg</td>\n",
       "      <td>golden_retriever</td>\n",
       "      <td>0.858744</td>\n",
       "      <td>2015-11-16 20:01:42+00:00</td>\n",
       "      <td>275.0</td>\n",
       "      <td>128.0</td>\n",
       "    </tr>\n",
       "    <tr>\n",
       "      <th>2333</th>\n",
       "      <td>666337882303524864</td>\n",
       "      <td>2015-11-16 19:31:45+00:00</td>\n",
       "      <td>iphone</td>\n",
       "      <td>This is an extremely rare horned Parthenon. No...</td>\n",
       "      <td>https://twitter.com/dog_rates/status/666337882...</td>\n",
       "      <td>9.0</td>\n",
       "      <td>10</td>\n",
       "      <td>None</td>\n",
       "      <td>None</td>\n",
       "      <td>https://pbs.twimg.com/media/CT9OwFIWEAMuRje.jpg</td>\n",
       "      <td>Newfoundland</td>\n",
       "      <td>0.278407</td>\n",
       "      <td>2015-11-16 19:31:45+00:00</td>\n",
       "      <td>181.0</td>\n",
       "      <td>83.0</td>\n",
       "    </tr>\n",
       "    <tr>\n",
       "      <th>2334</th>\n",
       "      <td>666293911632134144</td>\n",
       "      <td>2015-11-16 16:37:02+00:00</td>\n",
       "      <td>iphone</td>\n",
       "      <td>This is a funny dog. Weird toes. Won't come do...</td>\n",
       "      <td>https://twitter.com/dog_rates/status/666293911...</td>\n",
       "      <td>3.0</td>\n",
       "      <td>10</td>\n",
       "      <td>None</td>\n",
       "      <td>None</td>\n",
       "      <td>https://pbs.twimg.com/media/CT8mx7KW4AEQu8N.jpg</td>\n",
       "      <td>NaN</td>\n",
       "      <td>0.000000</td>\n",
       "      <td>2015-11-16 16:37:02+00:00</td>\n",
       "      <td>466.0</td>\n",
       "      <td>317.0</td>\n",
       "    </tr>\n",
       "    <tr>\n",
       "      <th>2335</th>\n",
       "      <td>666287406224695296</td>\n",
       "      <td>2015-11-16 16:11:11+00:00</td>\n",
       "      <td>iphone</td>\n",
       "      <td>This is an Albanian 3 1/2 legged  Episcopalian...</td>\n",
       "      <td>https://twitter.com/dog_rates/status/666287406...</td>\n",
       "      <td>9.0</td>\n",
       "      <td>10</td>\n",
       "      <td>None</td>\n",
       "      <td>None</td>\n",
       "      <td>https://pbs.twimg.com/media/CT8g3BpUEAAuFjg.jpg</td>\n",
       "      <td>Maltese_dog</td>\n",
       "      <td>0.857531</td>\n",
       "      <td>2015-11-16 16:11:11+00:00</td>\n",
       "      <td>136.0</td>\n",
       "      <td>61.0</td>\n",
       "    </tr>\n",
       "    <tr>\n",
       "      <th>2336</th>\n",
       "      <td>666273097616637952</td>\n",
       "      <td>2015-11-16 15:14:19+00:00</td>\n",
       "      <td>iphone</td>\n",
       "      <td>Can take selfies 11/10 https://t.co/ws2AMaNwPW</td>\n",
       "      <td>https://twitter.com/dog_rates/status/666273097...</td>\n",
       "      <td>11.0</td>\n",
       "      <td>10</td>\n",
       "      <td>None</td>\n",
       "      <td>None</td>\n",
       "      <td>https://pbs.twimg.com/media/CT8T1mtUwAA3aqm.jpg</td>\n",
       "      <td>Italian_greyhound</td>\n",
       "      <td>0.176053</td>\n",
       "      <td>2015-11-16 15:14:19+00:00</td>\n",
       "      <td>161.0</td>\n",
       "      <td>70.0</td>\n",
       "    </tr>\n",
       "    <tr>\n",
       "      <th>2337</th>\n",
       "      <td>666268910803644416</td>\n",
       "      <td>2015-11-16 14:57:41+00:00</td>\n",
       "      <td>iphone</td>\n",
       "      <td>Very concerned about fellow dog trapped in com...</td>\n",
       "      <td>https://twitter.com/dog_rates/status/666268910...</td>\n",
       "      <td>10.0</td>\n",
       "      <td>10</td>\n",
       "      <td>None</td>\n",
       "      <td>None</td>\n",
       "      <td>https://pbs.twimg.com/media/CT8QCd1WEAADXws.jpg</td>\n",
       "      <td>NaN</td>\n",
       "      <td>0.000000</td>\n",
       "      <td>2015-11-16 14:57:41+00:00</td>\n",
       "      <td>95.0</td>\n",
       "      <td>32.0</td>\n",
       "    </tr>\n",
       "    <tr>\n",
       "      <th>2338</th>\n",
       "      <td>666104133288665088</td>\n",
       "      <td>2015-11-16 04:02:55+00:00</td>\n",
       "      <td>iphone</td>\n",
       "      <td>Not familiar with this breed. No tail (weird)....</td>\n",
       "      <td>https://twitter.com/dog_rates/status/666104133...</td>\n",
       "      <td>1.0</td>\n",
       "      <td>10</td>\n",
       "      <td>None</td>\n",
       "      <td>None</td>\n",
       "      <td>https://pbs.twimg.com/media/CT56LSZWoAAlJj2.jpg</td>\n",
       "      <td>NaN</td>\n",
       "      <td>0.000000</td>\n",
       "      <td>2015-11-16 04:02:55+00:00</td>\n",
       "      <td>13613.0</td>\n",
       "      <td>5977.0</td>\n",
       "    </tr>\n",
       "    <tr>\n",
       "      <th>2339</th>\n",
       "      <td>666102155909144576</td>\n",
       "      <td>2015-11-16 03:55:04+00:00</td>\n",
       "      <td>iphone</td>\n",
       "      <td>Oh my. Here you are seeing an Adobe Setter giv...</td>\n",
       "      <td>https://twitter.com/dog_rates/status/666102155...</td>\n",
       "      <td>11.0</td>\n",
       "      <td>10</td>\n",
       "      <td>None</td>\n",
       "      <td>None</td>\n",
       "      <td>https://pbs.twimg.com/media/CT54YGiWUAEZnoK.jpg</td>\n",
       "      <td>English_setter</td>\n",
       "      <td>0.298617</td>\n",
       "      <td>2015-11-16 03:55:04+00:00</td>\n",
       "      <td>70.0</td>\n",
       "      <td>11.0</td>\n",
       "    </tr>\n",
       "    <tr>\n",
       "      <th>2340</th>\n",
       "      <td>666099513787052032</td>\n",
       "      <td>2015-11-16 03:44:34+00:00</td>\n",
       "      <td>iphone</td>\n",
       "      <td>Can stand on stump for what seems like a while...</td>\n",
       "      <td>https://twitter.com/dog_rates/status/666099513...</td>\n",
       "      <td>8.0</td>\n",
       "      <td>10</td>\n",
       "      <td>None</td>\n",
       "      <td>None</td>\n",
       "      <td>https://pbs.twimg.com/media/CT51-JJUEAA6hV8.jpg</td>\n",
       "      <td>Lhasa</td>\n",
       "      <td>0.582330</td>\n",
       "      <td>2015-11-16 03:44:34+00:00</td>\n",
       "      <td>143.0</td>\n",
       "      <td>60.0</td>\n",
       "    </tr>\n",
       "    <tr>\n",
       "      <th>2341</th>\n",
       "      <td>666094000022159362</td>\n",
       "      <td>2015-11-16 03:22:39+00:00</td>\n",
       "      <td>iphone</td>\n",
       "      <td>This appears to be a Mongolian Presbyterian mi...</td>\n",
       "      <td>https://twitter.com/dog_rates/status/666094000...</td>\n",
       "      <td>9.0</td>\n",
       "      <td>10</td>\n",
       "      <td>None</td>\n",
       "      <td>None</td>\n",
       "      <td>https://pbs.twimg.com/media/CT5w9gUW4AAsBNN.jpg</td>\n",
       "      <td>bloodhound</td>\n",
       "      <td>0.195217</td>\n",
       "      <td>2015-11-16 03:22:39+00:00</td>\n",
       "      <td>153.0</td>\n",
       "      <td>66.0</td>\n",
       "    </tr>\n",
       "    <tr>\n",
       "      <th>2342</th>\n",
       "      <td>666082916733198337</td>\n",
       "      <td>2015-11-16 02:38:37+00:00</td>\n",
       "      <td>iphone</td>\n",
       "      <td>Here we have a well-established sunblockerspan...</td>\n",
       "      <td>https://twitter.com/dog_rates/status/666082916...</td>\n",
       "      <td>6.0</td>\n",
       "      <td>10</td>\n",
       "      <td>None</td>\n",
       "      <td>None</td>\n",
       "      <td>https://pbs.twimg.com/media/CT5m4VGWEAAtKc8.jpg</td>\n",
       "      <td>pug</td>\n",
       "      <td>0.489814</td>\n",
       "      <td>2015-11-16 02:38:37+00:00</td>\n",
       "      <td>103.0</td>\n",
       "      <td>41.0</td>\n",
       "    </tr>\n",
       "    <tr>\n",
       "      <th>2343</th>\n",
       "      <td>666073100786774016</td>\n",
       "      <td>2015-11-16 01:59:36+00:00</td>\n",
       "      <td>iphone</td>\n",
       "      <td>Let's hope this flight isn't Malaysian (lol). ...</td>\n",
       "      <td>https://twitter.com/dog_rates/status/666073100...</td>\n",
       "      <td>10.0</td>\n",
       "      <td>10</td>\n",
       "      <td>None</td>\n",
       "      <td>None</td>\n",
       "      <td>https://pbs.twimg.com/media/CT5d9DZXAAALcwe.jpg</td>\n",
       "      <td>Walker_hound</td>\n",
       "      <td>0.260857</td>\n",
       "      <td>2015-11-16 01:59:36+00:00</td>\n",
       "      <td>298.0</td>\n",
       "      <td>146.0</td>\n",
       "    </tr>\n",
       "    <tr>\n",
       "      <th>2344</th>\n",
       "      <td>666071193221509120</td>\n",
       "      <td>2015-11-16 01:52:02+00:00</td>\n",
       "      <td>iphone</td>\n",
       "      <td>Here we have a northern speckled Rhododendron....</td>\n",
       "      <td>https://twitter.com/dog_rates/status/666071193...</td>\n",
       "      <td>9.0</td>\n",
       "      <td>10</td>\n",
       "      <td>None</td>\n",
       "      <td>None</td>\n",
       "      <td>https://pbs.twimg.com/media/CT5cN_3WEAAlOoZ.jpg</td>\n",
       "      <td>Gordon_setter</td>\n",
       "      <td>0.503672</td>\n",
       "      <td>2015-11-16 01:52:02+00:00</td>\n",
       "      <td>136.0</td>\n",
       "      <td>53.0</td>\n",
       "    </tr>\n",
       "    <tr>\n",
       "      <th>2345</th>\n",
       "      <td>666063827256086533</td>\n",
       "      <td>2015-11-16 01:22:45+00:00</td>\n",
       "      <td>iphone</td>\n",
       "      <td>This is the happiest dog you will ever see. Ve...</td>\n",
       "      <td>https://twitter.com/dog_rates/status/666063827...</td>\n",
       "      <td>10.0</td>\n",
       "      <td>10</td>\n",
       "      <td>None</td>\n",
       "      <td>None</td>\n",
       "      <td>https://pbs.twimg.com/media/CT5Vg_wXIAAXfnj.jpg</td>\n",
       "      <td>golden_retriever</td>\n",
       "      <td>0.775930</td>\n",
       "      <td>2015-11-16 01:22:45+00:00</td>\n",
       "      <td>447.0</td>\n",
       "      <td>197.0</td>\n",
       "    </tr>\n",
       "    <tr>\n",
       "      <th>2346</th>\n",
       "      <td>666058600524156928</td>\n",
       "      <td>2015-11-16 01:01:59+00:00</td>\n",
       "      <td>iphone</td>\n",
       "      <td>Here is the Rand Paul of retrievers folks! He'...</td>\n",
       "      <td>https://twitter.com/dog_rates/status/666058600...</td>\n",
       "      <td>8.0</td>\n",
       "      <td>10</td>\n",
       "      <td>None</td>\n",
       "      <td>None</td>\n",
       "      <td>https://pbs.twimg.com/media/CT5Qw94XAAA_2dP.jpg</td>\n",
       "      <td>miniature_poodle</td>\n",
       "      <td>0.201493</td>\n",
       "      <td>2015-11-16 01:01:59+00:00</td>\n",
       "      <td>106.0</td>\n",
       "      <td>53.0</td>\n",
       "    </tr>\n",
       "    <tr>\n",
       "      <th>2347</th>\n",
       "      <td>666057090499244032</td>\n",
       "      <td>2015-11-16 00:55:59+00:00</td>\n",
       "      <td>iphone</td>\n",
       "      <td>My oh my. This is a rare blond Canadian terrie...</td>\n",
       "      <td>https://twitter.com/dog_rates/status/666057090...</td>\n",
       "      <td>9.0</td>\n",
       "      <td>10</td>\n",
       "      <td>None</td>\n",
       "      <td>None</td>\n",
       "      <td>https://pbs.twimg.com/media/CT5PY90WoAAQGLo.jpg</td>\n",
       "      <td>golden_retriever</td>\n",
       "      <td>0.007959</td>\n",
       "      <td>2015-11-16 00:55:59+00:00</td>\n",
       "      <td>269.0</td>\n",
       "      <td>125.0</td>\n",
       "    </tr>\n",
       "    <tr>\n",
       "      <th>2348</th>\n",
       "      <td>666055525042405380</td>\n",
       "      <td>2015-11-16 00:49:46+00:00</td>\n",
       "      <td>iphone</td>\n",
       "      <td>Here is a Siberian heavily armored polar bear ...</td>\n",
       "      <td>https://twitter.com/dog_rates/status/666055525...</td>\n",
       "      <td>10.0</td>\n",
       "      <td>10</td>\n",
       "      <td>None</td>\n",
       "      <td>None</td>\n",
       "      <td>https://pbs.twimg.com/media/CT5N9tpXIAAifs1.jpg</td>\n",
       "      <td>chow</td>\n",
       "      <td>0.692517</td>\n",
       "      <td>2015-11-16 00:49:46+00:00</td>\n",
       "      <td>407.0</td>\n",
       "      <td>220.0</td>\n",
       "    </tr>\n",
       "    <tr>\n",
       "      <th>2349</th>\n",
       "      <td>666051853826850816</td>\n",
       "      <td>2015-11-16 00:35:11+00:00</td>\n",
       "      <td>iphone</td>\n",
       "      <td>This is an odd dog. Hard on the outside but lo...</td>\n",
       "      <td>https://twitter.com/dog_rates/status/666051853...</td>\n",
       "      <td>2.0</td>\n",
       "      <td>10</td>\n",
       "      <td>None</td>\n",
       "      <td>None</td>\n",
       "      <td>https://pbs.twimg.com/media/CT5KoJ1WoAAJash.jpg</td>\n",
       "      <td>NaN</td>\n",
       "      <td>0.000000</td>\n",
       "      <td>2015-11-16 00:35:11+00:00</td>\n",
       "      <td>1124.0</td>\n",
       "      <td>775.0</td>\n",
       "    </tr>\n",
       "    <tr>\n",
       "      <th>2350</th>\n",
       "      <td>666050758794694657</td>\n",
       "      <td>2015-11-16 00:30:50+00:00</td>\n",
       "      <td>iphone</td>\n",
       "      <td>This is a truly beautiful English Wilson Staff...</td>\n",
       "      <td>https://twitter.com/dog_rates/status/666050758...</td>\n",
       "      <td>10.0</td>\n",
       "      <td>10</td>\n",
       "      <td>None</td>\n",
       "      <td>None</td>\n",
       "      <td>https://pbs.twimg.com/media/CT5Jof1WUAEuVxN.jpg</td>\n",
       "      <td>Bernese_mountain_dog</td>\n",
       "      <td>0.651137</td>\n",
       "      <td>2015-11-16 00:30:50+00:00</td>\n",
       "      <td>124.0</td>\n",
       "      <td>51.0</td>\n",
       "    </tr>\n",
       "    <tr>\n",
       "      <th>2351</th>\n",
       "      <td>666049248165822465</td>\n",
       "      <td>2015-11-16 00:24:50+00:00</td>\n",
       "      <td>iphone</td>\n",
       "      <td>Here we have a 1949 1st generation vulpix. Enj...</td>\n",
       "      <td>https://twitter.com/dog_rates/status/666049248...</td>\n",
       "      <td>5.0</td>\n",
       "      <td>10</td>\n",
       "      <td>None</td>\n",
       "      <td>None</td>\n",
       "      <td>https://pbs.twimg.com/media/CT5IQmsXIAAKY4A.jpg</td>\n",
       "      <td>miniature_pinscher</td>\n",
       "      <td>0.560311</td>\n",
       "      <td>2015-11-16 00:24:50+00:00</td>\n",
       "      <td>96.0</td>\n",
       "      <td>40.0</td>\n",
       "    </tr>\n",
       "    <tr>\n",
       "      <th>2352</th>\n",
       "      <td>666044226329800704</td>\n",
       "      <td>2015-11-16 00:04:52+00:00</td>\n",
       "      <td>iphone</td>\n",
       "      <td>This is a purebred Piers Morgan. Loves to Netf...</td>\n",
       "      <td>https://twitter.com/dog_rates/status/666044226...</td>\n",
       "      <td>6.0</td>\n",
       "      <td>10</td>\n",
       "      <td>None</td>\n",
       "      <td>None</td>\n",
       "      <td>https://pbs.twimg.com/media/CT5Dr8HUEAA-lEu.jpg</td>\n",
       "      <td>Rhodesian_ridgeback</td>\n",
       "      <td>0.408143</td>\n",
       "      <td>2015-11-16 00:04:52+00:00</td>\n",
       "      <td>272.0</td>\n",
       "      <td>131.0</td>\n",
       "    </tr>\n",
       "    <tr>\n",
       "      <th>2353</th>\n",
       "      <td>666033412701032449</td>\n",
       "      <td>2015-11-15 23:21:54+00:00</td>\n",
       "      <td>iphone</td>\n",
       "      <td>Here is a very happy pup. Big fan of well-main...</td>\n",
       "      <td>https://twitter.com/dog_rates/status/666033412...</td>\n",
       "      <td>9.0</td>\n",
       "      <td>10</td>\n",
       "      <td>None</td>\n",
       "      <td>None</td>\n",
       "      <td>https://pbs.twimg.com/media/CT4521TWwAEvMyu.jpg</td>\n",
       "      <td>German_shepherd</td>\n",
       "      <td>0.596461</td>\n",
       "      <td>2015-11-15 23:21:54+00:00</td>\n",
       "      <td>112.0</td>\n",
       "      <td>41.0</td>\n",
       "    </tr>\n",
       "    <tr>\n",
       "      <th>2354</th>\n",
       "      <td>666029285002620928</td>\n",
       "      <td>2015-11-15 23:05:30+00:00</td>\n",
       "      <td>iphone</td>\n",
       "      <td>This is a western brown Mitsubishi terrier. Up...</td>\n",
       "      <td>https://twitter.com/dog_rates/status/666029285...</td>\n",
       "      <td>7.0</td>\n",
       "      <td>10</td>\n",
       "      <td>None</td>\n",
       "      <td>None</td>\n",
       "      <td>https://pbs.twimg.com/media/CT42GRgUYAA5iDo.jpg</td>\n",
       "      <td>redbone</td>\n",
       "      <td>0.506826</td>\n",
       "      <td>2015-11-15 23:05:30+00:00</td>\n",
       "      <td>121.0</td>\n",
       "      <td>42.0</td>\n",
       "    </tr>\n",
       "    <tr>\n",
       "      <th>2355</th>\n",
       "      <td>666020888022790149</td>\n",
       "      <td>2015-11-15 22:32:08+00:00</td>\n",
       "      <td>iphone</td>\n",
       "      <td>Here we have a Japanese Irish Setter. Lost eye...</td>\n",
       "      <td>https://twitter.com/dog_rates/status/666020888...</td>\n",
       "      <td>8.0</td>\n",
       "      <td>10</td>\n",
       "      <td>None</td>\n",
       "      <td>None</td>\n",
       "      <td>https://pbs.twimg.com/media/CT4udn0WwAA0aMy.jpg</td>\n",
       "      <td>Welsh_springer_spaniel</td>\n",
       "      <td>0.465074</td>\n",
       "      <td>2015-11-15 22:32:08+00:00</td>\n",
       "      <td>2411.0</td>\n",
       "      <td>460.0</td>\n",
       "    </tr>\n",
       "  </tbody>\n",
       "</table>\n",
       "<p>1952 rows × 15 columns</p>\n",
       "</div>"
      ],
      "text/plain": [
       "                tweet_id                  timestamp  source  \\\n",
       "0     892420643555336193  2017-08-01 16:23:56+00:00  iphone   \n",
       "1     892177421306343426  2017-08-01 00:17:27+00:00  iphone   \n",
       "2     891815181378084864  2017-07-31 00:18:03+00:00  iphone   \n",
       "3     891689557279858688  2017-07-30 15:58:51+00:00  iphone   \n",
       "4     891327558926688256  2017-07-29 16:00:24+00:00  iphone   \n",
       "5     891087950875897856  2017-07-29 00:08:17+00:00  iphone   \n",
       "6     890971913173991426  2017-07-28 16:27:12+00:00  iphone   \n",
       "7     890729181411237888  2017-07-28 00:22:40+00:00  iphone   \n",
       "8     890609185150312448  2017-07-27 16:25:51+00:00  iphone   \n",
       "9     890240255349198849  2017-07-26 15:59:51+00:00  iphone   \n",
       "10    890006608113172480  2017-07-26 00:31:25+00:00  iphone   \n",
       "11    889880896479866881  2017-07-25 16:11:53+00:00  iphone   \n",
       "12    889665388333682689  2017-07-25 01:55:32+00:00  iphone   \n",
       "13    889638837579907072  2017-07-25 00:10:02+00:00  iphone   \n",
       "14    889531135344209921  2017-07-24 17:02:04+00:00  iphone   \n",
       "15    889278841981685760  2017-07-24 00:19:32+00:00  iphone   \n",
       "16    888917238123831296  2017-07-23 00:22:39+00:00  iphone   \n",
       "17    888804989199671297  2017-07-22 16:56:37+00:00  iphone   \n",
       "18    888554962724278272  2017-07-22 00:23:06+00:00  iphone   \n",
       "20    888078434458587136  2017-07-20 16:49:33+00:00  iphone   \n",
       "21    887705289381826560  2017-07-19 16:06:48+00:00  iphone   \n",
       "22    887517139158093824  2017-07-19 03:39:09+00:00  iphone   \n",
       "23    887473957103951883  2017-07-19 00:47:34+00:00  iphone   \n",
       "24    887343217045368832  2017-07-18 16:08:03+00:00  iphone   \n",
       "25    887101392804085760  2017-07-18 00:07:08+00:00  iphone   \n",
       "26    886983233522544640  2017-07-17 16:17:36+00:00  iphone   \n",
       "27    886736880519319552  2017-07-16 23:58:41+00:00  iphone   \n",
       "28    886680336477933568  2017-07-16 20:14:00+00:00  iphone   \n",
       "29    886366144734445568  2017-07-15 23:25:31+00:00  iphone   \n",
       "31    886258384151887873  2017-07-15 16:17:19+00:00  iphone   \n",
       "...                  ...                        ...     ...   \n",
       "2326  666411507551481857  2015-11-17 00:24:19+00:00  iphone   \n",
       "2327  666407126856765440  2015-11-17 00:06:54+00:00  iphone   \n",
       "2328  666396247373291520  2015-11-16 23:23:41+00:00  iphone   \n",
       "2329  666373753744588802  2015-11-16 21:54:18+00:00  iphone   \n",
       "2330  666362758909284353  2015-11-16 21:10:36+00:00  iphone   \n",
       "2331  666353288456101888  2015-11-16 20:32:58+00:00  iphone   \n",
       "2332  666345417576210432  2015-11-16 20:01:42+00:00  iphone   \n",
       "2333  666337882303524864  2015-11-16 19:31:45+00:00  iphone   \n",
       "2334  666293911632134144  2015-11-16 16:37:02+00:00  iphone   \n",
       "2335  666287406224695296  2015-11-16 16:11:11+00:00  iphone   \n",
       "2336  666273097616637952  2015-11-16 15:14:19+00:00  iphone   \n",
       "2337  666268910803644416  2015-11-16 14:57:41+00:00  iphone   \n",
       "2338  666104133288665088  2015-11-16 04:02:55+00:00  iphone   \n",
       "2339  666102155909144576  2015-11-16 03:55:04+00:00  iphone   \n",
       "2340  666099513787052032  2015-11-16 03:44:34+00:00  iphone   \n",
       "2341  666094000022159362  2015-11-16 03:22:39+00:00  iphone   \n",
       "2342  666082916733198337  2015-11-16 02:38:37+00:00  iphone   \n",
       "2343  666073100786774016  2015-11-16 01:59:36+00:00  iphone   \n",
       "2344  666071193221509120  2015-11-16 01:52:02+00:00  iphone   \n",
       "2345  666063827256086533  2015-11-16 01:22:45+00:00  iphone   \n",
       "2346  666058600524156928  2015-11-16 01:01:59+00:00  iphone   \n",
       "2347  666057090499244032  2015-11-16 00:55:59+00:00  iphone   \n",
       "2348  666055525042405380  2015-11-16 00:49:46+00:00  iphone   \n",
       "2349  666051853826850816  2015-11-16 00:35:11+00:00  iphone   \n",
       "2350  666050758794694657  2015-11-16 00:30:50+00:00  iphone   \n",
       "2351  666049248165822465  2015-11-16 00:24:50+00:00  iphone   \n",
       "2352  666044226329800704  2015-11-16 00:04:52+00:00  iphone   \n",
       "2353  666033412701032449  2015-11-15 23:21:54+00:00  iphone   \n",
       "2354  666029285002620928  2015-11-15 23:05:30+00:00  iphone   \n",
       "2355  666020888022790149  2015-11-15 22:32:08+00:00  iphone   \n",
       "\n",
       "                                                   text  \\\n",
       "0     This is Phineas. He's a mystical boy. Only eve...   \n",
       "1     This is Tilly. She's just checking pup on you....   \n",
       "2     This is Archie. He is a rare Norwegian Pouncin...   \n",
       "3     This is Darla. She commenced a snooze mid meal...   \n",
       "4     This is Franklin. He would like you to stop ca...   \n",
       "5     Here we have a majestic great white breaching ...   \n",
       "6     Meet Jax. He enjoys ice cream so much he gets ...   \n",
       "7     When you watch your owner call another dog a g...   \n",
       "8     This is Zoey. She doesn't want to be one of th...   \n",
       "9     This is Cassie. She is a college pup. Studying...   \n",
       "10    This is Koda. He is a South Australian decksha...   \n",
       "11    This is Bruno. He is a service shark. Only get...   \n",
       "12    Here's a puppo that seems to be on the fence a...   \n",
       "13    This is Ted. He does his best. Sometimes that'...   \n",
       "14    This is Stuart. He's sporting his favorite fan...   \n",
       "15    This is Oliver. You're witnessing one of his m...   \n",
       "16    This is Jim. He found a fren. Taught him how t...   \n",
       "17    This is Zeke. He has a new stick. Very proud o...   \n",
       "18    This is Ralphus. He's powering up. Attempting ...   \n",
       "20    This is Gerald. He was just told he didn't get...   \n",
       "21    This is Jeffrey. He has a monopoly on the pool...   \n",
       "22    I've yet to rate a Venezuelan Hover Wiener. Th...   \n",
       "23    This is Canela. She attempted some fancy porch...   \n",
       "24    You may not have known you needed to see this ...   \n",
       "25    This... is a Jubilant Antarctic House Bear. We...   \n",
       "26    This is Maya. She's very shy. Rarely leaves he...   \n",
       "27    This is Mingus. He's a wonderful father to his...   \n",
       "28    This is Derek. He's late for a dog meeting. 13...   \n",
       "29    This is Roscoe. Another pupper fallen victim t...   \n",
       "31    This is Waffles. His doggles are pupside down....   \n",
       "...                                                 ...   \n",
       "2326  This is quite the dog. Gets really excited whe...   \n",
       "2327  This is a southern Vesuvius bumblegruff. Can d...   \n",
       "2328  Oh goodness. A super rare northeast Qdoba kang...   \n",
       "2329  Those are sunglasses and a jean jacket. 11/10 ...   \n",
       "2330  Unique dog here. Very small. Lives in containe...   \n",
       "2331  Here we have a mixed Asiago from the Galápagos...   \n",
       "2332  Look at this jokester thinking seat belt laws ...   \n",
       "2333  This is an extremely rare horned Parthenon. No...   \n",
       "2334  This is a funny dog. Weird toes. Won't come do...   \n",
       "2335  This is an Albanian 3 1/2 legged  Episcopalian...   \n",
       "2336     Can take selfies 11/10 https://t.co/ws2AMaNwPW   \n",
       "2337  Very concerned about fellow dog trapped in com...   \n",
       "2338  Not familiar with this breed. No tail (weird)....   \n",
       "2339  Oh my. Here you are seeing an Adobe Setter giv...   \n",
       "2340  Can stand on stump for what seems like a while...   \n",
       "2341  This appears to be a Mongolian Presbyterian mi...   \n",
       "2342  Here we have a well-established sunblockerspan...   \n",
       "2343  Let's hope this flight isn't Malaysian (lol). ...   \n",
       "2344  Here we have a northern speckled Rhododendron....   \n",
       "2345  This is the happiest dog you will ever see. Ve...   \n",
       "2346  Here is the Rand Paul of retrievers folks! He'...   \n",
       "2347  My oh my. This is a rare blond Canadian terrie...   \n",
       "2348  Here is a Siberian heavily armored polar bear ...   \n",
       "2349  This is an odd dog. Hard on the outside but lo...   \n",
       "2350  This is a truly beautiful English Wilson Staff...   \n",
       "2351  Here we have a 1949 1st generation vulpix. Enj...   \n",
       "2352  This is a purebred Piers Morgan. Loves to Netf...   \n",
       "2353  Here is a very happy pup. Big fan of well-main...   \n",
       "2354  This is a western brown Mitsubishi terrier. Up...   \n",
       "2355  Here we have a Japanese Irish Setter. Lost eye...   \n",
       "\n",
       "                                          expanded_urls  rating_numerator  \\\n",
       "0     https://twitter.com/dog_rates/status/892420643...              13.0   \n",
       "1     https://twitter.com/dog_rates/status/892177421...              13.0   \n",
       "2     https://twitter.com/dog_rates/status/891815181...              12.0   \n",
       "3     https://twitter.com/dog_rates/status/891689557...              13.0   \n",
       "4     https://twitter.com/dog_rates/status/891327558...              12.0   \n",
       "5     https://twitter.com/dog_rates/status/891087950...              13.0   \n",
       "6     https://gofundme.com/ydvmve-surgery-for-jax,ht...              13.0   \n",
       "7     https://twitter.com/dog_rates/status/890729181...              13.0   \n",
       "8     https://twitter.com/dog_rates/status/890609185...              13.0   \n",
       "9     https://twitter.com/dog_rates/status/890240255...              14.0   \n",
       "10    https://twitter.com/dog_rates/status/890006608...              13.0   \n",
       "11    https://twitter.com/dog_rates/status/889880896...              13.0   \n",
       "12    https://twitter.com/dog_rates/status/889665388...              13.0   \n",
       "13    https://twitter.com/dog_rates/status/889638837...              12.0   \n",
       "14    https://twitter.com/dog_rates/status/889531135...              13.0   \n",
       "15    https://twitter.com/dog_rates/status/889278841...              13.0   \n",
       "16    https://twitter.com/dog_rates/status/888917238...              12.0   \n",
       "17    https://twitter.com/dog_rates/status/888804989...              13.0   \n",
       "18    https://twitter.com/dog_rates/status/888554962...              13.0   \n",
       "20    https://twitter.com/dog_rates/status/888078434...              12.0   \n",
       "21    https://twitter.com/dog_rates/status/887705289...              13.0   \n",
       "22    https://twitter.com/dog_rates/status/887517139...              14.0   \n",
       "23    https://twitter.com/dog_rates/status/887473957...              13.0   \n",
       "24    https://twitter.com/dog_rates/status/887343217...              13.0   \n",
       "25    https://twitter.com/dog_rates/status/887101392...              12.0   \n",
       "26    https://twitter.com/dog_rates/status/886983233...              13.0   \n",
       "27    https://www.gofundme.com/mingusneedsus,https:/...              13.0   \n",
       "28    https://twitter.com/dog_rates/status/886680336...              13.0   \n",
       "29    https://twitter.com/dog_rates/status/886366144...              12.0   \n",
       "31    https://twitter.com/dog_rates/status/886258384...              13.0   \n",
       "...                                                 ...               ...   \n",
       "2326  https://twitter.com/dog_rates/status/666411507...               2.0   \n",
       "2327  https://twitter.com/dog_rates/status/666407126...               7.0   \n",
       "2328  https://twitter.com/dog_rates/status/666396247...               9.0   \n",
       "2329  https://twitter.com/dog_rates/status/666373753...              11.0   \n",
       "2330  https://twitter.com/dog_rates/status/666362758...               6.0   \n",
       "2331  https://twitter.com/dog_rates/status/666353288...               8.0   \n",
       "2332  https://twitter.com/dog_rates/status/666345417...              10.0   \n",
       "2333  https://twitter.com/dog_rates/status/666337882...               9.0   \n",
       "2334  https://twitter.com/dog_rates/status/666293911...               3.0   \n",
       "2335  https://twitter.com/dog_rates/status/666287406...               9.0   \n",
       "2336  https://twitter.com/dog_rates/status/666273097...              11.0   \n",
       "2337  https://twitter.com/dog_rates/status/666268910...              10.0   \n",
       "2338  https://twitter.com/dog_rates/status/666104133...               1.0   \n",
       "2339  https://twitter.com/dog_rates/status/666102155...              11.0   \n",
       "2340  https://twitter.com/dog_rates/status/666099513...               8.0   \n",
       "2341  https://twitter.com/dog_rates/status/666094000...               9.0   \n",
       "2342  https://twitter.com/dog_rates/status/666082916...               6.0   \n",
       "2343  https://twitter.com/dog_rates/status/666073100...              10.0   \n",
       "2344  https://twitter.com/dog_rates/status/666071193...               9.0   \n",
       "2345  https://twitter.com/dog_rates/status/666063827...              10.0   \n",
       "2346  https://twitter.com/dog_rates/status/666058600...               8.0   \n",
       "2347  https://twitter.com/dog_rates/status/666057090...               9.0   \n",
       "2348  https://twitter.com/dog_rates/status/666055525...              10.0   \n",
       "2349  https://twitter.com/dog_rates/status/666051853...               2.0   \n",
       "2350  https://twitter.com/dog_rates/status/666050758...              10.0   \n",
       "2351  https://twitter.com/dog_rates/status/666049248...               5.0   \n",
       "2352  https://twitter.com/dog_rates/status/666044226...               6.0   \n",
       "2353  https://twitter.com/dog_rates/status/666033412...               9.0   \n",
       "2354  https://twitter.com/dog_rates/status/666029285...               7.0   \n",
       "2355  https://twitter.com/dog_rates/status/666020888...               8.0   \n",
       "\n",
       "      rating_denominator      name dog_stage  \\\n",
       "0                     10   Phineas      None   \n",
       "1                     10     Tilly      None   \n",
       "2                     10    Archie      None   \n",
       "3                     10     Darla      None   \n",
       "4                     10  Franklin      None   \n",
       "5                     10      None      None   \n",
       "6                     10       Jax      None   \n",
       "7                     10      None      None   \n",
       "8                     10      Zoey      None   \n",
       "9                     10    Cassie     doggo   \n",
       "10                    10      Koda      None   \n",
       "11                    10     Bruno      None   \n",
       "12                    10      None     puppo   \n",
       "13                    10       Ted      None   \n",
       "14                    10    Stuart     puppo   \n",
       "15                    10    Oliver      None   \n",
       "16                    10       Jim      None   \n",
       "17                    10      Zeke      None   \n",
       "18                    10   Ralphus      None   \n",
       "20                    10    Gerald      None   \n",
       "21                    10   Jeffrey      None   \n",
       "22                    10      None      None   \n",
       "23                    10    Canela      None   \n",
       "24                    10      None      None   \n",
       "25                    10      None      None   \n",
       "26                    10      Maya      None   \n",
       "27                    10    Mingus      None   \n",
       "28                    10     Derek      None   \n",
       "29                    10    Roscoe    pupper   \n",
       "31                    10   Waffles      None   \n",
       "...                  ...       ...       ...   \n",
       "2326                  10      None      None   \n",
       "2327                  10      None      None   \n",
       "2328                  10      None      None   \n",
       "2329                  10      None      None   \n",
       "2330                  10      None      None   \n",
       "2331                  10      None      None   \n",
       "2332                  10      None      None   \n",
       "2333                  10      None      None   \n",
       "2334                  10      None      None   \n",
       "2335                  10      None      None   \n",
       "2336                  10      None      None   \n",
       "2337                  10      None      None   \n",
       "2338                  10      None      None   \n",
       "2339                  10      None      None   \n",
       "2340                  10      None      None   \n",
       "2341                  10      None      None   \n",
       "2342                  10      None      None   \n",
       "2343                  10      None      None   \n",
       "2344                  10      None      None   \n",
       "2345                  10      None      None   \n",
       "2346                  10      None      None   \n",
       "2347                  10      None      None   \n",
       "2348                  10      None      None   \n",
       "2349                  10      None      None   \n",
       "2350                  10      None      None   \n",
       "2351                  10      None      None   \n",
       "2352                  10      None      None   \n",
       "2353                  10      None      None   \n",
       "2354                  10      None      None   \n",
       "2355                  10      None      None   \n",
       "\n",
       "                                                jpg_url  \\\n",
       "0       https://pbs.twimg.com/media/DGKD1-bXoAAIAUK.jpg   \n",
       "1       https://pbs.twimg.com/media/DGGmoV4XsAAUL6n.jpg   \n",
       "2       https://pbs.twimg.com/media/DGBdLU1WsAANxJ9.jpg   \n",
       "3       https://pbs.twimg.com/media/DF_q7IAWsAEuuN8.jpg   \n",
       "4       https://pbs.twimg.com/media/DF6hr6BUMAAzZgT.jpg   \n",
       "5       https://pbs.twimg.com/media/DF3HwyEWsAABqE6.jpg   \n",
       "6       https://pbs.twimg.com/media/DF1eOmZXUAALUcq.jpg   \n",
       "7       https://pbs.twimg.com/media/DFyBahAVwAAhUTd.jpg   \n",
       "8       https://pbs.twimg.com/media/DFwUU__XcAEpyXI.jpg   \n",
       "9       https://pbs.twimg.com/media/DFrEyVuW0AAO3t9.jpg   \n",
       "10      https://pbs.twimg.com/media/DFnwSY4WAAAMliS.jpg   \n",
       "11      https://pbs.twimg.com/media/DFl99B1WsAITKsg.jpg   \n",
       "12      https://pbs.twimg.com/media/DFi579UWsAAatzw.jpg   \n",
       "13      https://pbs.twimg.com/media/DFihzFfXsAYGDPR.jpg   \n",
       "14      https://pbs.twimg.com/media/DFg_2PVW0AEHN3p.jpg   \n",
       "15    https://pbs.twimg.com/ext_tw_video_thumb/88927...   \n",
       "16      https://pbs.twimg.com/media/DFYRgsOUQAARGhO.jpg   \n",
       "17      https://pbs.twimg.com/media/DFWra-3VYAA2piG.jpg   \n",
       "18      https://pbs.twimg.com/media/DFTH_O-UQAACu20.jpg   \n",
       "20      https://pbs.twimg.com/media/DFMWn56WsAAkA7B.jpg   \n",
       "21      https://pbs.twimg.com/media/DFHDQBbXgAEqY7t.jpg   \n",
       "22    https://pbs.twimg.com/ext_tw_video_thumb/88751...   \n",
       "23      https://pbs.twimg.com/media/DFDw2tyUQAAAFke.jpg   \n",
       "24    https://pbs.twimg.com/ext_tw_video_thumb/88734...   \n",
       "25      https://pbs.twimg.com/media/DE-eAq6UwAA-jaE.jpg   \n",
       "26      https://pbs.twimg.com/media/DE8yicJW0AAAvBJ.jpg   \n",
       "27      https://pbs.twimg.com/media/DE5Se8FXcAAJFx4.jpg   \n",
       "28      https://pbs.twimg.com/media/DE4fEDzWAAAyHMM.jpg   \n",
       "29      https://pbs.twimg.com/media/DE0BTnQUwAApKEH.jpg   \n",
       "31      https://pbs.twimg.com/media/DEyfTG4UMAE4aE9.jpg   \n",
       "...                                                 ...   \n",
       "2326    https://pbs.twimg.com/media/CT-RugiWIAELEaq.jpg   \n",
       "2327    https://pbs.twimg.com/media/CT-NvwmW4AAugGZ.jpg   \n",
       "2328    https://pbs.twimg.com/media/CT-D2ZHWIAA3gK1.jpg   \n",
       "2329    https://pbs.twimg.com/media/CT9vZEYWUAAlZ05.jpg   \n",
       "2330    https://pbs.twimg.com/media/CT9lXGsUcAAyUFt.jpg   \n",
       "2331    https://pbs.twimg.com/media/CT9cx0tUEAAhNN_.jpg   \n",
       "2332    https://pbs.twimg.com/media/CT9Vn7PWoAA_ZCM.jpg   \n",
       "2333    https://pbs.twimg.com/media/CT9OwFIWEAMuRje.jpg   \n",
       "2334    https://pbs.twimg.com/media/CT8mx7KW4AEQu8N.jpg   \n",
       "2335    https://pbs.twimg.com/media/CT8g3BpUEAAuFjg.jpg   \n",
       "2336    https://pbs.twimg.com/media/CT8T1mtUwAA3aqm.jpg   \n",
       "2337    https://pbs.twimg.com/media/CT8QCd1WEAADXws.jpg   \n",
       "2338    https://pbs.twimg.com/media/CT56LSZWoAAlJj2.jpg   \n",
       "2339    https://pbs.twimg.com/media/CT54YGiWUAEZnoK.jpg   \n",
       "2340    https://pbs.twimg.com/media/CT51-JJUEAA6hV8.jpg   \n",
       "2341    https://pbs.twimg.com/media/CT5w9gUW4AAsBNN.jpg   \n",
       "2342    https://pbs.twimg.com/media/CT5m4VGWEAAtKc8.jpg   \n",
       "2343    https://pbs.twimg.com/media/CT5d9DZXAAALcwe.jpg   \n",
       "2344    https://pbs.twimg.com/media/CT5cN_3WEAAlOoZ.jpg   \n",
       "2345    https://pbs.twimg.com/media/CT5Vg_wXIAAXfnj.jpg   \n",
       "2346    https://pbs.twimg.com/media/CT5Qw94XAAA_2dP.jpg   \n",
       "2347    https://pbs.twimg.com/media/CT5PY90WoAAQGLo.jpg   \n",
       "2348    https://pbs.twimg.com/media/CT5N9tpXIAAifs1.jpg   \n",
       "2349    https://pbs.twimg.com/media/CT5KoJ1WoAAJash.jpg   \n",
       "2350    https://pbs.twimg.com/media/CT5Jof1WUAEuVxN.jpg   \n",
       "2351    https://pbs.twimg.com/media/CT5IQmsXIAAKY4A.jpg   \n",
       "2352    https://pbs.twimg.com/media/CT5Dr8HUEAA-lEu.jpg   \n",
       "2353    https://pbs.twimg.com/media/CT4521TWwAEvMyu.jpg   \n",
       "2354    https://pbs.twimg.com/media/CT42GRgUYAA5iDo.jpg   \n",
       "2355    https://pbs.twimg.com/media/CT4udn0WwAA0aMy.jpg   \n",
       "\n",
       "                 breed_prediction  breed_confidence  \\\n",
       "0                             NaN          0.000000   \n",
       "1                       Chihuahua          0.323581   \n",
       "2                       Chihuahua          0.716012   \n",
       "3              Labrador_retriever          0.168086   \n",
       "4                          basset          0.555712   \n",
       "5        Chesapeake_Bay_retriever          0.425595   \n",
       "6                     Appenzeller          0.341703   \n",
       "7                      Pomeranian          0.566142   \n",
       "8                   Irish_terrier          0.487574   \n",
       "9                        Pembroke          0.511319   \n",
       "10                        Samoyed          0.957979   \n",
       "11                 French_bulldog          0.377417   \n",
       "12                       Pembroke          0.966327   \n",
       "13                 French_bulldog          0.991650   \n",
       "14               golden_retriever          0.953442   \n",
       "15                        whippet          0.626152   \n",
       "16               golden_retriever          0.714719   \n",
       "17               golden_retriever          0.469760   \n",
       "18                 Siberian_husky          0.700377   \n",
       "20                 French_bulldog          0.995026   \n",
       "21                         basset          0.821664   \n",
       "22                            NaN          0.000000   \n",
       "23                       Pembroke          0.809197   \n",
       "24               Mexican_hairless          0.330741   \n",
       "25                        Samoyed          0.733942   \n",
       "26                      Chihuahua          0.793469   \n",
       "27                         kuvasz          0.309706   \n",
       "28                            NaN          0.000000   \n",
       "29                 French_bulldog          0.999201   \n",
       "31                            pug          0.943575   \n",
       "...                           ...               ...   \n",
       "2326                          NaN          0.000000   \n",
       "2327      black-and-tan_coonhound          0.529139   \n",
       "2328                    Chihuahua          0.978108   \n",
       "2329  soft-coated_wheaten_terrier          0.326467   \n",
       "2330                          NaN          0.000000   \n",
       "2331                     malamute          0.336874   \n",
       "2332             golden_retriever          0.858744   \n",
       "2333                 Newfoundland          0.278407   \n",
       "2334                          NaN          0.000000   \n",
       "2335                  Maltese_dog          0.857531   \n",
       "2336            Italian_greyhound          0.176053   \n",
       "2337                          NaN          0.000000   \n",
       "2338                          NaN          0.000000   \n",
       "2339               English_setter          0.298617   \n",
       "2340                        Lhasa          0.582330   \n",
       "2341                   bloodhound          0.195217   \n",
       "2342                          pug          0.489814   \n",
       "2343                 Walker_hound          0.260857   \n",
       "2344                Gordon_setter          0.503672   \n",
       "2345             golden_retriever          0.775930   \n",
       "2346             miniature_poodle          0.201493   \n",
       "2347             golden_retriever          0.007959   \n",
       "2348                         chow          0.692517   \n",
       "2349                          NaN          0.000000   \n",
       "2350         Bernese_mountain_dog          0.651137   \n",
       "2351           miniature_pinscher          0.560311   \n",
       "2352          Rhodesian_ridgeback          0.408143   \n",
       "2353              German_shepherd          0.596461   \n",
       "2354                      redbone          0.506826   \n",
       "2355       Welsh_springer_spaniel          0.465074   \n",
       "\n",
       "                     created_at  favorite_count  retweet_count  \n",
       "0     2017-08-01 16:23:56+00:00         36134.0         7695.0  \n",
       "1     2017-08-01 00:17:27+00:00         31153.0         5690.0  \n",
       "2     2017-07-31 00:18:03+00:00         23471.0         3774.0  \n",
       "3     2017-07-30 15:58:51+00:00         39399.0         7851.0  \n",
       "4     2017-07-29 16:00:24+00:00         37619.0         8466.0  \n",
       "5     2017-07-29 00:08:17+00:00         18958.0         2834.0  \n",
       "6     2017-07-28 16:27:12+00:00         11033.0         1846.0  \n",
       "7     2017-07-28 00:22:40+00:00         60832.0        17165.0  \n",
       "8     2017-07-27 16:25:51+00:00         26084.0         3907.0  \n",
       "9     2017-07-26 15:59:51+00:00         29824.0         6677.0  \n",
       "10    2017-07-26 00:31:25+00:00         28708.0         6664.0  \n",
       "11    2017-07-25 16:11:53+00:00         26116.0         4539.0  \n",
       "12    2017-07-25 01:55:32+00:00         44949.0         9102.0  \n",
       "13    2017-07-25 00:10:02+00:00         25300.0         4078.0  \n",
       "14    2017-07-24 17:02:04+00:00         14171.0         2052.0  \n",
       "15    2017-07-24 00:19:32+00:00         23579.0         4853.0  \n",
       "16    2017-07-23 00:22:39+00:00         27207.0         4093.0  \n",
       "17    2017-07-22 16:56:37+00:00         23931.0         3860.0  \n",
       "18    2017-07-22 00:23:06+00:00         18478.0         3169.0  \n",
       "20    2017-07-20 16:49:33+00:00         20379.0         3158.0  \n",
       "21    2017-07-19 16:06:48+00:00         28291.0         4905.0  \n",
       "22    2017-07-19 03:39:09+00:00         43388.0        10722.0  \n",
       "23    2017-07-19 00:47:34+00:00         64289.0        16370.0  \n",
       "24    2017-07-18 16:08:03+00:00         31485.0         9534.0  \n",
       "25    2017-07-18 00:07:08+00:00         28641.0         5429.0  \n",
       "26    2017-07-17 16:17:36+00:00         32660.0         6984.0  \n",
       "27    2017-07-16 23:58:41+00:00         11217.0         2929.0  \n",
       "28    2017-07-16 20:14:00+00:00         21025.0         4076.0  \n",
       "29    2017-07-15 23:25:31+00:00         19778.0         2884.0  \n",
       "31    2017-07-15 16:17:19+00:00         26180.0         5752.0  \n",
       "...                         ...             ...            ...  \n",
       "2326  2015-11-17 00:24:19+00:00           412.0          298.0  \n",
       "2327  2015-11-17 00:06:54+00:00           100.0           32.0  \n",
       "2328  2015-11-16 23:23:41+00:00           158.0           75.0  \n",
       "2329  2015-11-16 21:54:18+00:00           173.0           83.0  \n",
       "2330  2015-11-16 21:10:36+00:00           725.0          518.0  \n",
       "2331  2015-11-16 20:32:58+00:00           198.0           66.0  \n",
       "2332  2015-11-16 20:01:42+00:00           275.0          128.0  \n",
       "2333  2015-11-16 19:31:45+00:00           181.0           83.0  \n",
       "2334  2015-11-16 16:37:02+00:00           466.0          317.0  \n",
       "2335  2015-11-16 16:11:11+00:00           136.0           61.0  \n",
       "2336  2015-11-16 15:14:19+00:00           161.0           70.0  \n",
       "2337  2015-11-16 14:57:41+00:00            95.0           32.0  \n",
       "2338  2015-11-16 04:02:55+00:00         13613.0         5977.0  \n",
       "2339  2015-11-16 03:55:04+00:00            70.0           11.0  \n",
       "2340  2015-11-16 03:44:34+00:00           143.0           60.0  \n",
       "2341  2015-11-16 03:22:39+00:00           153.0           66.0  \n",
       "2342  2015-11-16 02:38:37+00:00           103.0           41.0  \n",
       "2343  2015-11-16 01:59:36+00:00           298.0          146.0  \n",
       "2344  2015-11-16 01:52:02+00:00           136.0           53.0  \n",
       "2345  2015-11-16 01:22:45+00:00           447.0          197.0  \n",
       "2346  2015-11-16 01:01:59+00:00           106.0           53.0  \n",
       "2347  2015-11-16 00:55:59+00:00           269.0          125.0  \n",
       "2348  2015-11-16 00:49:46+00:00           407.0          220.0  \n",
       "2349  2015-11-16 00:35:11+00:00          1124.0          775.0  \n",
       "2350  2015-11-16 00:30:50+00:00           124.0           51.0  \n",
       "2351  2015-11-16 00:24:50+00:00            96.0           40.0  \n",
       "2352  2015-11-16 00:04:52+00:00           272.0          131.0  \n",
       "2353  2015-11-15 23:21:54+00:00           112.0           41.0  \n",
       "2354  2015-11-15 23:05:30+00:00           121.0           42.0  \n",
       "2355  2015-11-15 22:32:08+00:00          2411.0          460.0  \n",
       "\n",
       "[1952 rows x 15 columns]"
      ]
     },
     "execution_count": 85,
     "metadata": {},
     "output_type": "execute_result"
    }
   ],
   "source": [
    "pd.read_csv('twitter_archive_master.csv')"
   ]
  },
  {
   "cell_type": "markdown",
   "metadata": {},
   "source": [
    "<a id='analyze'></a>\n",
    "## Analyzing and Visualizing Data"
   ]
  },
  {
   "cell_type": "markdown",
   "metadata": {},
   "source": [
    "### Seeing Relationship Between Variables"
   ]
  },
  {
   "cell_type": "code",
   "execution_count": 86,
   "metadata": {},
   "outputs": [
    {
     "data": {
      "image/png": "[encoded data removed]",
      "text/plain": [
       "<Figure size 864x864 with 2 Axes>"
      ]
     },
     "metadata": {
      "needs_background": "light"
     },
     "output_type": "display_data"
    }
   ],
   "source": [
    "# plotting heatmap\n",
    "fig, ax = plt.subplots(figsize=(12, 12))\n",
    "sns.heatmap(twitter_master[['source', \n",
    "                            'favorite_count',\n",
    "                            'retweet_count', \n",
    "                            'rating_numerator']].corr(), annot=True, linewidths=0.5, fmt='.1f', ax=ax, cmap=\"BuPu\")\n",
    "plt.title('Heatmap');"
   ]
  },
  {
   "cell_type": "markdown",
   "metadata": {},
   "source": [
    "**Observation**\n",
    "* A strong correlation between favourite_count and retweet_count. This means tweets that have more favorite count also has more retweet count.\n"
   ]
  },
  {
   "cell_type": "markdown",
   "metadata": {},
   "source": [
    "### Retweet and Favorite Count Overtime"
   ]
  },
  {
   "cell_type": "code",
   "execution_count": 109,
   "metadata": {},
   "outputs": [
    {
     "data": {
      "image/png": "[encoded data removed]",
      "text/plain": [
       "<Figure size 1440x720 with 1 Axes>"
      ]
     },
     "metadata": {
      "needs_background": "light"
     },
     "output_type": "display_data"
    }
   ],
   "source": [
    "fig, ax = plt.subplots(figsize=(20,10))\n",
    "\n",
    "date_count = pd.to_datetime(twitter_master[twitter_master.favorite_count < 10000].timestamp).dt.date\n",
    "\n",
    "plt.plot_date(date_count, twitter_master[twitter_master.favorite_count < 10000].retweet_count, color='c',label='Retweet Count')\n",
    "plt.plot_date(date_count, twitter_master[twitter_master.favorite_count < 10000].favorite_count, color='m', label='Favorite Count')\n",
    "plt.xlabel('Date', fontsize=15)\n",
    "plt.ylabel('Count', fontsize=15)\n",
    "plt.title('Retweet and Favourite Count Over Time', fontsize=15)\n",
    "plt.legend(fontsize=15)\n",
    "ax.xaxis.set_tick_params(rotation=90, labelsize=15)\n",
    "ax.yaxis.set_tick_params(labelsize=15)"
   ]
  },
  {
   "cell_type": "markdown",
   "metadata": {},
   "source": [
    "**Observation**\n",
    "- Over time retweet decreases and favorite count increases."
   ]
  },
  {
   "cell_type": "markdown",
   "metadata": {},
   "source": [
    "###  Most Tweeted Dog Breeds"
   ]
  },
  {
   "cell_type": "code",
   "execution_count": 88,
   "metadata": {},
   "outputs": [
    {
     "data": {
      "text/plain": [
       "NaN                   304\n",
       "golden_retriever      154\n",
       "Labrador_retriever    101\n",
       "Pembroke               94\n",
       "Chihuahua              90\n",
       "pug                    62\n",
       "toy_poodle             49\n",
       "chow                   47\n",
       "Samoyed                41\n",
       "Pomeranian             41\n",
       "Name: breed_prediction, dtype: int64"
      ]
     },
     "execution_count": 88,
     "metadata": {},
     "output_type": "execute_result"
    }
   ],
   "source": [
    "# top ten breed\n",
    "twitter_master['breed_prediction'].value_counts().nlargest(10)"
   ]
  },
  {
   "cell_type": "code",
   "execution_count": 89,
   "metadata": {},
   "outputs": [],
   "source": [
    "# 304 tweets where breed was identify\n",
    "twitter_master.loc[twitter_master['breed_prediction'] == 'NaN', 'breed_prediction'] = None"
   ]
  },
  {
   "cell_type": "code",
   "execution_count": 90,
   "metadata": {},
   "outputs": [
    {
     "data": {
      "text/plain": [
       "breed_prediction\n",
       "golden_retriever      154\n",
       "Labrador_retriever    101\n",
       "Pembroke               94\n",
       "Chihuahua              90\n",
       "pug                    62\n",
       "toy_poodle             49\n",
       "chow                   47\n",
       "Pomeranian             41\n",
       "Samoyed                41\n",
       "malamute               33\n",
       "Name: rating_numerator, dtype: int64"
      ]
     },
     "execution_count": 90,
     "metadata": {},
     "output_type": "execute_result"
    }
   ],
   "source": [
    "# most tweeted breed by ratings\n",
    "most_tweeted_breed = twitter_master.groupby('breed_prediction').count()['rating_numerator'].sort_values(ascending=False).nlargest(10)\n",
    "most_tweeted_breed"
   ]
  },
  {
   "cell_type": "code",
   "execution_count": 91,
   "metadata": {},
   "outputs": [
    {
     "data": {
      "image/png": "[encoded data removed]",
      "text/plain": [
       "<Figure size 1080x576 with 1 Axes>"
      ]
     },
     "metadata": {
      "needs_background": "light"
     },
     "output_type": "display_data"
    }
   ],
   "source": [
    "# Bar chart of top 10 breeds\n",
    "fig = plt.figure(figsize=(15,8))\n",
    "most_tweeted_breed.plot(kind='bar', color='c')\n",
    "plt.title(\"Top 10 Breeds Tweeted Most\", fontsize=15)\n",
    "plt.ylabel(\"Tweets\", fontsize=15)\n",
    "plt.xlabel(\"Dog Breeds\", fontsize=15);"
   ]
  },
  {
   "cell_type": "markdown",
   "metadata": {},
   "source": [
    "**Observation**\n",
    "- Golden retriever tweeted most about 155 tweets.\n",
    "- Malamute tweeted least about 35 tweets."
   ]
  },
  {
   "cell_type": "markdown",
   "metadata": {},
   "source": [
    "### Popular Dog Names"
   ]
  },
  {
   "cell_type": "code",
   "execution_count": 92,
   "metadata": {},
   "outputs": [],
   "source": [
    "twitter_master.loc[twitter_master['name'] == 'None', 'name'] = None"
   ]
  },
  {
   "cell_type": "code",
   "execution_count": 93,
   "metadata": {},
   "outputs": [],
   "source": [
    "top_dog_name = twitter_master['name'].value_counts()[:10]"
   ]
  },
  {
   "cell_type": "code",
   "execution_count": 94,
   "metadata": {},
   "outputs": [
    {
     "data": {
      "image/png": "[encoded data removed]",
      "text/plain": [
       "<Figure size 1008x576 with 1 Axes>"
      ]
     },
     "metadata": {
      "needs_background": "light"
     },
     "output_type": "display_data"
    }
   ],
   "source": [
    "# plotting bar chart of top 10 dog names\n",
    "top_dog_name.plot(kind='bar', figsize=(14,8), color='c')\n",
    "plt.title(\"Popular Dog Names\", fontsize=15)\n",
    "plt.xlabel(\"Dog Names\", fontsize=15);"
   ]
  },
  {
   "cell_type": "markdown",
   "metadata": {},
   "source": [
    "**Observation**\n",
    "- Popular dog name is Charlie."
   ]
  },
  {
   "cell_type": "markdown",
   "metadata": {},
   "source": [
    "### Distribution of Dog Stage"
   ]
  },
  {
   "cell_type": "code",
   "execution_count": 95,
   "metadata": {},
   "outputs": [
    {
     "data": {
      "text/plain": [
       "None       1650\n",
       "pupper      209\n",
       "doggo        62\n",
       "puppo        23\n",
       "floofer       8\n",
       "Name: dog_stage, dtype: int64"
      ]
     },
     "execution_count": 95,
     "metadata": {},
     "output_type": "execute_result"
    }
   ],
   "source": [
    "twitter_master['dog_stage'].value_counts()"
   ]
  },
  {
   "cell_type": "code",
   "execution_count": 96,
   "metadata": {},
   "outputs": [],
   "source": [
    "stage = twitter_master['dog_stage'].value_counts().head(4).index"
   ]
  },
  {
   "cell_type": "code",
   "execution_count": 97,
   "metadata": {},
   "outputs": [
    {
     "data": {
      "image/png": "[encoded data removed]",
      "text/plain": [
       "<Figure size 432x288 with 1 Axes>"
      ]
     },
     "metadata": {
      "needs_background": "light"
     },
     "output_type": "display_data"
    }
   ],
   "source": [
    "sns.countplot(data = twitter_master, x='dog_stage', order=stage, color='c')\n",
    "plt.xlabel('Dog Stages', fontsize=12)\n",
    "plt.ylabel('Count', fontsize=12)\n",
    "plt.title('Distribution of Dog Stages',fontsize=14);"
   ]
  },
  {
   "cell_type": "markdown",
   "metadata": {},
   "source": [
    "**Observation**\n",
    "- Most of the dog have 'pupper' dog stage. This is because small dogs looks cute and loved more.\n",
    "- Note most of the dog don't have dog stage."
   ]
  },
  {
   "cell_type": "markdown",
   "metadata": {},
   "source": [
    "### Distribution of Tweet Source "
   ]
  },
  {
   "cell_type": "code",
   "execution_count": 98,
   "metadata": {},
   "outputs": [
    {
     "data": {
      "text/plain": [
       "iphone       1914\n",
       "web            28\n",
       "tweetdeck      10\n",
       "Name: source, dtype: int64"
      ]
     },
     "execution_count": 98,
     "metadata": {},
     "output_type": "execute_result"
    }
   ],
   "source": [
    "twitter_master['source'].value_counts()"
   ]
  },
  {
   "cell_type": "code",
   "execution_count": 99,
   "metadata": {},
   "outputs": [
    {
     "data": {
      "text/plain": [
       "Index(['iphone', 'web', 'tweetdeck'], dtype='object')"
      ]
     },
     "execution_count": 99,
     "metadata": {},
     "output_type": "execute_result"
    }
   ],
   "source": [
    "twitter_master['source'].value_counts().index"
   ]
  },
  {
   "cell_type": "code",
   "execution_count": 100,
   "metadata": {},
   "outputs": [
    {
     "data": {
      "image/png": "[encoded data removed]",
      "text/plain": [
       "<Figure size 432x288 with 1 Axes>"
      ]
     },
     "metadata": {
      "needs_background": "light"
     },
     "output_type": "display_data"
    }
   ],
   "source": [
    "sns.countplot(data=twitter_master, x='source', color='c');"
   ]
  },
  {
   "cell_type": "markdown",
   "metadata": {},
   "source": [
    "**Observation**\n",
    "- Most of the tweets were done through iphone.\n",
    "- Very small amount of tweets done from web app and tweet deck."
   ]
  },
  {
   "cell_type": "markdown",
   "metadata": {},
   "source": [
    "### Most Rated Dog Breeds"
   ]
  },
  {
   "cell_type": "code",
   "execution_count": 101,
   "metadata": {},
   "outputs": [],
   "source": [
    "breed_count = twitter_master['breed_prediction'].value_counts()\n",
    "\n",
    "# dataframe which includes dog breeds with at least 10 counts\n",
    "df1 = twitter_master[twitter_master['breed_prediction'].isin(breed_count[breed_count > 9].index)]"
   ]
  },
  {
   "cell_type": "code",
   "execution_count": 102,
   "metadata": {},
   "outputs": [],
   "source": [
    "# removing outliers\n",
    "df2 = df1[df1['rating_numerator'] <= 14]"
   ]
  },
  {
   "cell_type": "code",
   "execution_count": 103,
   "metadata": {},
   "outputs": [
    {
     "data": {
      "text/plain": [
       "breed_prediction\n",
       "Samoyed                 11.731707\n",
       "golden_retriever        11.626623\n",
       "Great_Pyrenees          11.428571\n",
       "Pembroke                11.425532\n",
       "Eskimo_dog              11.409091\n",
       "chow                    11.404255\n",
       "cocker_spaniel          11.333333\n",
       "kelpie                  11.307692\n",
       "Siberian_husky          11.300000\n",
       "Bernese_mountain_dog    11.272727\n",
       "Labrador_retriever      11.168317\n",
       "French_bulldog          11.166667\n",
       "Cardigan                11.142857\n",
       "Blenheim_spaniel        11.100000\n",
       "Pekinese                11.000000\n",
       "German_shepherd         11.000000\n",
       "Rottweiler              11.000000\n",
       "toy_poodle              10.979592\n",
       "Pomeranian              10.975000\n",
       "schipperke              10.923077\n",
       "Name: rating_numerator, dtype: float64"
      ]
     },
     "execution_count": 103,
     "metadata": {},
     "output_type": "execute_result"
    }
   ],
   "source": [
    "# top 20 most rated dog breed\n",
    "most_rated_breed = df2.groupby('breed_prediction')['rating_numerator'].mean().sort_values(ascending=False).nlargest(20)\n",
    "\n",
    "most_rated_breed"
   ]
  },
  {
   "cell_type": "code",
   "execution_count": 104,
   "metadata": {},
   "outputs": [
    {
     "data": {
      "image/png": "[encoded data removed]",
      "text/plain": [
       "<Figure size 1080x576 with 1 Axes>"
      ]
     },
     "metadata": {
      "needs_background": "light"
     },
     "output_type": "display_data"
    }
   ],
   "source": [
    "# plotting bar chart of top 20 most rated dog breed \n",
    "fig = plt.figure(figsize=(15,8))\n",
    "most_rated_breed.plot(kind='bar', color='c')\n",
    "plt.title(\"Top 20 Most Rated Dog Breed\", fontsize=15)\n",
    "plt.ylabel(\"Average Rating\", fontsize=15)\n",
    "plt.xlabel(\"Dog Breed\", fontsize=15)\n",
    "plt.ylim(10,12);"
   ]
  },
  {
   "cell_type": "markdown",
   "metadata": {},
   "source": [
    "**Observation**\n",
    "-  Most rated dog breed are Samoyed, Golden_Retriever, Great_Pyrenees and Pembroke."
   ]
  },
  {
   "cell_type": "markdown",
   "metadata": {},
   "source": [
    "### Dog Breed With Most Favorite Count"
   ]
  },
  {
   "cell_type": "code",
   "execution_count": 105,
   "metadata": {},
   "outputs": [],
   "source": [
    "fav_sum = df2.groupby('breed_prediction')['favorite_count'].sum()"
   ]
  },
  {
   "cell_type": "code",
   "execution_count": 106,
   "metadata": {},
   "outputs": [],
   "source": [
    "fav_count = df2.groupby('breed_prediction')['favorite_count'].count()"
   ]
  },
  {
   "cell_type": "code",
   "execution_count": 107,
   "metadata": {},
   "outputs": [
    {
     "data": {
      "text/plain": [
       "breed_prediction\n",
       "French_bulldog                    18724.0\n",
       "whippet                           13481.0\n",
       "English_springer                  12954.0\n",
       "standard_poodle                   12760.0\n",
       "cocker_spaniel                    12599.0\n",
       "Samoyed                           12565.0\n",
       "Great_Pyrenees                    11885.0\n",
       "Eskimo_dog                        11847.0\n",
       "Cardigan                          11697.0\n",
       "golden_retriever                  11633.0\n",
       "Lakeland_terrier                  11557.0\n",
       "Labrador_retriever                10969.0\n",
       "basset                            10770.0\n",
       "Pembroke                          10291.0\n",
       "Norwegian_elkhound                10270.0\n",
       "malamute                           9887.0\n",
       "German_shepherd                    9438.0\n",
       "kelpie                             9367.0\n",
       "Chesapeake_Bay_retriever           9185.0\n",
       "chow                               8811.0\n",
       "Blenheim_spaniel                   8457.0\n",
       "Border_collie                      8185.0\n",
       "Chihuahua                          7955.0\n",
       "boxer                              7901.0\n",
       "Shetland_sheepdog                  7807.0\n",
       "American_Staffordshire_terrier     7705.0\n",
       "schipperke                         7702.0\n",
       "Italian_greyhound                  7609.0\n",
       "miniature_pinscher                 7548.0\n",
       "Staffordshire_bullterrier          7274.0\n",
       "Rottweiler                         7067.0\n",
       "Pomeranian                         6902.0\n",
       "Old_English_sheepdog               6844.0\n",
       "vizsla                             6831.0\n",
       "Bernese_mountain_dog               6664.0\n",
       "Siberian_husky                     6387.0\n",
       "collie                             6345.0\n",
       "Pekinese                           6272.0\n",
       "toy_poodle                         6013.0\n",
       "Great_Dane                         5798.0\n",
       "pug                                5630.0\n",
       "malinois                           5165.0\n",
       "West_Highland_white_terrier        5093.0\n",
       "kuvasz                             4954.0\n",
       "Boston_bull                        4828.0\n",
       "Airedale                           4815.0\n",
       "dalmatian                          4710.0\n",
       "Yorkshire_terrier                  4179.0\n",
       "beagle                             3996.0\n",
       "Shih-Tzu                           3259.0\n",
       "soft-coated_wheaten_terrier        3121.0\n",
       "Maltese_dog                        2674.0\n",
       "Name: favorite_count, dtype: float64"
      ]
     },
     "execution_count": 107,
     "metadata": {},
     "output_type": "execute_result"
    }
   ],
   "source": [
    "# favorite count per tweet for each dog breed\n",
    "fav_breed = round(fav_sum / fav_count, 0)\n",
    "\n",
    "fav_breed.sort_values(ascending=False)"
   ]
  },
  {
   "cell_type": "code",
   "execution_count": 108,
   "metadata": {},
   "outputs": [
    {
     "data": {
      "image/png": "[encoded data removed]",
      "text/plain": [
       "<Figure size 1080x576 with 1 Axes>"
      ]
     },
     "metadata": {
      "needs_background": "light"
     },
     "output_type": "display_data"
    }
   ],
   "source": [
    "# plotting bar chart of top 20 most liked dog breed \n",
    "fig = plt.figure(figsize=(15,8))\n",
    "fav_breed.sort_values(ascending=False).nlargest(20).plot(kind='bar', color='c')\n",
    "plt.title(\"Top 20 Most Favorite Count Dog Breed\", fontsize=18)\n",
    "plt.ylabel(\"Favorite Count per Tweet\", fontsize=15)\n",
    "plt.xlabel(\"Dog Breed\", fontsize=15);"
   ]
  },
  {
   "cell_type": "markdown",
   "metadata": {},
   "source": [
    "**Observation**\n",
    "- Most favorite count dog breed is French Bulldog."
   ]
  }
 ],
 "metadata": {
  "kernelspec": {
   "display_name": "Python 3",
   "language": "python",
   "name": "python3"
  },
  "language_info": {
   "codemirror_mode": {
    "name": "ipython",
    "version": 3
   },
   "file_extension": ".py",
   "mimetype": "text/x-python",
   "name": "python",
   "nbconvert_exporter": "python",
   "pygments_lexer": "ipython3",
   "version": "3.8.5"
  }
 },
 "nbformat": 4,
 "nbformat_minor": 2
}
